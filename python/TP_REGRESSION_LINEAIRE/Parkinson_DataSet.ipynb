{
 "cells": [
  {
   "cell_type": "markdown",
   "id": "7c43c4d6",
   "metadata": {},
   "source": [
    "# DEUXIEME PARTIE DU TP"
   ]
  },
  {
   "cell_type": "markdown",
   "id": "fb2f50f4",
   "metadata": {},
   "source": [
    "## THEME : Etude du jeu de données Parkinson_Speech"
   ]
  },
  {
   "cell_type": "markdown",
   "id": "a7669f30",
   "metadata": {},
   "source": [
    "## Importation des librairies"
   ]
  },
  {
   "cell_type": "code",
   "execution_count": null,
   "id": "45411f06",
   "metadata": {},
   "outputs": [],
   "source": [
    "import numpy as np\n",
    "import pandas as pd\n",
    "import matplotlib.pyplot as plt\n",
    "import seaborn as sns\n",
    "from sklearn.model_selection import train_test_split\n",
    "from sklearn.preprocessing import StandardScaler"
   ]
  },
  {
   "cell_type": "markdown",
   "id": "8debce0e",
   "metadata": {},
   "source": [
    "## Chargement des données"
   ]
  },
  {
   "cell_type": "code",
   "execution_count": null,
   "id": "8c1e09ff",
   "metadata": {},
   "outputs": [],
   "source": [
    "Parkinson_DF = pd.read_csv('train_data.txt', sep = ',', \n",
    "names=['Subject id','Jitter(local)','Jitter(local, absolute)','Jitter(rap)','Jitter(ppq5)','Jitter(ddp)',\n",
    "       'Shimmer(local)','Shimmer(local, dB)','Shimmer(apq3)','Shimmer(apq5)','Shimmer(apq11)','Shimmer(dda)',\n",
    "       'AC','NTH','HTN','Median pitch','Mean pitch','Standard deviation','Minimum pitch','Maximum pitch',\n",
    "       'Number of pulses','Number of periods','Mean period','Standard deviation of period',\n",
    "       'Fraction of locally unvoiced frames','Number of voice breaks','Degree of voice breaks',\n",
    "       'UPDRS','class information'])\n"
   ]
  },
  {
   "cell_type": "code",
   "execution_count": null,
   "id": "8f50ef16",
   "metadata": {},
   "outputs": [],
   "source": [
    "Parkinson_DF.head()"
   ]
  },
  {
   "cell_type": "markdown",
   "id": "e11b8f69",
   "metadata": {},
   "source": [
    "## Analyse statistique descriptive"
   ]
  },
  {
   "cell_type": "markdown",
   "id": "caa18ef8",
   "metadata": {},
   "source": [
    "Examinons les données brutes pour comprendre le nombre d'enregistrements, la structure du fichier, le nombre d'attributs, les types d'attributs et les défis probables dans l'ensemble de données. Nous ferons également quelques observations à ce sujet."
   ]
  },
  {
   "cell_type": "markdown",
   "id": "cf858dcc",
   "metadata": {},
   "source": [
    "### Profilage des donnees"
   ]
  },
  {
   "cell_type": "code",
   "execution_count": null,
   "id": "230d0691",
   "metadata": {},
   "outputs": [],
   "source": [
    "Parkinson_DF.info()"
   ]
  },
  {
   "cell_type": "markdown",
   "id": "6624e83f",
   "metadata": {},
   "source": [
    "- On peut s'apercevoir que le jeu de donnees ne presente pas de valeurs nulles.\n",
    "- on peut noter aussi que nous avons 1040 entrées dans notre DataSet\n",
    "- Nous avons 29 colonnes dont 23 de types float et 6 integer (valeur entière)\n",
    "- Nous n'avons pas de variables categoricielle\n",
    "\n",
    "L'ensemble de données contient les variables suivantes :\n",
    "\n",
    "Les variables numériques sont les suivantes :\n",
    "\n",
    "Subject id: Identification du sujet, Jitter(local),Jitter(local absolue),jitter(RAP),jitter(PPQ5),Jitter(DDP): se sont plusieurs mesures de la variation de la fréquence fondamentale.\n",
    "Shimmer(local),Shimmer(local,dB),Shimmer(APQ3),Shimmer(APQ5),Shimmer(APQ11),Shimmer(DDA) : Plusieurs mesures de la variation de l'amplitude.\n",
    "NHT, HNT :  Deux mesures du rapport entre le bruit et les composantes tonales de la voix.\n",
    "AC : Anticorps.\n",
    "Median pitch,Maximum pitch,Mean pitch,Minimum pitch,Standard deviation : Plusieurs mesure relatives à la pente \n",
    "Number of pulses,Number of periods,Mean period,Standard deviation of period: Plusieurs mesures de la periode \n",
    "Fraction of locally unvoiced frames: Mesure de la fraction des trames localement non voisées.\n",
    "Number of voice breaks, Degree of voice breaks: Deux mesures liées à la variation de la voix.\n",
    "class information : information relative à la classe du patient\n",
    "UPDRS :Unified Parkinson's Disease Rating Scale est notre variable cible"
   ]
  },
  {
   "cell_type": "code",
   "execution_count": null,
   "id": "92b73956",
   "metadata": {},
   "outputs": [],
   "source": [
    "dupes=Parkinson_DF.duplicated()"
   ]
  },
  {
   "cell_type": "code",
   "execution_count": null,
   "id": "0029a46e",
   "metadata": {},
   "outputs": [],
   "source": [
    "print('Le nombre de doublons dans lensemble de données est le suivant:',sum(dupes),'\\n','Il est donc évident quil n y a pas de doublons dans lensemble de données.')"
   ]
  },
  {
   "cell_type": "code",
   "execution_count": null,
   "id": "0c13d1b2",
   "metadata": {},
   "outputs": [],
   "source": [
    "Parkinson_DF.describe()"
   ]
  },
  {
   "cell_type": "markdown",
   "id": "197e6a93",
   "metadata": {},
   "source": [
    "Commentaire:\n",
    "\n",
    "- Pour les colonnes Maximum pitch, Number of pulses, Number of periods, on note une dispersion assez elevee des donnees par rapport à la moyenne.\n",
    "- Par rapport aux quartiles, la repartition des donnees est assez differentes selon les colonnes. En effet, pour les colonnes , Maximum pitch,Number_of_pulses, Number of pulses et Number of periods on note plus une repartition assez homogene des donnees sur q1, q2 et q3 avec une des proportions croissantes passant de q1 , q2 et q3. Pour d'autres colonnes comme Mean_period, Standard_deviation of period, Jitter(local, absolute),Jitter(rap),Jitter(ppq5) la tendance de la repartition est differentes des colonnes citées ci-dessus. \n",
    "- S'agissant de la moyenne, Il est notable de remarquer l'heterogeneité des échelles. En effet, les moyennes des colonnes du Dataset sont tres differentes : Ceci peut etre problematique durant la phase d'apprentissage ; ainsi, un travail de normalisation sera fait pour contourner ce probleme.\n",
    "\n"
   ]
  },
  {
   "cell_type": "code",
   "execution_count": null,
   "id": "b6aea160",
   "metadata": {},
   "outputs": [],
   "source": [
    "cname=Parkinson_DF.columns\n",
    "data_desc=Parkinson_DF.describe().T\n",
    "data_desc['Skewness']=round(Parkinson_DF[cname].skew(),4)\n",
    "pd.DataFrame(data_desc)"
   ]
  },
  {
   "cell_type": "markdown",
   "id": "17512631",
   "metadata": {},
   "source": [
    "Commentaire: \n",
    "Nous avons également ajouté une colonne d'asymétrie pour comprendre l'asymétrie de chaque attribut qui peut aussi être facilement comparée à la moyenne et à la médiane.\n",
    "Les données semblent être asymétriques pour Jitter(local), Jitter(local,absolu), jitter(RAP), jitter(PPQ5), Jitter(DDP), Shimmer(APQ3), NHR, Shimmer(dB); ce qui est également évident du fait que la moyenne et la médiane pour ces attributs sont assez éloignées. Il pourrait également y avoir des écarts potentiels que nous évaluerons plutard\n",
    "Pour les attributs : Shimmer (local), Shimmer(APQ3), Shimmer(APQ5), Shimmer(DDA) nous constatons qu'il y a une légère asymétrie."
   ]
  },
  {
   "cell_type": "markdown",
   "id": "4a2ea782",
   "metadata": {},
   "source": [
    "## Correlation des donnees"
   ]
  },
  {
   "cell_type": "code",
   "execution_count": null,
   "id": "46f1b1ab",
   "metadata": {},
   "outputs": [],
   "source": [
    "# verification de la correlation entres les variables independantes\n",
    "usecols =[i for i in Parkinson_DF.columns if i != ['Subject id ','UPDRS']]\n",
    "sns.pairplot(Parkinson_DF[usecols]);"
   ]
  },
  {
   "cell_type": "markdown",
   "id": "558614f2",
   "metadata": {},
   "source": [
    "- Commentaire : \n",
    "Compte tenu du nombre d'attributs tres important, le Pairplot est peu visible.Apparement, Il semble y avoir une corrélation entre les attributs mais il est difficile de l'identifier visuellement. Nous allons donc calculer la corrélation entre les variables."
   ]
  },
  {
   "cell_type": "code",
   "execution_count": null,
   "id": "a3e4547e",
   "metadata": {},
   "outputs": [],
   "source": [
    "correlation=Parkinson_DF[usecols].corr()\n",
    "fig, ax = plt.subplots(figsize=(20,20))\n",
    "sns.heatmap(correlation,annot=True,linewidth=0.05,ax=ax, fmt= '.2f');"
   ]
  },
  {
   "cell_type": "markdown",
   "id": "ff336422",
   "metadata": {},
   "source": [
    "Commentaire : \n",
    "- Il y a __29 attributs__ caracterisant les echantillons de nos sujet. Analysons l'ensemble des données. </br>Nous allons adopter l'approche permettant à analyser les attributs.</br>Nous allons effectuer les analyses suivantes sur les attributs qui nous semble pertinent (sauf l'id du sujet et le UPDRS - variable cible).\n",
    "\n",
    "\n",
    "- Vérification de l'asymétrie\n",
    "- Distributipn des donnés\n",
    "- Co-relation avec d'autres attributs\n",
    "\n",
    "Pour la variable cible :\n",
    "\n",
    "Comparaison entre l'UPDRS du sujet et d'autres attributs en utilisant différents tracés\n",
    "SUJET ID et class Information sont des attributs redondants, et puisqu'aucune analyse ne peut être effectuée sur ces variables et qu'il ne sont pas non plus pertinent pour le modèle. Nous comptons les supprimer de notre jeu de données."
   ]
  },
  {
   "cell_type": "markdown",
   "id": "59cf1a20",
   "metadata": {},
   "source": [
    "##### Epuration du jeu de données"
   ]
  },
  {
   "cell_type": "code",
   "execution_count": null,
   "id": "61de36f0",
   "metadata": {},
   "outputs": [],
   "source": [
    "Parkinson_DF=Parkinson_DF.drop('Subject id', axis=1)"
   ]
  },
  {
   "cell_type": "code",
   "execution_count": null,
   "id": "89dc1f2c",
   "metadata": {},
   "outputs": [],
   "source": [
    "Parkinson_DF.drop('class information', axis=1)"
   ]
  },
  {
   "cell_type": "code",
   "execution_count": null,
   "id": "796929b7",
   "metadata": {},
   "outputs": [],
   "source": [
    "#Verification de l'asymetrie\n",
    "Jitter(local),Jitter(local absolue),jitter(RAP),jitter(PPQ5),Jitter(DDP)"
   ]
  },
  {
   "cell_type": "code",
   "execution_count": null,
   "id": "bd923fd6",
   "metadata": {},
   "outputs": [],
   "source": [
    "Atr1='Shimmer(local)'\n",
    "Atr2='Shimmer(apq11)'\n",
    "Atr3='Shimmer(dda)'"
   ]
  },
  {
   "cell_type": "code",
   "execution_count": null,
   "id": "62013412",
   "metadata": {},
   "outputs": [],
   "source": [
    "Atr1_pt=Parkinson_DF.describe().loc[['min','25%','50%','75%','max'],[Atr1]]\n",
    "Atr2_pt=Parkinson_DF.describe().loc[['min','25%','50%','75%','max'],[Atr2]]\n",
    "Atr3_pt=Parkinson_DF.describe().loc[['min','25%','50%','75%','max'],[Atr3]]\n",
    "\n",
    "summ_ = pd.concat([Atr1_pt,Atr2_pt,Atr3_pt],axis=1,sort=False)\n",
    "\n",
    "print('resultat:','\\n','\\n',summ_)"
   ]
  },
  {
   "cell_type": "code",
   "execution_count": null,
   "id": "cfa85d95",
   "metadata": {},
   "outputs": [],
   "source": [
    "fig, ax = plt.subplots(1,3,figsize=(16,8)) \n",
    "sns.distplot(Parkinson_DF[Atr1],ax=ax[0]) \n",
    "sns.distplot(Parkinson_DF[Atr2],ax=ax[1])\n",
    "sns.distplot(Parkinson_DF[Atr3],ax=ax[2])"
   ]
  },
  {
   "cell_type": "markdown",
   "id": "a2bdc599",
   "metadata": {},
   "source": [
    "Commentaire :\n",
    "    Nous constatons une distribution assez homogenes des variables qui presentaient une asymetriques assez importante"
   ]
  },
  {
   "cell_type": "markdown",
   "id": "99a651ce",
   "metadata": {},
   "source": [
    "## Exploration des données\n",
    "\n",
    "#### Exploration uni-dimensionelle"
   ]
  },
  {
   "cell_type": "markdown",
   "id": "fa8cc9ee",
   "metadata": {},
   "source": [
    "# Data visualisation"
   ]
  },
  {
   "cell_type": "markdown",
   "id": "9a6a4446",
   "metadata": {},
   "source": [
    "##### Detection des outliers"
   ]
  },
  {
   "cell_type": "code",
   "execution_count": null,
   "id": "0e8b879e",
   "metadata": {},
   "outputs": [],
   "source": [
    "plt.figure(figsize=(25,5))\n",
    "plt.subplot(1,4,1)\n",
    "sns.boxplot(x='UPDRS',y='Jitter(local)', data=Parkinson_DF)\n",
    "plt.subplot(1,4,2)\n",
    "sns.boxplot(x='UPDRS',y='Jitter(local, absolute)', data=Parkinson_DF)\n",
    "plt.subplot(1,4,3)\n",
    "sns.boxplot(x='UPDRS',y='Jitter(rap)', data=Parkinson_DF)\n",
    "plt.subplot(1,4,4)\n",
    "sns.boxplot(x='UPDRS',y='Jitter(ddp)', data=Parkinson_DF);"
   ]
  },
  {
   "cell_type": "markdown",
   "id": "6ffef91c",
   "metadata": {},
   "source": [
    "commentaire :\n",
    "On voit que la plus part des variables (Jitter(local),Jitter(local absolue),jitter(RAP),jitter(PPQ5),Jitter(DDP) ) qui mesurent la variation de la fréquence fondamentale presentent des valeurs aberrentes."
   ]
  },
  {
   "cell_type": "code",
   "execution_count": null,
   "id": "6ab2613e",
   "metadata": {},
   "outputs": [],
   "source": [
    "import matplotlib.pyplot as plt\n",
    "\n",
    "fig, axs = plt.subplots(nrows = 4, ncols = 4)\n",
    "\n",
    "i_name = 0\n",
    "            \n",
    "for i in range(4):\n",
    "    for j in range(4):\n",
    "            i_name = i_name+1\n",
    "            name_col = Parkinson_DF.columns[i_name]\n",
    "            axs[i, j].hist(Parkinson_DF[name_col])\n",
    "            axs[i, j].set_title(name_col)\n",
    "\n",
    "fig.tight_layout()\n",
    "plt.show()"
   ]
  },
  {
   "cell_type": "markdown",
   "id": "23c3364d",
   "metadata": {},
   "source": [
    "commentaire:\n",
    "on constate une distribution heterogene des données"
   ]
  },
  {
   "cell_type": "code",
   "execution_count": null,
   "id": "0435c2ab",
   "metadata": {},
   "outputs": [],
   "source": [
    "AtrNTH='NTH'\n",
    "Atr2HTN='HTN'\n",
    "\n",
    "fig, ax = plt.subplots(1,2,figsize=(16,8))\n",
    "sns.boxplot(x='UPDRS',y=AtrNTH,data=Parkinson_DF,ax=ax[0])\n",
    "sns.boxplot(x='UPDRS',y=Atr2HTN,data=Parkinson_DF,ax=ax[1])"
   ]
  },
  {
   "cell_type": "markdown",
   "id": "0fb59419",
   "metadata": {},
   "source": [
    "commentaire:\n",
    "on constate une distribution des données abberentes plus importante sur le HTN par rapport au score UPDRS"
   ]
  },
  {
   "cell_type": "markdown",
   "id": "3180aa06",
   "metadata": {},
   "source": [
    "### Transformation des données"
   ]
  },
  {
   "cell_type": "code",
   "execution_count": null,
   "id": "e9a123c4",
   "metadata": {},
   "outputs": [],
   "source": [
    "from math import sqrt, log\n",
    "\n",
    "Parkinson_DF[\"Jitter(local, absolute)\"] = Parkinson_DF[\"Jitter(local, absolute)\"].map(lambda x: sqrt(x))\n",
    "Parkinson_DF[\"Jitter(ppq5)\"] = Parkinson_DF[\"Jitter(ppq5)\"].map(lambda x: log(x))\n",
    "Parkinson_DF[\"Shimmer(apq5)\"] = Parkinson_DF[\"Shimmer(apq5)\"].map(lambda x: log(x))"
   ]
  },
  {
   "cell_type": "code",
   "execution_count": null,
   "id": "044b00db",
   "metadata": {
    "scrolled": true
   },
   "outputs": [],
   "source": [
    "Parkinson_DF.head()"
   ]
  },
  {
   "cell_type": "code",
   "execution_count": null,
   "id": "6cafa5cd",
   "metadata": {},
   "outputs": [],
   "source": [
    "from pandas.plotting import scatter_matrix\n",
    "\n",
    "scatter_matrix(Parkinson_DF[['Jitter(local)','Jitter(local, absolute)','Jitter(rap)','Jitter(ppq5)','Jitter(ddp)',\n",
    "       'Shimmer(local)','Shimmer(local, dB)','Shimmer(apq3)','Shimmer(apq5)','Shimmer(apq11)','Shimmer(dda)',\n",
    "       'AC','NTH','HTN','Median pitch','Mean pitch','Standard deviation','Minimum pitch','Maximum pitch',\n",
    "       'Number of pulses','Number of periods','Mean period','Standard deviation of period',\n",
    "       'Fraction of locally unvoiced frames','Number of voice breaks','Degree of voice breaks',\n",
    "       'UPDRS']], alpha=0.2, figsize=(15, 15), diagonal='kde')\n",
    "plt.show()"
   ]
  },
  {
   "cell_type": "markdown",
   "id": "db694924",
   "metadata": {},
   "source": [
    "# Apprentissage du modele "
   ]
  },
  {
   "cell_type": "markdown",
   "id": "fcdce35b",
   "metadata": {},
   "source": [
    "### Création de l'ensemble d'apprentissage / validation et de l'ensemble de test"
   ]
  },
  {
   "cell_type": "code",
   "execution_count": null,
   "id": "b4116557",
   "metadata": {},
   "outputs": [],
   "source": [
    "Parkinson_DF=Parkinson_DF.drop('class information', axis=1)"
   ]
  },
  {
   "cell_type": "code",
   "execution_count": null,
   "id": "9a29f02d",
   "metadata": {},
   "outputs": [],
   "source": [
    "X = Parkinson_DF.drop('UPDRS', axis=1)\n",
    "Y = Parkinson_DF['UPDRS']"
   ]
  },
  {
   "cell_type": "code",
   "execution_count": null,
   "id": "5f13921d",
   "metadata": {},
   "outputs": [],
   "source": [
    "X.head()"
   ]
  },
  {
   "cell_type": "code",
   "execution_count": null,
   "id": "0f2c3674",
   "metadata": {},
   "outputs": [],
   "source": [
    "Y.head()"
   ]
  },
  {
   "cell_type": "code",
   "execution_count": null,
   "id": "af9028b6",
   "metadata": {},
   "outputs": [],
   "source": [
    "from sklearn.model_selection import train_test_split  \n",
    "from sklearn.preprocessing import StandardScaler  \n",
    "\n",
    "X_1, X_2, Y_1, Y_2 = train_test_split(X, Y, train_size = 0.8, test_size = 0.2, random_state = 1)\n",
    "\n",
    "X_av = X_1.to_numpy()\n",
    "X_t = X_2.to_numpy()\n",
    "Y_av = np.transpose([Y_1.to_numpy()])\n",
    "Y_t = np.transpose([Y_2.to_numpy()])"
   ]
  },
  {
   "cell_type": "markdown",
   "id": "92107420",
   "metadata": {},
   "source": [
    "## 1. Régression linéaire ordinaire"
   ]
  },
  {
   "cell_type": "code",
   "execution_count": null,
   "id": "63b8be53",
   "metadata": {},
   "outputs": [],
   "source": [
    "from sklearn import linear_model\n",
    "import matplotlib.pyplot as plt\n",
    "from sklearn.metrics import mean_squared_error\n",
    "from sklearn.metrics import r2_score"
   ]
  },
  {
   "cell_type": "code",
   "execution_count": null,
   "id": "4aa3ca10",
   "metadata": {},
   "outputs": [],
   "source": [
    "# instanciation de mon regression lineaire\n",
    "reg_lin = linear_model.LinearRegression()\n",
    "reg_app = reg_lin.fit(X_av, Y_av)\n",
    "Y_reg_pred_test = reg_lin.predict(X_t)\n",
    "\n",
    "\n",
    "print(\"Coefficient de régression Lineaire : \\n\", reg_lin.coef_)\n",
    "print()\n",
    "\n",
    "print(\"Erreur quadratique (TestingSet) : %.2f\" % mean_squared_error(Y_t, Y_reg_pred_test))\n",
    "print(\"Coefficient de détermination (TestingSet) : %.2f\" % r2_score(Y_t, Y_reg_pred_test))"
   ]
  },
  {
   "cell_type": "code",
   "execution_count": null,
   "id": "871ca3f4",
   "metadata": {},
   "outputs": [],
   "source": [
    "coef = pd.Series(reg_app.coef_[0], index =  X.columns)\n",
    "imp_coef = coef.sort_values()\n",
    "plt.rcParams['figure.figsize'] = (8.0, 10.0)\n",
    "imp_coef.plot(kind = \"barh\")\n",
    "plt.title(\"regression lineaire\")\n",
    "plt.show()"
   ]
  },
  {
   "cell_type": "code",
   "execution_count": null,
   "id": "562c471b",
   "metadata": {},
   "outputs": [],
   "source": []
  },
  {
   "cell_type": "markdown",
   "id": "97ea3e9f",
   "metadata": {},
   "source": [
    "##  Régression linéaire pénalisée : Ridge"
   ]
  },
  {
   "cell_type": "markdown",
   "id": "56cf92fd",
   "metadata": {},
   "source": [
    "### validation-croisée pour la sélection de alpha"
   ]
  },
  {
   "cell_type": "code",
   "execution_count": null,
   "id": "b8fa0809",
   "metadata": {},
   "outputs": [],
   "source": [
    "from sklearn.linear_model import Ridge\n",
    "from sklearn.model_selection import GridSearchCV"
   ]
  },
  {
   "cell_type": "code",
   "execution_count": null,
   "id": "58415a9a",
   "metadata": {},
   "outputs": [],
   "source": [
    "#Instanciation du model\n",
    "ridge_reg = linear_model.Ridge()\n",
    "\n",
    "#definition des valeur de alpha\n",
    "params_Ridge = {'alpha': [10, 1, 0.1, 0.01, 0.001, 0.0001] , \"fit_intercept\": [True, False]}\n",
    "\n",
    "\n",
    "#Recherche de meilleur parametre\n",
    "Ridge_GS = GridSearchCV(ridge_reg,\n",
    "                        param_grid=params_Ridge,\n",
    "                       )\n",
    "#Apprentissage du model\n",
    "ridge = Ridge_GS.fit(X_av,Y_av)\n",
    "\n",
    "scores = Ridge_GS.cv_results_[\"mean_test_score\"]\n",
    "scores_std = Ridge_GS.cv_results_[\"std_test_score\"]\n",
    "\n",
    "print(\"Résultats de la validation Croisé sur l'ensemble des paramètres:\")   \n",
    "print(\"Meilleurs paramètres alpha:\")\n",
    "print(Ridge_GS.best_params_)"
   ]
  },
  {
   "cell_type": "code",
   "execution_count": null,
   "id": "25bf3841",
   "metadata": {},
   "outputs": [],
   "source": [
    "scores_std"
   ]
  },
  {
   "cell_type": "code",
   "execution_count": null,
   "id": "41cde645",
   "metadata": {},
   "outputs": [],
   "source": [
    "scores"
   ]
  },
  {
   "cell_type": "code",
   "execution_count": null,
   "id": "a3288ed4",
   "metadata": {},
   "outputs": [],
   "source": [
    "new_best_model = Ridge_GS.best_estimator_"
   ]
  },
  {
   "cell_type": "code",
   "execution_count": null,
   "id": "b8523053",
   "metadata": {},
   "outputs": [],
   "source": [
    "New_Y_t_pred = new_best_model.predict(X_t)"
   ]
  },
  {
   "cell_type": "code",
   "execution_count": null,
   "id": "1a80007e",
   "metadata": {},
   "outputs": [],
   "source": [
    "print(\"Erreur quadratique (TestingSet) : %.2f\" % mean_squared_error(Y_t, New_Y_t_pred))\n",
    "print(\"Coefficient de détermination (TestingSet) : %.2f\" % r2_score(Y_t, New_Y_t_pred))"
   ]
  },
  {
   "cell_type": "markdown",
   "id": "dc62ac6c",
   "metadata": {},
   "source": [
    "## Régression linéaire pénalisée : Lasso"
   ]
  },
  {
   "cell_type": "code",
   "execution_count": null,
   "id": "b7ca8cbe",
   "metadata": {},
   "outputs": [],
   "source": [
    "from sklearn import datasets\n",
    "from sklearn.linear_model import LassoCV\n",
    "from sklearn.linear_model import Lasso\n",
    "from sklearn.model_selection import GridSearchCV"
   ]
  },
  {
   "cell_type": "code",
   "execution_count": null,
   "id": "cf7ae326",
   "metadata": {},
   "outputs": [],
   "source": [
    "lasso = linear_model.Lasso()\n",
    "\n",
    "#definition des valeur de alpha\n",
    "params_Lasso = {'alpha': [10, 1, 0.1, 0.01, 0.001, 0.0001] , \"fit_intercept\": [True, False]}\n",
    "\n",
    "\n",
    "#Recherche de meilleur parametre\n",
    "Lasso_GS = GridSearchCV(lasso,\n",
    "                        param_grid=params_Lasso,\n",
    "                       )\n",
    "#Apprentissage du model\n",
    "lasso = Lasso_GS.fit(X_av, Y_av)\n",
    "\n",
    "scores = Lasso_GS.cv_results_[\"mean_test_score\"]\n",
    "scores_std = Lasso_GS.cv_results_[\"std_test_score\"]\n",
    "\n",
    "print(\"Résultats de la validation Croisé (Lasso) sur l'ensemble des paramètres:\")   \n",
    "print(\"Meilleurs paramètres alpha du Lasso :\")\n",
    "print(Lasso_GS.best_params_)"
   ]
  },
  {
   "cell_type": "code",
   "execution_count": null,
   "id": "dc8f4ee6",
   "metadata": {},
   "outputs": [],
   "source": [
    "best_model = Lasso_GS.best_estimator_"
   ]
  },
  {
   "cell_type": "code",
   "execution_count": null,
   "id": "1cd88f05",
   "metadata": {},
   "outputs": [],
   "source": [
    "Y_t_pred = best_model.predict(X_t)"
   ]
  },
  {
   "cell_type": "code",
   "execution_count": null,
   "id": "6cffb2f2",
   "metadata": {},
   "outputs": [],
   "source": [
    "print(\"Erreur quadratique (TestingSet) : %.2f\" % mean_squared_error(Y_t, Y_t_pred))\n",
    "print(\"Coefficient de détermination (TestingSet) : %.2f\" % r2_score(Y_t, Y_t_pred))"
   ]
  }
 ],
 "metadata": {
  "kernelspec": {
   "display_name": "Python 3",
   "language": "python",
   "name": "python3"
  },
  "language_info": {
   "codemirror_mode": {
    "name": "ipython",
    "version": 3
   },
   "file_extension": ".py",
   "mimetype": "text/x-python",
   "name": "python",
   "nbconvert_exporter": "python",
   "pygments_lexer": "ipython3",
   "version": "3.8.8"
  }
 },
 "nbformat": 4,
 "nbformat_minor": 5
}
