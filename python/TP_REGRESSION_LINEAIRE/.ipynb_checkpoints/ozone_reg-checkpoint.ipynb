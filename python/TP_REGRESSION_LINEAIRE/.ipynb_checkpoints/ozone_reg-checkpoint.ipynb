{
 "cells": [
  {
   "cell_type": "markdown",
   "id": "e4ac771a",
   "metadata": {},
   "source": [
    "# TP de régression linéaire\n",
    "\n",
    "**Crédits.** Ce TP est largement inspiré du scénario disponible sur Wikistat.\n",
    "\n",
    "## 1. Introduction\n",
    "\n",
    "### Objectif\n",
    "\n",
    "L'objectif est d'améliorer la prévision déterministe (MOCAGE), calculée par les services de Météo France, de la concentration d'ozone dans certaines stations de prélèvement. Il s'agit d'un problème dit d'adaptation statistique ou post-traitement d'une prévision locale de modèles à trop grande échelle en s'aidant d'autre variables également gérées par MétéoFrance, mais à plus petite échelle (température, force du vent, etc.).\n",
    "\n",
    "### Description des données \n",
    "Les données ont été extraites et mises en forme par le service concerné de Météo France. Elles sont décrites par les variables suivantes:\n",
    "- JOUR : Type de jour (férié (1) ou pas (0) ;\n",
    "- O3obs : Concentration d'ozone effectivement observée le lendemain à 17h locales correspondant souvent au maximum de pollution observée ;\n",
    "- MOCAGE : Prévision de cette pollution obtenue par un modèle déterministe de mécanique des fluides (équation de Navier et Stockes);\n",
    "- TEMPE : Température prévue par MétéoFrance pour le lendemain 17h ;\n",
    "- RMH2O : Rapport d'humidité ;\n",
    "- NO2 : Concentration en dioxyde d'azote ;\n",
    "- NO : Concentration en monoxyde d'azote ;\n",
    "- STATION : Lieu de l'observation (Aix-en-Provence, Rambouillet, Munchhausen, Cadarache et Plan de Cuques) ;\n",
    "- VentMOD : Force du vent ;\n",
    "- VentANG : Orientation du vent.\n",
    "\n",
    "Ce sont des données bien codées et de petite taille. Elles présentent avant tout un caractère pédagogique.\n",
    "\n",
    "\n",
    "## 2. Prise en main des données\n",
    "\n",
    "Afin de charger et d'étudier les données, nous allons utiliser la librairie pandas pour bénéficier de la classe DataFrame.\n",
    "\n",
    "\n",
    "### 2.1. Chargement des données"
   ]
  },
  {
   "cell_type": "code",
   "execution_count": null,
   "id": "545cb591",
   "metadata": {
    "scrolled": true
   },
   "outputs": [],
   "source": [
    "import pandas as pd\n",
    "import numpy as np\n",
    "from math import sqrt, log\n",
    "\n",
    "# chargement des données\n",
    "Ozone_DF = pd.read_csv('depSeuil.csv', sep = ',', header = 0)\n",
    "\n",
    "# typage des données\n",
    "Ozone_DF[\"STATION\"] = pd.Categorical(Ozone_DF[\"STATION\"], ordered = False)\n",
    "Ozone_DF[\"JOUR\"] = pd.Categorical(Ozone_DF[\"JOUR\"], ordered = False)\n",
    "Ozone_DF[\"O3obs\"] = pd.DataFrame(Ozone_DF[\"O3obs\"], dtype = float)\n",
    "\n",
    "Ozone_DF.dtypes\n",
    "Ozone_DF.head()"
   ]
  },
  {
   "cell_type": "markdown",
   "id": "39a4a8d8",
   "metadata": {},
   "source": [
    "### 2.2. Exploration des données\n",
    "\n",
    "#### Exploration uni-dimensionelle"
   ]
  },
  {
   "cell_type": "code",
   "execution_count": null,
   "id": "bda3aa9f",
   "metadata": {},
   "outputs": [],
   "source": [
    "import matplotlib.pyplot as plt\n",
    "\n",
    "fig, axs = plt.subplots(nrows = 3, ncols = 3)\n",
    "\n",
    "i_name = 0\n",
    "            \n",
    "for i in range(3):\n",
    "    for j in range(3):\n",
    "            i_name = i_name+1\n",
    "            name_col = Ozone_DF.columns[i_name]\n",
    "            axs[i, j].hist(Ozone_DF[name_col])\n",
    "            axs[i, j].set_title(name_col)\n",
    "\n",
    "fig.tight_layout()\n",
    "plt.show()"
   ]
  },
  {
   "cell_type": "markdown",
   "id": "6ece661f",
   "metadata": {},
   "source": [
    "#### Transformation du jeu de données"
   ]
  },
  {
   "cell_type": "code",
   "execution_count": null,
   "id": "44b91a80",
   "metadata": {},
   "outputs": [],
   "source": [
    "from math import sqrt, log\n",
    "\n",
    "Ozone_DF[\"SRMH2O\"] = Ozone_DF[\"RMH2O\"].map(lambda x: sqrt(x))\n",
    "Ozone_DF[\"LNO2\"] = Ozone_DF[\"NO2\"].map(lambda x: log(x))\n",
    "Ozone_DF[\"LNO\"] = Ozone_DF[\"NO\"].map(lambda x: log(x))\n",
    "del Ozone_DF[\"RMH2O\"]\n",
    "del Ozone_DF[\"NO2\"]\n",
    "del Ozone_DF[\"NO\"]"
   ]
  },
  {
   "cell_type": "markdown",
   "id": "ca4049d1",
   "metadata": {},
   "source": [
    "**Question.** Quelles sont les transformations appliquées ci-dessus, et dans quel but ?"
   ]
  },
  {
   "cell_type": "code",
   "execution_count": null,
   "id": "03d1ac7d",
   "metadata": {},
   "outputs": [],
   "source": [
    "Ozone_Dum = pd.get_dummies(Ozone_DF[[\"JOUR\", \"STATION\"]])\n",
    "del Ozone_Dum[\"JOUR_0\"]\n",
    "\n",
    "Ozone_Quant = Ozone_DF[[\"MOCAGE\", \"TEMPE\", \"VentMOD\", \"VentANG\", \"SRMH2O\", \"LNO2\", \"LNO\"]]"
   ]
  },
  {
   "cell_type": "markdown",
   "id": "b73bb6e0",
   "metadata": {},
   "source": [
    "**Question.** Quelles sont les transformations appliquées ci-dessus, et dans quel but ?\n",
    "\n",
    "#### Exploration multi-dimensionnelle"
   ]
  },
  {
   "cell_type": "code",
   "execution_count": null,
   "id": "5b14ef75",
   "metadata": {
    "scrolled": true
   },
   "outputs": [],
   "source": [
    "from pandas.plotting import scatter_matrix\n",
    "\n",
    "scatter_matrix(Ozone_DF[[\"O3obs\", \"MOCAGE\", \"TEMPE\", \"VentMOD\", \"VentANG\", \"SRMH2O\", \"LNO2\", \"LNO\"]], alpha=0.2, figsize=(15, 15), diagonal='kde')\n",
    "plt.show()"
   ]
  },
  {
   "cell_type": "markdown",
   "id": "21593119",
   "metadata": {},
   "source": [
    "### 2.3. Création de l'ensemble d'apprentissage / validation et de l'ensemble de test"
   ]
  },
  {
   "cell_type": "code",
   "execution_count": null,
   "id": "88a05081",
   "metadata": {},
   "outputs": [],
   "source": [
    "X = pd.concat([Ozone_Dum, Ozone_Quant], axis = 1)\n",
    "Y = Ozone_DF[\"O3obs\"]\n",
    "\n",
    "X.head()"
   ]
  },
  {
   "cell_type": "code",
   "execution_count": null,
   "id": "b112f939",
   "metadata": {},
   "outputs": [],
   "source": [
    "from sklearn.model_selection import train_test_split  \n",
    "from sklearn.preprocessing import StandardScaler  \n",
    "\n",
    "X_1, X_2, Y_1, Y_2 = train_test_split(X, Y, train_size = 400, test_size = 200, random_state = 42)\n",
    "\n",
    "X_av = X_1.to_numpy()\n",
    "X_t = X_2.to_numpy()\n",
    "Y_av = np.transpose([Y_1.to_numpy()])\n",
    "Y_t = np.transpose([Y_2.to_numpy()])"
   ]
  },
  {
   "cell_type": "markdown",
   "id": "61503a39",
   "metadata": {},
   "source": [
    "**Remarque.** Scikit-learn fonctionne avec des numpy array. Nous allons donc utiliser les indices des colonnes:\n",
    "\n",
    "0. JOUR\n",
    "1. STATION_Aix \n",
    "2. STATION_Als \n",
    "3. STATION_Cad \n",
    "4. STATION_Pla\n",
    "5. STATION_Ram\n",
    "6. MOCAGE\n",
    "7. TEMPE\n",
    "8. VentMOD\n",
    "9. VentANG\n",
    "10. SRMH2O\n",
    "11. LNO2\n",
    "12. LNO"
   ]
  },
  {
   "cell_type": "markdown",
   "id": "36ad393e",
   "metadata": {},
   "source": [
    "## 3. Régression linéaire univariée\n",
    "\n",
    "### 3.1. Relation unidimensionelle \n",
    "\n",
    "On étudie la qualité de la relation $\\hat{Y} = X$, où $\\hat{Y}$ est le vecteur de prédiction de l'O3 observée et $X$ le vecteur des prévisions de l'O3 observée calculée par Météo France."
   ]
  },
  {
   "cell_type": "code",
   "execution_count": null,
   "id": "c8d19c8c",
   "metadata": {
    "scrolled": true
   },
   "outputs": [],
   "source": [
    "from sklearn.metrics import mean_squared_error\n",
    "from sklearn.metrics import r2_score\n",
    "\n",
    "fig, axs = plt.subplots(nrows = 1, ncols = 2)\n",
    "\n",
    "axs[0].plot(X_av[:,[6]], Y_av, 'o')\n",
    "axs[0].plot([0, 300], [0, 300], 'r')\n",
    "axs[0].set_xlabel('Mocage: $X^6 = \\hat{Y}_{av}$')\n",
    "axs[0].set_ylabel('O3 observée: $Y_{av}$')\n",
    "\n",
    "axs[1].plot(X_av[:,[6]], Y_av - X_av[:,[6]], 'o')\n",
    "axs[1].plot([0, 300], [0, 0], 'r')\n",
    "axs[1].set_xlabel('Mocage: $X^6= \\hat{Y}_{av}$')\n",
    "axs[1].set_ylabel('Résidus')\n",
    "\n",
    "fig.tight_layout()\n",
    "plt.show()\n",
    "\n",
    "print(\"Coefficient de détermination :\", r2_score(Y_av, X_av[:,[6]]))"
   ]
  },
  {
   "cell_type": "markdown",
   "id": "44dad7e0",
   "metadata": {},
   "source": [
    "**Question.** Commentez les résultats.\n",
    "\n",
    "### 3.2. Régression linéaire ordinaire \n",
    "\n",
    "On étudie la qualité de la relation $\\hat{Y} = X\\beta + \\epsilon$, où $\\hat{Y}$ est le vecteur de prédiction de l'O3 observée et $X$ le vecteur des prévisions de l'O3 observée calculée par Météo France."
   ]
  },
  {
   "cell_type": "code",
   "execution_count": null,
   "id": "675e09ea",
   "metadata": {
    "scrolled": true
   },
   "outputs": [],
   "source": [
    "from sklearn import linear_model\n",
    "\n",
    "ols = linear_model.LinearRegression()\n",
    "ols.fit(X_av[:,[6]], Y_av)\n",
    "Y_hat_av = ols.predict(X_av[:,[6]])\n",
    "\n",
    "print(\"Coefficient de régression : \\n\", ols.coef_)\n",
    "print()\n",
    "\n",
    "fig, axs = plt.subplots(nrows = 1, ncols = 2, sharex = True)\n",
    "\n",
    "axs[0].plot(X_av[:,[6]], Y_av, 'o')\n",
    "axs[0].plot(X_av[:,[6]], Y_hat_av, 'r-')\n",
    "#axs[0].set_ylim(0, 300)\n",
    "axs[0].set_xlabel('Régression Mocage: $\\hat{Y}_{av}$')\n",
    "axs[0].set_ylabel('O3 observée: $Y_{av}$')\n",
    "\n",
    "axs[1].plot(Y_hat_av, Y_av - Y_hat_av, 'o')\n",
    "axs[1].plot([0, 300], [0, 0], 'r')\n",
    "axs[1].set_xlabel('Prédiction Mocage: $\\hat{Y}_{av}$')\n",
    "axs[1].set_ylabel('Résidus')\n",
    "\n",
    "fig.tight_layout()\n",
    "plt.show()\n",
    "\n",
    "print(\"Erreur quadratique (learning set) : %.2f\" % mean_squared_error(Y_av, Y_hat_av))\n",
    "print(\"Coefficient de détermination (learning set) : %.2f\" % r2_score(Y_av, Y_hat_av))"
   ]
  },
  {
   "cell_type": "markdown",
   "id": "73efbe48",
   "metadata": {},
   "source": [
    "**Questions.**\n",
    "\n",
    "1. Pourquoi n'y a-t-il qu'un seul coefficient ?\n",
    "2. Commentez les résultats.\n",
    "\n",
    "## 4. Régression linéaire multivariée\n",
    "\n",
    "### 4.1. Régression linéaire ordinaire\n",
    "\n",
    "**Exercice.** \n",
    "1. Appliquez une régression linéaire sur l'ensemble d'apprentissage $(X_{av}, Y_{av})$ et évaluez la qualité des résultats en comparantc eux obtenus sur $(X_{av}, Y_{av})$ et sur $(X_{t}, Y_{t})$. Commentez.\n",
    "2. Observez les coefficients de régression et commentez."
   ]
  },
  {
   "cell_type": "markdown",
   "id": "cd785b40",
   "metadata": {},
   "source": [
    "### 4.2. Régression linéaire pénalisée : Ridge\n",
    "\n",
    "**Question**.  Rappelez le modèle de la régression ridge et le comportement attendu.\n",
    "\n",
    "Nous allons observer sur l'ensemble d'apprentissage, pour 3 valeurs de alpha ($\\lambda$ dans le cours), le comportement de la regression ridge sur les coefficients.\n",
    "\n",
    "#### Modèle 1"
   ]
  },
  {
   "cell_type": "code",
   "execution_count": null,
   "id": "82e6046f",
   "metadata": {},
   "outputs": [],
   "source": [
    "r_a01 = linear_model.Ridge(alpha = 0.1)\n",
    "model_r_a01 = r_a01.fit(X_av, Y_av)\n",
    "Y_hat_av_r01 = r_a01.predict(X_av)\n",
    "Y_hat_t_r01 = r_a01.predict(X_t)\n",
    "\n",
    "print(\"Erreur quadratique (learning set) : %.2f\" % mean_squared_error(Y_av, Y_hat_av_r01))\n",
    "print(\"Coefficient de détermination (learning set) : %.2f\" % r2_score(Y_av, Y_hat_av_r01))\n",
    "\n",
    "coef = pd.Series(model_r_a01.coef_[0], index =  X.columns)\n",
    "imp_coef = coef.sort_values()\n",
    "plt.rcParams['figure.figsize'] = (8.0, 10.0)\n",
    "imp_coef.plot(kind = \"barh\")\n",
    "plt.title(\"Coefficients ridge pour alpha = 0.1\")\n",
    "plt.show()"
   ]
  },
  {
   "cell_type": "markdown",
   "id": "b4040d4b",
   "metadata": {},
   "source": [
    "#### Modèle 2"
   ]
  },
  {
   "cell_type": "code",
   "execution_count": null,
   "id": "897664a4",
   "metadata": {},
   "outputs": [],
   "source": [
    "r_a1 = linear_model.Ridge(alpha = 1)\n",
    "model_r_a1 = r_a1.fit(X_av, Y_av)\n",
    "Y_hat_av_r1 = r_a1.predict(X_av)\n",
    "Y_hat_t_r1 = r_a1.predict(X_t)\n",
    "\n",
    "print(\"Erreur quadratique (learning set) : %.2f\" % mean_squared_error(Y_av, Y_hat_av_r1))\n",
    "print(\"Coefficient de détermination (learning set) : %.2f\" % r2_score(Y_av, Y_hat_av_r1))\n",
    "\n",
    "coef = pd.Series(model_r_a1.coef_[0], index =  X.columns)\n",
    "imp_coef = coef.sort_values()\n",
    "plt.rcParams['figure.figsize'] = (8.0, 10.0)\n",
    "imp_coef.plot(kind = \"barh\")\n",
    "plt.title(\"Coefficients ridge pour alpha = 1\")\n",
    "plt.show()"
   ]
  },
  {
   "cell_type": "markdown",
   "id": "68c6b8df",
   "metadata": {},
   "source": [
    "#### Modèle 3"
   ]
  },
  {
   "cell_type": "code",
   "execution_count": null,
   "id": "3695a60b",
   "metadata": {},
   "outputs": [],
   "source": [
    "r_a10 = linear_model.Ridge(alpha = 10)\n",
    "model_r_a10 = r_a10.fit(X_av, Y_av)\n",
    "Y_hat_av_r10 = r_a10.predict(X_av)\n",
    "Y_hat_t_r10 = r_a10.predict(X_t)\n",
    "\n",
    "print(\"Erreur quadratique (learning set) : %.2f\" % mean_squared_error(Y_av, Y_hat_av_r10))\n",
    "print(\"Coefficient de détermination (learning set) : %.2f\" % r2_score(Y_av, Y_hat_av_r10))\n",
    "\n",
    "coef = pd.Series(model_r_a10.coef_[0], index =  X.columns)\n",
    "imp_coef = coef.sort_values()\n",
    "plt.rcParams['figure.figsize'] = (8.0, 10.0)\n",
    "imp_coef.plot(kind = \"barh\")\n",
    "plt.title(\"Coefficients ridge pour alpha = 10\")\n",
    "plt.show()"
   ]
  },
  {
   "cell_type": "markdown",
   "id": "a85342fd",
   "metadata": {},
   "source": [
    "**Question**. Commentez l'évolution du comportement sur les coefficients. Comment l'expliquez vous ?\n",
    "\n",
    "**Exercice**. Visualisez globalement l'évolution des coefficients en fonction de alpha. Vous pouvez vous aider de la [documentation sur chemin de régularisation](https://scikit-learn.org/stable/auto_examples/linear_model/plot_ridge_path.html#sphx-glr-auto-examples-linear-model-plot-ridge-path-py).\n",
    "\n",
    "**Exercice**. Mettez en place une procédure d'apprentissage rigoureuse pour trouver le paramètre alpha optimal de la régression ridge. \n",
    "\n",
    "**Remarque**. Pensez à regarder les références fournies en cours (cf. mail et annonce sur le moodle) ainsi que la [documentation sur le modèle Ridge](https://scikit-learn.org/stable/modules/generated/sklearn.linear_model.Ridge.html)."
   ]
  },
  {
   "cell_type": "markdown",
   "id": "13d829f4",
   "metadata": {},
   "source": [
    "### 4.3. Régression linéaire pénalisée : Lasso\n",
    "\n",
    "**Question**. Rappelez le modèle de la régression lasso et le comportement attendu.\n",
    "\n",
    "**Exercice**. Mettez en place une procédure d'apprentissage rigoureuse pour trouver le paramètre alpha optimal dans la régression lasso. Pensez à regarder la [documentation sur le modèle Lasso](https://scikit-learn.org/stable/modules/generated/sklearn.linear_model.Lasso.html)."
   ]
  },
  {
   "cell_type": "markdown",
   "id": "54f75d0b",
   "metadata": {},
   "source": [
    "## 5. Travail à rendre\n",
    "\n",
    "Vous devez rendre sur le moodle, pour le dimanche 12/12/21, une archive nom_prenom.(g)zip ou nom_prenom.tgz inférieure à 10 Mo, contenant :\n",
    "\n",
    "5.1. Un notebook python complétant les réponses aux questions et les exercices de ce nootebook.\n",
    "\n",
    "5.2. Une étude sur le jeu de données [Parkinson speech](https://archive.ics.uci.edu/ml/datasets/Parkinson+Speech+Dataset+with++Multiple+Types+of+Sound+Recordings), en utilisant $Y$ = UPDRS, avec :\n",
    "- Une synthèse de 4 pages au format pdf contenant les pricipales informations.\n",
    "- Le notebook associé."
   ]
  }
 ],
 "metadata": {
  "kernelspec": {
   "display_name": "Python 3 (ipykernel)",
   "language": "python",
   "name": "python3"
  },
  "language_info": {
   "codemirror_mode": {
    "name": "ipython",
    "version": 3
   },
   "file_extension": ".py",
   "mimetype": "text/x-python",
   "name": "python",
   "nbconvert_exporter": "python",
   "pygments_lexer": "ipython3",
   "version": "3.8.12"
  }
 },
 "nbformat": 4,
 "nbformat_minor": 5
}
