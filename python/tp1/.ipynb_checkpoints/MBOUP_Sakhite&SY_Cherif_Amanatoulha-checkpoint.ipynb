{
 "cells": [
  {
   "cell_type": "markdown",
   "metadata": {},
   "source": [
    "# Maladie Cardiaque : Exercie noté"
   ]
  },
  {
   "cell_type": "markdown",
   "metadata": {},
   "source": [
    "## Importation des librairies"
   ]
  },
  {
   "cell_type": "code",
   "execution_count": null,
   "metadata": {},
   "outputs": [],
   "source": [
    "import numpy as np\n",
    "import pandas as pd\n",
    "import matplotlib.pyplot as plt\n",
    "import seaborn as sns\n",
    "from sklearn.neighbors import KNeighborsClassifier\n",
    "from sklearn.model_selection import train_test_split\n",
    "from sklearn.preprocessing import StandardScaler\n",
    "from sklearn.metrics import accuracy_score, roc_auc_score\n",
    "from sklearn.metrics import classification_report\n",
    "from sklearn.model_selection import GridSearchCV"
   ]
  },
  {
   "cell_type": "markdown",
   "metadata": {},
   "source": [
    "## Chargement des données"
   ]
  },
  {
   "cell_type": "code",
   "execution_count": null,
   "metadata": {},
   "outputs": [],
   "source": [
    "Heart_Dataset = pd.read_csv(\"heart.dat\", sep=\"\\s+\", names=[\"age\", \"sex\", \"chest_pain\", \"blood_pressure\", \"serum_cholestoral\", \"fasting_blood_sugar\", \"electrocardiographic\", \"max_heart_rate\", \"induced_angina\", \"oldpeak\", \"slope\", \"major vessels\", \"thal\", \"Label\"])"
   ]
  },
  {
   "cell_type": "code",
   "execution_count": null,
   "metadata": {},
   "outputs": [],
   "source": [
    "Heart_Dataset.head()"
   ]
  },
  {
   "cell_type": "markdown",
   "metadata": {},
   "source": [
    "## Analyse statistique descriptive"
   ]
  },
  {
   "cell_type": "markdown",
   "metadata": {},
   "source": [
    "### Profilage des donnees"
   ]
  },
  {
   "cell_type": "code",
   "execution_count": null,
   "metadata": {},
   "outputs": [],
   "source": [
    "Heart_Dataset.info()"
   ]
  },
  {
   "cell_type": "markdown",
   "metadata": {},
   "source": [
    "- On peut s'apercevoir que le jeu de donnees ne presente pas de valeurs nulles."
   ]
  },
  {
   "cell_type": "code",
   "execution_count": null,
   "metadata": {},
   "outputs": [],
   "source": [
    "Heart_Dataset.describe()"
   ]
  },
  {
   "cell_type": "markdown",
   "metadata": {},
   "source": [
    "- Pour les colonnes age, blood_pressure, serum_cholestoral et max_heart_rate on note une dispersion assez elevee des donnees par rapport à la moyenne.\n",
    "- Par rapport aux quartiles, la repartition des donnees est assez differentes selon les colonnes. En effet, pour les colonnes age, blood_pressure, serum_cholestoral, on note plus une repartition assez homogene des donnees sur q1, q2 et q3 avec une des proportions croissantes en passant de q1, q2 et q3. Pour d'autres colonnes comme max_heart_rate, la tendance de la repartition est differentes des colonnes citées ci-dessus.\n",
    "- S'agissant de la moyenne, Il est notable de remarquer l'heterogeneité des echelles. En effet, la moyenne des colonnes du dataset sont tres differentes : Ceci peut etre problematique durant la phase d'apprentissage ; ainsi, un travail de normalisation sera fait pour contourner ce probleme"
   ]
  },
  {
   "cell_type": "markdown",
   "metadata": {},
   "source": [
    "### Correlation des donnees"
   ]
  },
  {
   "cell_type": "code",
   "execution_count": null,
   "metadata": {},
   "outputs": [],
   "source": [
    "Heart_Dataset.corr()"
   ]
  },
  {
   "cell_type": "markdown",
   "metadata": {},
   "source": [
    "- Les colonnes ont des correlations souvent tres faibles entre elles. Ceci teimoigne d'une absence de redondance d'informations tres probable sur l'ensemble de donnees. "
   ]
  },
  {
   "cell_type": "markdown",
   "metadata": {},
   "source": [
    "### Data visualisation"
   ]
  },
  {
   "cell_type": "markdown",
   "metadata": {},
   "source": [
    "#### Analyse univariée"
   ]
  },
  {
   "cell_type": "code",
   "execution_count": null,
   "metadata": {},
   "outputs": [],
   "source": [
    "print(Heart_Dataset.Label.value_counts())\n",
    "sns.countplot(y=\"Label\", hue=\"Label\", data=Heart_Dataset)"
   ]
  },
  {
   "cell_type": "markdown",
   "metadata": {},
   "source": [
    "- On constate que l'absence maladie est plus importante que la presence de donnees dans l'ensemble de donnees"
   ]
  },
  {
   "cell_type": "code",
   "execution_count": null,
   "metadata": {},
   "outputs": [],
   "source": [
    "print(Heart_Dataset.sex.value_counts())\n",
    "sns.countplot(y=\"sex\", hue=\"sex\", data=Heart_Dataset)"
   ]
  },
  {
   "cell_type": "markdown",
   "metadata": {},
   "source": [
    "- Ce graphe montre que la proportion de sex maculin est plus important que celle de sex feminin"
   ]
  },
  {
   "cell_type": "code",
   "execution_count": null,
   "metadata": {},
   "outputs": [],
   "source": [
    "print(Heart_Dataset.chest_pain.value_counts())\n",
    "sns.countplot(x=\"chest_pain\", hue=\"chest_pain\", data=Heart_Dataset)"
   ]
  },
  {
   "cell_type": "markdown",
   "metadata": {},
   "source": [
    "- Les douleurs thoraciques de niveau 4 sont tres representees dans l'ensemble de donnees. Elles sont suvie par le niveau 3, ensuite par le niveau 2 et 1 en suivant la meme ordre."
   ]
  },
  {
   "cell_type": "code",
   "execution_count": null,
   "metadata": {},
   "outputs": [],
   "source": [
    "print(Heart_Dataset.electrocardiographic.value_counts())\n",
    "sns.countplot(y=\"electrocardiographic\", hue=\"electrocardiographic\", data=Heart_Dataset)"
   ]
  },
  {
   "cell_type": "code",
   "execution_count": null,
   "metadata": {},
   "outputs": [],
   "source": [
    "print(Heart_Dataset.thal.value_counts())\n",
    "sns.countplot(y=\"thal\", hue=\"thal\", data=Heart_Dataset)"
   ]
  },
  {
   "cell_type": "code",
   "execution_count": null,
   "metadata": {},
   "outputs": [],
   "source": [
    "sns.distplot(Heart_Dataset.age, rug=True, hist=True)"
   ]
  },
  {
   "cell_type": "markdown",
   "metadata": {},
   "source": [
    "- La plus part des patient ont un age compris entre 40 - 70 annees. Les personnes qui pourraient etre atteintes par la maladie seraient tres probablement d'une age avancé"
   ]
  },
  {
   "cell_type": "code",
   "execution_count": null,
   "metadata": {},
   "outputs": [],
   "source": [
    "sns.distplot(Heart_Dataset.max_heart_rate, rug=True, hist=True)"
   ]
  },
  {
   "cell_type": "code",
   "execution_count": null,
   "metadata": {},
   "outputs": [],
   "source": [
    "sns.distplot(Heart_Dataset.blood_pressure, rug=True, hist=True)"
   ]
  },
  {
   "cell_type": "code",
   "execution_count": null,
   "metadata": {},
   "outputs": [],
   "source": [
    "sns.distplot(Heart_Dataset.serum_cholestoral, rug=True, hist=True)"
   ]
  },
  {
   "cell_type": "markdown",
   "metadata": {},
   "source": [
    "#### Analyse bivariée"
   ]
  },
  {
   "cell_type": "code",
   "execution_count": null,
   "metadata": {},
   "outputs": [],
   "source": [
    "sns.boxplot(x='Label',y='age', data=Heart_Dataset)"
   ]
  },
  {
   "cell_type": "code",
   "execution_count": null,
   "metadata": {},
   "outputs": [],
   "source": [
    "plt.figure(figsize=(25,5))\n",
    "plt.subplot(1,4,1)\n",
    "sns.boxplot(x='Label',y='oldpeak', data=Heart_Dataset)\n",
    "plt.subplot(1,4,2)\n",
    "sns.boxplot(x='Label',y='max_heart_rate', data=Heart_Dataset)\n",
    "plt.subplot(1,4,3)\n",
    "sns.boxplot(x='Label',y='serum_cholestoral', data=Heart_Dataset)\n",
    "plt.subplot(1,4,4)\n",
    "sns.boxplot(x='Label',y='blood_pressure', data=Heart_Dataset);"
   ]
  },
  {
   "cell_type": "markdown",
   "metadata": {},
   "source": [
    "- On voit que la plus des variables presente des valeurs aberrentes. "
   ]
  },
  {
   "cell_type": "code",
   "execution_count": null,
   "metadata": {
    "scrolled": true
   },
   "outputs": [],
   "source": [
    "# Répartition graphique des exemples en fonction de toutes les combinaisons de variables 2 à 2\n",
    "sns.pairplot(Heart_Dataset, hue='Label', corner = True, palette = ['orange', 'blue'], height=4)"
   ]
  },
  {
   "cell_type": "markdown",
   "metadata": {},
   "source": [
    "## Apprentissage du modele predictif"
   ]
  },
  {
   "cell_type": "markdown",
   "metadata": {},
   "source": [
    "### Entrainement du modèle de prediction"
   ]
  },
  {
   "cell_type": "markdown",
   "metadata": {},
   "source": [
    "#### Strategie 1 : ensemble d’apprentissage, de validation et de test "
   ]
  },
  {
   "cell_type": "code",
   "execution_count": null,
   "metadata": {},
   "outputs": [],
   "source": [
    "X = Heart_Dataset.drop('Label', axis=1)\n",
    "Y = Heart_Dataset['Label']"
   ]
  },
  {
   "cell_type": "code",
   "execution_count": null,
   "metadata": {},
   "outputs": [],
   "source": [
    "# Division des donnees en sous ensemble d'entrainement, de validation et de test"
   ]
  },
  {
   "cell_type": "code",
   "execution_count": null,
   "metadata": {},
   "outputs": [],
   "source": [
    "X_av, X_t, Y_av, Y_t = train_test_split(X, Y, test_size=0.2)"
   ]
  },
  {
   "cell_type": "code",
   "execution_count": null,
   "metadata": {},
   "outputs": [],
   "source": [
    "X_a, X_v, Y_a, Y_v = train_test_split(X, Y, test_size=0.2)"
   ]
  },
  {
   "cell_type": "code",
   "execution_count": null,
   "metadata": {},
   "outputs": [],
   "source": [
    "# Normalisation des donnees"
   ]
  },
  {
   "cell_type": "code",
   "execution_count": null,
   "metadata": {},
   "outputs": [],
   "source": [
    "scaler = StandardScaler()\n",
    "X_a_scalled = scaler.fit(X_a)\n",
    "X_a_scalled = scaler.transform(X_a)"
   ]
  },
  {
   "cell_type": "code",
   "execution_count": null,
   "metadata": {},
   "outputs": [],
   "source": [
    "X_v_scalled = scaler.transform(X_v)"
   ]
  },
  {
   "cell_type": "code",
   "execution_count": null,
   "metadata": {},
   "outputs": [],
   "source": [
    "p_k = [1, 5, 10, 15, 20, 25]\n",
    "\n",
    "eval_err = {\n",
    "    \"apprentissage\": [],\n",
    "    \"validation\": []\n",
    "}\n",
    "\n",
    "models = {}"
   ]
  },
  {
   "cell_type": "code",
   "execution_count": null,
   "metadata": {},
   "outputs": [],
   "source": [
    "for k in p_k:\n",
    "    model = KNeighborsClassifier(n_neighbors=k)\n",
    "    model.fit(X_a, Y_a)\n",
    "    eval_err[\"apprentissage\"].append(1 - model.score(X_a, Y_a))\n",
    "    \n",
    "    Y_v_pred = model.predict(X_v)\n",
    "    eval_err[\"validation\"].append(1 - accuracy_score(Y_v, Y_v_pred))\n",
    "    models[k]=model"
   ]
  },
  {
   "cell_type": "code",
   "execution_count": null,
   "metadata": {},
   "outputs": [],
   "source": [
    "eval_err"
   ]
  },
  {
   "cell_type": "code",
   "execution_count": null,
   "metadata": {},
   "outputs": [],
   "source": [
    "plt.figure()\n",
    "plt.plot(p_k, eval_err[\"apprentissage\"])\n",
    "plt.plot(p_k, eval_err[\"validation\"])"
   ]
  },
  {
   "cell_type": "code",
   "execution_count": null,
   "metadata": {},
   "outputs": [],
   "source": [
    "# D'apres le graphe, nous pouvons constater que l'erreur de validation est plus petite pour la valeur de k=15.\n",
    "# Ainsi, pour cette valeur, le modele de prediction generalise mieux sur l'ensemble de validation.\n",
    "# De ce fait, nous avons comme modele optimal, le modele avec comme hyperparamettre k=15. "
   ]
  },
  {
   "cell_type": "code",
   "execution_count": null,
   "metadata": {},
   "outputs": [],
   "source": [
    "best_model = models[15]"
   ]
  },
  {
   "cell_type": "code",
   "execution_count": null,
   "metadata": {},
   "outputs": [],
   "source": [
    "# Normalisation des X_t"
   ]
  },
  {
   "cell_type": "code",
   "execution_count": null,
   "metadata": {},
   "outputs": [],
   "source": [
    "X_t_scalled = scaler.transform(X_t)"
   ]
  },
  {
   "cell_type": "code",
   "execution_count": null,
   "metadata": {},
   "outputs": [],
   "source": [
    "Y_t_pred = best_model.predict(X_t_scalled)"
   ]
  },
  {
   "cell_type": "code",
   "execution_count": null,
   "metadata": {},
   "outputs": [],
   "source": [
    "accuracy_score(Y_t, Y_t_pred)"
   ]
  },
  {
   "cell_type": "code",
   "execution_count": null,
   "metadata": {},
   "outputs": [],
   "source": [
    "print(classification_report(Y_t, Y_t_pred))"
   ]
  },
  {
   "cell_type": "code",
   "execution_count": null,
   "metadata": {},
   "outputs": [],
   "source": [
    "## Ce modele presente des resultats pas satisfaisants. En effet, nous pouvons noter une precision nulle\n",
    "## sur la classe 1 (presence de maladie). De plus, cette metrique n'est pas tres elevee pour la classe 2\n",
    "## (absence de maladie). Ceci peut etre expliquer par le fait que le modele ne generalise pas bien les donnees\n",
    "## test et par consequent il fait bcp d'erreurs dans ses predictions.\n",
    "## Pour resoudre ce probleme, nous allons experimenter une nouvelle strategie d'apprentissage du modele predictif."
   ]
  },
  {
   "cell_type": "markdown",
   "metadata": {},
   "source": [
    "#### Strategie 2 : validation-croisée pour la sélection de k"
   ]
  },
  {
   "cell_type": "code",
   "execution_count": null,
   "metadata": {},
   "outputs": [],
   "source": [
    "param_grid = {'n_neighbors': p_k,\n",
    "             'metric' : ['euclidean', 'manhattan']}"
   ]
  },
  {
   "cell_type": "code",
   "execution_count": null,
   "metadata": {},
   "outputs": [],
   "source": [
    "clf = GridSearchCV(\n",
    "    KNeighborsClassifier(), # un classifieur k_NN\n",
    "    param_grid,     # hyperparamètres à tester\n",
    "    cv=5,           # nombre de folds de validation croisée\n",
    "    scoring='accuracy'   # score à optimiser\n",
    ")"
   ]
  },
  {
   "cell_type": "code",
   "execution_count": null,
   "metadata": {},
   "outputs": [],
   "source": [
    "clf.fit(X_a_scalled, Y_a)"
   ]
  },
  {
   "cell_type": "code",
   "execution_count": null,
   "metadata": {},
   "outputs": [],
   "source": [
    "clf.best_params_"
   ]
  },
  {
   "cell_type": "code",
   "execution_count": null,
   "metadata": {},
   "outputs": [],
   "source": [
    "for mean, std, params in zip(\n",
    "        clf.cv_results_['mean_test_score'], # score moyen\n",
    "        clf.cv_results_['std_test_score'],  # écart-type du score\n",
    "        clf.cv_results_['params']           # valeur de l'hyperparamètre\n",
    "    ):\n",
    "    print(\"{} = {:.3f} (+/-{:.03f}) for {}\".format(\n",
    "        'accuracy',\n",
    "        mean,\n",
    "        std*2,\n",
    "        params\n",
    "    ) )"
   ]
  },
  {
   "cell_type": "code",
   "execution_count": null,
   "metadata": {},
   "outputs": [],
   "source": [
    "new_best_model = clf.best_estimator_"
   ]
  },
  {
   "cell_type": "code",
   "execution_count": null,
   "metadata": {},
   "outputs": [],
   "source": [
    "New_Y_t_pred = new_best_model.predict(X_t_scalled)"
   ]
  },
  {
   "cell_type": "code",
   "execution_count": null,
   "metadata": {},
   "outputs": [],
   "source": [
    "print(classification_report(Y_t, New_Y_t_pred))"
   ]
  },
  {
   "cell_type": "code",
   "execution_count": null,
   "metadata": {},
   "outputs": [],
   "source": [
    "## Cette nouvelle strategie presente des resultats bien meilleurs que la precedente. En effet, les performances\n",
    "## du modele sur le jeu de donnees test donne des resultats plus satisfaisants sur la precision, le rappel et\n",
    "## f1-score. Ce qui teimoigne d'une capacite de generalisation que le modele a."
   ]
  },
  {
   "cell_type": "markdown",
   "metadata": {},
   "source": [
    "#### Prise en compte de la matrice de cout"
   ]
  },
  {
   "cell_type": "code",
   "execution_count": null,
   "metadata": {},
   "outputs": [],
   "source": [
    "from sklearn.metrics import plot_confusion_matrix\n",
    "from sklearn.metrics import confusion_matrix"
   ]
  },
  {
   "cell_type": "code",
   "execution_count": null,
   "metadata": {},
   "outputs": [],
   "source": [
    "plot_confusion_matrix(best_model, X_t_scalled, Y_t)"
   ]
  },
  {
   "cell_type": "code",
   "execution_count": null,
   "metadata": {},
   "outputs": [],
   "source": [
    "conf_matrix = confusion_matrix(Y_t, New_Y_t_pred)"
   ]
  },
  {
   "cell_type": "code",
   "execution_count": null,
   "metadata": {},
   "outputs": [],
   "source": [
    "conf_matrix"
   ]
  },
  {
   "cell_type": "code",
   "execution_count": null,
   "metadata": {},
   "outputs": [],
   "source": [
    "new_matrix_conf = [[conf_matrix[0][0], conf_matrix[0][1]],[5*conf_matrix[1][0], conf_matrix[1][1]]]"
   ]
  },
  {
   "cell_type": "code",
   "execution_count": null,
   "metadata": {},
   "outputs": [],
   "source": [
    "new_matrix_conf"
   ]
  },
  {
   "cell_type": "code",
   "execution_count": null,
   "metadata": {},
   "outputs": [],
   "source": [
    "precision = ((new_matrix_conf[0][0])/(new_matrix_conf[0][0]+new_matrix_conf[1][1]))"
   ]
  },
  {
   "cell_type": "code",
   "execution_count": null,
   "metadata": {},
   "outputs": [],
   "source": [
    "precision"
   ]
  },
  {
   "cell_type": "code",
   "execution_count": null,
   "metadata": {},
   "outputs": [],
   "source": [
    "recall = ((new_matrix_conf[0][0])/(new_matrix_conf[0][0]+new_matrix_conf[1][0]))"
   ]
  },
  {
   "cell_type": "code",
   "execution_count": null,
   "metadata": {},
   "outputs": [],
   "source": [
    "recall"
   ]
  },
  {
   "cell_type": "code",
   "execution_count": null,
   "metadata": {},
   "outputs": [],
   "source": [
    "taux_erreur_classique = ((new_matrix_conf[0][1]+new_matrix_conf[1][0])/(new_matrix_conf[0][0]+new_matrix_conf[0][1]+new_matrix_conf[1][0]+new_matrix_conf[1][1]))"
   ]
  },
  {
   "cell_type": "code",
   "execution_count": null,
   "metadata": {},
   "outputs": [],
   "source": [
    "taux_erreur_classique"
   ]
  },
  {
   "cell_type": "code",
   "execution_count": null,
   "metadata": {},
   "outputs": [],
   "source": [
    "## En tenant compte de la remarque faite sur la matrice de cout, nous pouvons constaté que les mesures\n",
    "## faites dans la strategie 2 s'averent fausses. En effet, les nouvelles mesures faite en calculant la nouvelle\n",
    "## de confusion, montre que les resultats de la strategie 2 ne sont pas en realite fameux."
   ]
  },
  {
   "cell_type": "code",
   "execution_count": null,
   "metadata": {},
   "outputs": [],
   "source": []
  }
 ],
 "metadata": {
  "kernelspec": {
   "display_name": "Python 3",
   "language": "python",
   "name": "python3"
  },
  "language_info": {
   "codemirror_mode": {
    "name": "ipython",
    "version": 3
   },
   "file_extension": ".py",
   "mimetype": "text/x-python",
   "name": "python",
   "nbconvert_exporter": "python",
   "pygments_lexer": "ipython3",
   "version": "3.7.6"
  }
 },
 "nbformat": 4,
 "nbformat_minor": 4
}
