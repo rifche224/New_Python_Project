{
 "cells": [
  {
   "cell_type": "code",
   "execution_count": 163,
   "id": "b3d8fedd",
   "metadata": {},
   "outputs": [],
   "source": [
    "import numpy as np\n",
    "import pandas as pd\n",
    "import matplotlib.pyplot as plt\n",
    "import seaborn as sns\n",
    "from sklearn.preprocessing import StandardScaler\n",
    "from sklearn.model_selection import train_test_split\n",
    "from sklearn.neighbors import KNeighborsClassifier\n",
    "from sklearn.metrics import confusion_matrix\n",
    "import missingno as mno\n",
    "import seaborn as sns\n",
    "from sklearn.metrics import accuracy_score\n",
    "from sklearn.metrics import classification_report\n",
    "from sklearn.metrics import roc_auc_score\n",
    "from sklearn import model_selection\n",
    "from sklearn.model_selection import cross_val_score\n",
    "from sklearn import datasets, linear_model\n",
    "from sklearn.metrics import confusion_matrix\n",
    "from sklearn.metrics import roc_curve"
   ]
  },
  {
   "cell_type": "code",
   "execution_count": 172,
   "id": "229de844",
   "metadata": {},
   "outputs": [
    {
     "name": "stdout",
     "output_type": "stream",
     "text": [
      "<class 'pandas.core.frame.DataFrame'>\n",
      "RangeIndex: 768 entries, 0 to 767\n",
      "Data columns (total 9 columns):\n",
      " #   Column  Non-Null Count  Dtype  \n",
      "---  ------  --------------  -----  \n",
      " 0   #G      768 non-null    int64  \n",
      " 1   Gly     768 non-null    int64  \n",
      " 2   PSD     768 non-null    int64  \n",
      " 3   MG      768 non-null    int64  \n",
      " 4   Ins     768 non-null    int64  \n",
      " 5   IMC     768 non-null    float64\n",
      " 6   Risk    768 non-null    float64\n",
      " 7   Age     768 non-null    int64  \n",
      " 8   Label   768 non-null    int64  \n",
      "dtypes: float64(2), int64(7)\n",
      "memory usage: 54.1 KB\n"
     ]
    }
   ],
   "source": [
    "# Charger les données\n",
    "Pima_DF = pd.read_csv('pima_data.csv', names = ['#G', 'Gly', 'PSD', 'MG','Ins','IMC','Risk', 'Age', 'Label'])\n",
    "#Afficher les informations de mon dataset\n",
    "Pima_DF.info()"
   ]
  },
  {
   "cell_type": "code",
   "execution_count": 6,
   "id": "66920ec1",
   "metadata": {},
   "outputs": [
    {
     "data": {
      "image/png": "[encoded data removed]",
      "text/plain": [
       "<Figure size 1800x720 with 2 Axes>"
      ]
     },
     "metadata": {
      "needs_background": "light"
     },
     "output_type": "display_data"
    }
   ],
   "source": [
    "mno.matrix(Pima_DF);"
   ]
  },
  {
   "cell_type": "code",
   "execution_count": 173,
   "id": "23621a34",
   "metadata": {
    "scrolled": true
   },
   "outputs": [
    {
     "data": {
      "text/html": [
       "<div>\n",
       "<style scoped>\n",
       "    .dataframe tbody tr th:only-of-type {\n",
       "        vertical-align: middle;\n",
       "    }\n",
       "\n",
       "    .dataframe tbody tr th {\n",
       "        vertical-align: top;\n",
       "    }\n",
       "\n",
       "    .dataframe thead th {\n",
       "        text-align: right;\n",
       "    }\n",
       "</style>\n",
       "<table border=\"1\" class=\"dataframe\">\n",
       "  <thead>\n",
       "    <tr style=\"text-align: right;\">\n",
       "      <th></th>\n",
       "      <th>#G</th>\n",
       "      <th>Gly</th>\n",
       "      <th>PSD</th>\n",
       "      <th>MG</th>\n",
       "      <th>Ins</th>\n",
       "      <th>IMC</th>\n",
       "      <th>Risk</th>\n",
       "      <th>Age</th>\n",
       "      <th>Label</th>\n",
       "    </tr>\n",
       "  </thead>\n",
       "  <tbody>\n",
       "    <tr>\n",
       "      <th>0</th>\n",
       "      <td>6</td>\n",
       "      <td>148</td>\n",
       "      <td>72</td>\n",
       "      <td>35</td>\n",
       "      <td>0</td>\n",
       "      <td>33.6</td>\n",
       "      <td>0.627</td>\n",
       "      <td>50</td>\n",
       "      <td>1</td>\n",
       "    </tr>\n",
       "    <tr>\n",
       "      <th>1</th>\n",
       "      <td>1</td>\n",
       "      <td>85</td>\n",
       "      <td>66</td>\n",
       "      <td>29</td>\n",
       "      <td>0</td>\n",
       "      <td>26.6</td>\n",
       "      <td>0.351</td>\n",
       "      <td>31</td>\n",
       "      <td>-1</td>\n",
       "    </tr>\n",
       "    <tr>\n",
       "      <th>2</th>\n",
       "      <td>8</td>\n",
       "      <td>183</td>\n",
       "      <td>64</td>\n",
       "      <td>0</td>\n",
       "      <td>0</td>\n",
       "      <td>23.3</td>\n",
       "      <td>0.672</td>\n",
       "      <td>32</td>\n",
       "      <td>1</td>\n",
       "    </tr>\n",
       "    <tr>\n",
       "      <th>3</th>\n",
       "      <td>1</td>\n",
       "      <td>89</td>\n",
       "      <td>66</td>\n",
       "      <td>23</td>\n",
       "      <td>94</td>\n",
       "      <td>28.1</td>\n",
       "      <td>0.167</td>\n",
       "      <td>21</td>\n",
       "      <td>-1</td>\n",
       "    </tr>\n",
       "    <tr>\n",
       "      <th>4</th>\n",
       "      <td>0</td>\n",
       "      <td>137</td>\n",
       "      <td>40</td>\n",
       "      <td>35</td>\n",
       "      <td>168</td>\n",
       "      <td>43.1</td>\n",
       "      <td>2.288</td>\n",
       "      <td>33</td>\n",
       "      <td>1</td>\n",
       "    </tr>\n",
       "  </tbody>\n",
       "</table>\n",
       "</div>"
      ],
      "text/plain": [
       "   #G  Gly  PSD  MG  Ins   IMC   Risk  Age  Label\n",
       "0   6  148   72  35    0  33.6  0.627   50      1\n",
       "1   1   85   66  29    0  26.6  0.351   31     -1\n",
       "2   8  183   64   0    0  23.3  0.672   32      1\n",
       "3   1   89   66  23   94  28.1  0.167   21     -1\n",
       "4   0  137   40  35  168  43.1  2.288   33      1"
      ]
     },
     "execution_count": 173,
     "metadata": {},
     "output_type": "execute_result"
    }
   ],
   "source": [
    "\n",
    "Pima_DF.head()"
   ]
  },
  {
   "cell_type": "code",
   "execution_count": 4,
   "id": "f5289270",
   "metadata": {},
   "outputs": [],
   "source": [
    "#normalisons notre jeu de données\n",
    "#verification des valeurs manquantes\n",
    "def check_missing_value(Pima_DF):\n",
    "    return Pima_DF.isnull().sum()"
   ]
  },
  {
   "cell_type": "code",
   "execution_count": 5,
   "id": "fcd24f49",
   "metadata": {},
   "outputs": [],
   "source": [
    "#supprimer des valeurs manquantes s'il en existe\n",
    "def drop_missing_value(Pima_DF):\n",
    "    return Pima_DF.dropna(inplace =True)"
   ]
  },
  {
   "cell_type": "code",
   "execution_count": 8,
   "id": "358ad7fb",
   "metadata": {},
   "outputs": [],
   "source": [
    "#decoupage de mon jeu de données en deux parties\n",
    "#X: variable expliqué\n",
    "#y: variables a expliquer / etiquettes\n",
    "X = Pima_DF.drop(['Label'], axis=1)\n",
    "Y = Pima_DF['Label']"
   ]
  },
  {
   "cell_type": "code",
   "execution_count": 75,
   "id": "39351c1e",
   "metadata": {},
   "outputs": [],
   "source": [
    "#train_test_split : fonction de decoupage en jeu de données d'apprentissage et jeu de données test en deux partie egale\n",
    "X_1, X_2, Y_1, Y_2 = train_test_split(X, Y, test_size=0.5)"
   ]
  },
  {
   "cell_type": "code",
   "execution_count": 10,
   "id": "a8dbd07f",
   "metadata": {},
   "outputs": [],
   "source": [
    "#je cree un standardiseur scaler\n",
    "scaler = StandardScaler()"
   ]
  },
  {
   "cell_type": "code",
   "execution_count": 11,
   "id": "66cde2fa",
   "metadata": {},
   "outputs": [
    {
     "data": {
      "text/plain": [
       "StandardScaler()"
      ]
     },
     "execution_count": 11,
     "metadata": {},
     "output_type": "execute_result"
    }
   ],
   "source": [
    "#apprentissage des parametres de mon standardiseur sur mon jeu de données d'entrainement X_1\n",
    "scaler.fit(X_1)"
   ]
  },
  {
   "cell_type": "code",
   "execution_count": 10,
   "id": "267a4e50",
   "metadata": {},
   "outputs": [
    {
     "data": {
      "text/html": [
       "<div>\n",
       "<style scoped>\n",
       "    .dataframe tbody tr th:only-of-type {\n",
       "        vertical-align: middle;\n",
       "    }\n",
       "\n",
       "    .dataframe tbody tr th {\n",
       "        vertical-align: top;\n",
       "    }\n",
       "\n",
       "    .dataframe thead th {\n",
       "        text-align: right;\n",
       "    }\n",
       "</style>\n",
       "<table border=\"1\" class=\"dataframe\">\n",
       "  <thead>\n",
       "    <tr style=\"text-align: right;\">\n",
       "      <th></th>\n",
       "      <th>#G</th>\n",
       "      <th>Gly</th>\n",
       "      <th>PSD</th>\n",
       "      <th>MG</th>\n",
       "      <th>Ins</th>\n",
       "      <th>IMC</th>\n",
       "      <th>Risk</th>\n",
       "      <th>Age</th>\n",
       "    </tr>\n",
       "  </thead>\n",
       "  <tbody>\n",
       "    <tr>\n",
       "      <th>482</th>\n",
       "      <td>0</td>\n",
       "      <td>84</td>\n",
       "      <td>82</td>\n",
       "      <td>31</td>\n",
       "      <td>125</td>\n",
       "      <td>38.2</td>\n",
       "      <td>0.233</td>\n",
       "      <td>23</td>\n",
       "    </tr>\n",
       "    <tr>\n",
       "      <th>263</th>\n",
       "      <td>4</td>\n",
       "      <td>123</td>\n",
       "      <td>62</td>\n",
       "      <td>0</td>\n",
       "      <td>0</td>\n",
       "      <td>32.0</td>\n",
       "      <td>0.226</td>\n",
       "      <td>35</td>\n",
       "    </tr>\n",
       "    <tr>\n",
       "      <th>631</th>\n",
       "      <td>2</td>\n",
       "      <td>111</td>\n",
       "      <td>60</td>\n",
       "      <td>0</td>\n",
       "      <td>0</td>\n",
       "      <td>26.2</td>\n",
       "      <td>0.343</td>\n",
       "      <td>23</td>\n",
       "    </tr>\n",
       "    <tr>\n",
       "      <th>62</th>\n",
       "      <td>2</td>\n",
       "      <td>141</td>\n",
       "      <td>58</td>\n",
       "      <td>34</td>\n",
       "      <td>128</td>\n",
       "      <td>25.4</td>\n",
       "      <td>0.699</td>\n",
       "      <td>24</td>\n",
       "    </tr>\n",
       "    <tr>\n",
       "      <th>746</th>\n",
       "      <td>1</td>\n",
       "      <td>81</td>\n",
       "      <td>74</td>\n",
       "      <td>41</td>\n",
       "      <td>57</td>\n",
       "      <td>46.3</td>\n",
       "      <td>1.096</td>\n",
       "      <td>32</td>\n",
       "    </tr>\n",
       "    <tr>\n",
       "      <th>...</th>\n",
       "      <td>...</td>\n",
       "      <td>...</td>\n",
       "      <td>...</td>\n",
       "      <td>...</td>\n",
       "      <td>...</td>\n",
       "      <td>...</td>\n",
       "      <td>...</td>\n",
       "      <td>...</td>\n",
       "    </tr>\n",
       "    <tr>\n",
       "      <th>243</th>\n",
       "      <td>2</td>\n",
       "      <td>146</td>\n",
       "      <td>76</td>\n",
       "      <td>35</td>\n",
       "      <td>194</td>\n",
       "      <td>38.2</td>\n",
       "      <td>0.329</td>\n",
       "      <td>29</td>\n",
       "    </tr>\n",
       "    <tr>\n",
       "      <th>755</th>\n",
       "      <td>7</td>\n",
       "      <td>137</td>\n",
       "      <td>90</td>\n",
       "      <td>41</td>\n",
       "      <td>0</td>\n",
       "      <td>32.0</td>\n",
       "      <td>0.391</td>\n",
       "      <td>39</td>\n",
       "    </tr>\n",
       "    <tr>\n",
       "      <th>236</th>\n",
       "      <td>0</td>\n",
       "      <td>179</td>\n",
       "      <td>90</td>\n",
       "      <td>27</td>\n",
       "      <td>0</td>\n",
       "      <td>44.1</td>\n",
       "      <td>0.686</td>\n",
       "      <td>23</td>\n",
       "    </tr>\n",
       "    <tr>\n",
       "      <th>324</th>\n",
       "      <td>1</td>\n",
       "      <td>157</td>\n",
       "      <td>72</td>\n",
       "      <td>21</td>\n",
       "      <td>168</td>\n",
       "      <td>25.6</td>\n",
       "      <td>0.123</td>\n",
       "      <td>24</td>\n",
       "    </tr>\n",
       "    <tr>\n",
       "      <th>492</th>\n",
       "      <td>4</td>\n",
       "      <td>125</td>\n",
       "      <td>70</td>\n",
       "      <td>18</td>\n",
       "      <td>122</td>\n",
       "      <td>28.9</td>\n",
       "      <td>1.144</td>\n",
       "      <td>45</td>\n",
       "    </tr>\n",
       "  </tbody>\n",
       "</table>\n",
       "<p>383 rows × 8 columns</p>\n",
       "</div>"
      ],
      "text/plain": [
       "     #G  Gly  PSD  MG  Ins   IMC   Risk  Age\n",
       "482   0   84   82  31  125  38.2  0.233   23\n",
       "263   4  123   62   0    0  32.0  0.226   35\n",
       "631   2  111   60   0    0  26.2  0.343   23\n",
       "62    2  141   58  34  128  25.4  0.699   24\n",
       "746   1   81   74  41   57  46.3  1.096   32\n",
       "..   ..  ...  ...  ..  ...   ...    ...  ...\n",
       "243   2  146   76  35  194  38.2  0.329   29\n",
       "755   7  137   90  41    0  32.0  0.391   39\n",
       "236   0  179   90  27    0  44.1  0.686   23\n",
       "324   1  157   72  21  168  25.6  0.123   24\n",
       "492   4  125   70  18  122  28.9  1.144   45\n",
       "\n",
       "[383 rows x 8 columns]"
      ]
     },
     "execution_count": 10,
     "metadata": {},
     "output_type": "execute_result"
    }
   ],
   "source": [
    "X_1"
   ]
  },
  {
   "cell_type": "code",
   "execution_count": 12,
   "id": "e49993a4",
   "metadata": {},
   "outputs": [],
   "source": [
    "#normalisation de mon jeu de données X_1\n",
    "X_1_normalise=scaler.transform(X_1)"
   ]
  },
  {
   "cell_type": "code",
   "execution_count": 13,
   "id": "1ed5c09d",
   "metadata": {},
   "outputs": [
    {
     "data": {
      "text/plain": [
       "array([[-0.49202921,  0.14737271, -1.14655823, ...,  0.27737732,\n",
       "        -0.88279066, -0.88071407],\n",
       "       [ 0.74775492, -1.12531607,  0.55841851, ..., -1.08805504,\n",
       "        -1.16325998, -0.04515923],\n",
       "       [-0.49202921, -0.13898227,  0.55841851, ...,  1.31364295,\n",
       "         0.69332501, -0.96426955],\n",
       "       ...,\n",
       "       [ 0.43780889, -0.39352002, -0.04333799, ..., -0.74669695,\n",
       "        -0.52915542, -0.2122702 ],\n",
       "       [-0.18208318, -1.02986441,  0.45812576, ...,  1.28926023,\n",
       "         0.28481534, -0.96426955],\n",
       "       [-1.11192128, -0.93441275, -0.44450899, ...,  0.38709956,\n",
       "        -0.61756423, -0.63004762]])"
      ]
     },
     "execution_count": 13,
     "metadata": {},
     "output_type": "execute_result"
    }
   ],
   "source": [
    "#Affichage de mon jeu de données normalisé\n",
    "X_1_normalise"
   ]
  },
  {
   "cell_type": "code",
   "execution_count": 73,
   "id": "e76e1078",
   "metadata": {},
   "outputs": [
    {
     "data": {
      "image/png": "[encoded data removed]",
      "text/plain": [
       "<Figure size 1152x864 with 8 Axes>"
      ]
     },
     "metadata": {
      "needs_background": "light"
     },
     "output_type": "display_data"
    }
   ],
   "source": [
    "fig = plt.figure(figsize=(16, 12))\n",
    "for feat_idx in range(X_1_normalise.shape[1]):\n",
    "    ax = fig.add_subplot(3,4, (feat_idx+1))\n",
    "    h = ax.hist(X_1_normalise[:, feat_idx], bins=50, color='steelblue', density=True, edgecolor='none')\n",
    "    ax.set_title(Pima_DF.columns[feat_idx], fontsize=14)\n"
   ]
  },
  {
   "cell_type": "code",
   "execution_count": 14,
   "id": "0e587352",
   "metadata": {},
   "outputs": [],
   "source": [
    "#normalisation de mon jeu de données X_2\n",
    "X_2_normalise=scaler.transform(X_2)"
   ]
  },
  {
   "cell_type": "code",
   "execution_count": 15,
   "id": "02f25f32",
   "metadata": {},
   "outputs": [
    {
     "data": {
      "text/plain": [
       "array([[-0.49202921, -0.48897168,  0.25754026, ...,  0.17984644,\n",
       "        -0.1877145 , -0.79715858],\n",
       "       [-0.80197524,  1.29279261,  0.15724751, ...,  0.8381799 ,\n",
       "         2.30602364,  0.03839625],\n",
       "       [ 0.12786285, -0.39352002,  0.35783301, ..., -0.4541043 ,\n",
       "        -1.05960828, -0.46293665],\n",
       "       ...,\n",
       "       [ 2.29748508, -0.3617028 ,  0.759004  , ...,  1.78910601,\n",
       "         1.40059549,  1.04106206],\n",
       "       [ 2.60743111, -0.96622997, -0.34421624, ..., -0.55163518,\n",
       "         1.40364407,  0.95750657],\n",
       "       [ 0.12786285, -0.23443392,  0.15724751, ..., -0.3931475 ,\n",
       "        -0.27307473,  1.12461754]])"
      ]
     },
     "execution_count": 15,
     "metadata": {},
     "output_type": "execute_result"
    }
   ],
   "source": [
    "#Affichage de mon jeu de données normalisé X_2\n",
    "X_2_normalise"
   ]
  },
  {
   "cell_type": "code",
   "execution_count": 16,
   "id": "307278ca",
   "metadata": {},
   "outputs": [],
   "source": [
    "#classification avec knn=5\n",
    "neigh5 = KNeighborsClassifier(n_neighbors=5)"
   ]
  },
  {
   "cell_type": "code",
   "execution_count": 17,
   "id": "20986697",
   "metadata": {},
   "outputs": [
    {
     "data": {
      "text/plain": [
       "KNeighborsClassifier()"
      ]
     },
     "execution_count": 17,
     "metadata": {},
     "output_type": "execute_result"
    }
   ],
   "source": [
    "neigh5.fit(X_1_normalise, Y_1)"
   ]
  },
  {
   "cell_type": "code",
   "execution_count": 18,
   "id": "93c50a76",
   "metadata": {},
   "outputs": [],
   "source": [
    "#classification avec knn = 15\n",
    "neigh15 = KNeighborsClassifier(n_neighbors=15)"
   ]
  },
  {
   "cell_type": "code",
   "execution_count": 19,
   "id": "5ae1636c",
   "metadata": {},
   "outputs": [
    {
     "data": {
      "text/plain": [
       "KNeighborsClassifier(n_neighbors=15)"
      ]
     },
     "execution_count": 19,
     "metadata": {},
     "output_type": "execute_result"
    }
   ],
   "source": [
    "neigh15.fit(X_1_normalise, Y_1)"
   ]
  },
  {
   "cell_type": "code",
   "execution_count": 20,
   "id": "36a74271",
   "metadata": {},
   "outputs": [
    {
     "data": {
      "text/plain": [
       "0.7213541666666666"
      ]
     },
     "execution_count": 20,
     "metadata": {},
     "output_type": "execute_result"
    }
   ],
   "source": [
    "#mesure du score d'apprentissage du jeu de données x_1_normalisé et y_1 pour k=5\n",
    "neigh5.score(X_2_normalise, Y_2)"
   ]
  },
  {
   "cell_type": "code",
   "execution_count": 21,
   "id": "ecc172c7",
   "metadata": {},
   "outputs": [
    {
     "data": {
      "text/plain": [
       "0.7447916666666666"
      ]
     },
     "execution_count": 21,
     "metadata": {},
     "output_type": "execute_result"
    }
   ],
   "source": [
    "#mesure du score d'apprentissage du jeu de données x_1_normalisé et y_1 pour k=15\n",
    "neigh15.score(X_2_normalise, Y_2)"
   ]
  },
  {
   "cell_type": "code",
   "execution_count": 24,
   "id": "2a1bb467",
   "metadata": {},
   "outputs": [],
   "source": [
    "y_pred = neigh5.predict(X_2_normalise)"
   ]
  },
  {
   "cell_type": "code",
   "execution_count": 25,
   "id": "64f6a3be",
   "metadata": {},
   "outputs": [
    {
     "data": {
      "text/plain": [
       "array([-1,  1, -1, -1, -1,  1,  1, -1,  1,  1,  1,  1,  1, -1,  1, -1, -1,\n",
       "        1, -1,  1, -1,  1,  1,  1, -1, -1,  1, -1, -1, -1, -1, -1, -1, -1,\n",
       "        1, -1, -1,  1, -1, -1,  1,  1, -1, -1, -1,  1, -1, -1, -1, -1, -1,\n",
       "        1, -1, -1, -1, -1, -1,  1, -1, -1,  1, -1,  1,  1, -1, -1, -1, -1,\n",
       "       -1, -1, -1,  1, -1, -1,  1, -1, -1, -1, -1, -1,  1, -1, -1, -1,  1,\n",
       "       -1, -1, -1,  1, -1, -1,  1, -1, -1, -1,  1, -1, -1,  1, -1,  1, -1,\n",
       "        1, -1, -1, -1,  1, -1, -1, -1, -1, -1,  1,  1, -1,  1, -1, -1, -1,\n",
       "        1,  1,  1,  1, -1, -1, -1, -1, -1, -1, -1,  1, -1,  1, -1,  1, -1,\n",
       "       -1, -1, -1,  1, -1, -1, -1,  1, -1, -1,  1, -1, -1, -1,  1, -1, -1,\n",
       "       -1, -1, -1, -1, -1,  1, -1, -1,  1, -1, -1, -1, -1, -1, -1, -1, -1,\n",
       "        1, -1, -1, -1, -1, -1,  1, -1, -1, -1, -1, -1,  1, -1, -1, -1,  1,\n",
       "       -1,  1,  1, -1,  1,  1, -1, -1, -1,  1, -1, -1,  1, -1, -1, -1,  1,\n",
       "       -1, -1, -1, -1,  1, -1, -1,  1, -1, -1, -1, -1, -1,  1, -1, -1, -1,\n",
       "       -1, -1,  1,  1, -1, -1,  1,  1, -1, -1, -1, -1, -1, -1, -1, -1, -1,\n",
       "       -1, -1, -1, -1, -1, -1, -1, -1, -1,  1, -1, -1, -1, -1, -1, -1,  1,\n",
       "       -1,  1, -1, -1,  1,  1,  1, -1, -1, -1, -1, -1, -1, -1, -1, -1, -1,\n",
       "       -1, -1,  1, -1, -1, -1, -1, -1,  1, -1, -1, -1, -1,  1, -1,  1, -1,\n",
       "        1, -1, -1,  1, -1, -1, -1, -1, -1,  1, -1, -1, -1,  1,  1, -1, -1,\n",
       "       -1, -1,  1, -1, -1, -1, -1, -1, -1,  1, -1, -1, -1,  1,  1, -1, -1,\n",
       "       -1, -1, -1,  1,  1, -1, -1, -1, -1, -1, -1,  1, -1,  1,  1, -1,  1,\n",
       "        1, -1,  1, -1, -1,  1,  1, -1, -1, -1,  1, -1, -1, -1, -1, -1, -1,\n",
       "       -1, -1, -1,  1, -1, -1, -1, -1, -1, -1, -1, -1, -1, -1,  1,  1, -1,\n",
       "       -1,  1, -1,  1, -1, -1,  1,  1, -1,  1], dtype=int64)"
      ]
     },
     "execution_count": 25,
     "metadata": {},
     "output_type": "execute_result"
    }
   ],
   "source": [
    "y_pred"
   ]
  },
  {
   "cell_type": "code",
   "execution_count": 27,
   "id": "54316d5a",
   "metadata": {},
   "outputs": [
    {
     "data": {
      "text/plain": [
       "0.7213541666666666"
      ]
     },
     "execution_count": 27,
     "metadata": {},
     "output_type": "execute_result"
    }
   ],
   "source": [
    "accuracy_score(Y_2, y_pred)"
   ]
  },
  {
   "cell_type": "code",
   "execution_count": 31,
   "id": "3ab14050",
   "metadata": {},
   "outputs": [
    {
     "name": "stdout",
     "output_type": "stream",
     "text": [
      "              precision    recall  f1-score   support\n",
      "\n",
      "          -1       0.75      0.84      0.80       247\n",
      "           1       0.64      0.50      0.56       137\n",
      "\n",
      "    accuracy                           0.72       384\n",
      "   macro avg       0.70      0.67      0.68       384\n",
      "weighted avg       0.71      0.72      0.71       384\n",
      "\n"
     ]
    }
   ],
   "source": [
    "print(classification_report(Y_2, y_pred))"
   ]
  },
  {
   "cell_type": "code",
   "execution_count": 32,
   "id": "8208bc34",
   "metadata": {},
   "outputs": [],
   "source": [
    "y_pred15 = neigh15.predict(X_2_normalise)"
   ]
  },
  {
   "cell_type": "code",
   "execution_count": 34,
   "id": "f86605f2",
   "metadata": {},
   "outputs": [
    {
     "data": {
      "text/plain": [
       "array([-1,  1, -1, -1, -1, -1, -1, -1,  1,  1, -1,  1,  1, -1,  1,  1, -1,\n",
       "        1, -1, -1, -1, -1,  1,  1, -1, -1,  1, -1, -1, -1, -1, -1, -1, -1,\n",
       "        1, -1, -1,  1, -1, -1, -1, -1, -1, -1,  1,  1, -1, -1, -1, -1, -1,\n",
       "        1, -1, -1, -1, -1, -1,  1, -1, -1,  1, -1,  1,  1,  1, -1, -1, -1,\n",
       "       -1, -1, -1,  1, -1, -1, -1, -1, -1, -1, -1, -1, -1, -1, -1, -1,  1,\n",
       "       -1, -1, -1,  1, -1, -1,  1, -1, -1, -1,  1, -1, -1,  1, -1, -1, -1,\n",
       "        1, -1, -1, -1,  1, -1,  1, -1, -1, -1, -1,  1, -1, -1,  1, -1, -1,\n",
       "        1,  1,  1, -1, -1, -1,  1, -1, -1, -1, -1, -1, -1, -1, -1,  1, -1,\n",
       "        1, -1, -1,  1, -1, -1, -1,  1, -1, -1, -1, -1, -1, -1, -1, -1, -1,\n",
       "       -1, -1, -1, -1, -1,  1,  1, -1, -1, -1, -1, -1, -1, -1, -1, -1, -1,\n",
       "        1, -1, -1, -1, -1, -1,  1, -1, -1, -1, -1, -1,  1, -1, -1, -1,  1,\n",
       "       -1, -1,  1, -1, -1,  1, -1, -1, -1, -1, -1, -1,  1, -1, -1, -1,  1,\n",
       "       -1, -1, -1, -1,  1, -1, -1,  1, -1, -1, -1, -1, -1,  1, -1, -1, -1,\n",
       "       -1, -1,  1, -1, -1, -1,  1,  1, -1, -1, -1, -1, -1, -1, -1, -1, -1,\n",
       "       -1, -1, -1, -1, -1, -1, -1, -1, -1,  1, -1, -1, -1, -1, -1, -1,  1,\n",
       "       -1, -1, -1, -1,  1, -1,  1, -1, -1, -1, -1, -1, -1, -1, -1, -1, -1,\n",
       "       -1, -1,  1, -1, -1, -1, -1, -1,  1, -1, -1, -1, -1, -1, -1,  1, -1,\n",
       "        1, -1,  1,  1, -1, -1, -1, -1, -1, -1, -1, -1, -1,  1,  1, -1, -1,\n",
       "       -1, -1,  1, -1, -1, -1, -1, -1, -1,  1, -1, -1,  1, -1,  1, -1, -1,\n",
       "       -1, -1, -1,  1, -1, -1, -1, -1, -1, -1, -1,  1, -1,  1, -1, -1,  1,\n",
       "        1, -1, -1, -1,  1,  1, -1, -1, -1,  1, -1, -1, -1, -1, -1, -1, -1,\n",
       "       -1, -1, -1,  1, -1, -1, -1, -1, -1, -1, -1, -1, -1, -1,  1,  1, -1,\n",
       "       -1,  1, -1,  1, -1, -1,  1,  1, -1, -1], dtype=int64)"
      ]
     },
     "execution_count": 34,
     "metadata": {},
     "output_type": "execute_result"
    }
   ],
   "source": [
    "y_pred15"
   ]
  },
  {
   "cell_type": "code",
   "execution_count": 35,
   "id": "77e50c1c",
   "metadata": {},
   "outputs": [
    {
     "data": {
      "text/plain": [
       "0.7447916666666666"
      ]
     },
     "execution_count": 35,
     "metadata": {},
     "output_type": "execute_result"
    }
   ],
   "source": [
    "accuracy_score(Y_2, y_pred15)"
   ]
  },
  {
   "cell_type": "code",
   "execution_count": 38,
   "id": "2c8a4ab5",
   "metadata": {},
   "outputs": [
    {
     "data": {
      "text/plain": [
       "0.6728774490971956"
      ]
     },
     "execution_count": 38,
     "metadata": {},
     "output_type": "execute_result"
    }
   ],
   "source": [
    "roc_auc_score(Y_2, y_pred)"
   ]
  },
  {
   "cell_type": "code",
   "execution_count": 166,
   "id": "dd2280a2",
   "metadata": {},
   "outputs": [
    {
     "data": {
      "text/plain": [
       "0.5267762460233298"
      ]
     },
     "execution_count": 166,
     "metadata": {},
     "output_type": "execute_result"
    }
   ],
   "source": [
    "roc_auc_score(Y_2, y_pred15)"
   ]
  },
  {
   "cell_type": "code",
   "execution_count": 162,
   "id": "b2e8af38",
   "metadata": {},
   "outputs": [
    {
     "data": {
      "text/plain": [
       "array([[182,  64],\n",
       "       [ 94,  44]], dtype=int64)"
      ]
     },
     "execution_count": 162,
     "metadata": {},
     "output_type": "execute_result"
    }
   ],
   "source": [
    "confusion_matrix(Y_2, y_pred)"
   ]
  },
  {
   "cell_type": "code",
   "execution_count": 167,
   "id": "d6ee315c",
   "metadata": {},
   "outputs": [
    {
     "data": {
      "text/plain": [
       "array([[195,  51],\n",
       "       [102,  36]], dtype=int64)"
      ]
     },
     "execution_count": 167,
     "metadata": {},
     "output_type": "execute_result"
    }
   ],
   "source": [
    "confusion_matrix(Y_2, y_pred15)"
   ]
  },
  {
   "cell_type": "code",
   "execution_count": 169,
   "id": "4a249a41",
   "metadata": {},
   "outputs": [
    {
     "data": {
      "text/plain": [
       "Text(0, 0.5, 'Sensibilite')"
      ]
     },
     "execution_count": 169,
     "metadata": {},
     "output_type": "execute_result"
    },
    {
     "data": {
      "image/png": "[encoded data removed]",
      "text/plain": [
       "<Figure size 432x288 with 1 Axes>"
      ]
     },
     "metadata": {
      "needs_background": "light"
     },
     "output_type": "display_data"
    }
   ],
   "source": [
    "y_roc_neigh5 = neigh5.predict_proba(X_2_normalise)[:, 1]\n",
    "[fpr, tpr, thr] = roc_curve(Y_2, y_roc_neigh5)\n",
    "plt.plot(fpr, tpr, color='steelblue', lw=2)\n",
    "plt.xlim([0.0, 1.0])\n",
    "plt.ylim([0.0, 1.05])\n",
    "plt.xlabel('1 - specificite', fontsize=14)\n",
    "plt.ylabel('Sensibilite', fontsize=14)"
   ]
  },
  {
   "cell_type": "code",
   "execution_count": 168,
   "id": "d7cb8ba4",
   "metadata": {},
   "outputs": [
    {
     "data": {
      "text/plain": [
       "Text(0, 0.5, 'Sensibilite')"
      ]
     },
     "execution_count": 168,
     "metadata": {},
     "output_type": "execute_result"
    },
    {
     "data": {
      "image/png": "[encoded data removed]",
      "text/plain": [
       "<Figure size 432x288 with 1 Axes>"
      ]
     },
     "metadata": {
      "needs_background": "light"
     },
     "output_type": "display_data"
    }
   ],
   "source": [
    "y_roc_neigh15 = neigh15.predict_proba(X_2_normalise)[:, 1]\n",
    "[fpr, tpr, thr] = roc_curve(Y_2, y_roc_neigh15)\n",
    "plt.plot(fpr, tpr, color='coral', lw=2)\n",
    "plt.xlim([0.0, 1.0])\n",
    "plt.ylim([0.0, 1.05])\n",
    "plt.xlabel('1 - specificite', fontsize=14)\n",
    "plt.ylabel('Sensibilite', fontsize=14)"
   ]
  },
  {
   "cell_type": "markdown",
   "id": "b434ee9d",
   "metadata": {},
   "source": [
    "# Parie 2\n"
   ]
  },
  {
   "cell_type": "markdown",
   "id": "20a37e2c",
   "metadata": {},
   "source": [
    "# Strategie 1 : ensemble d’apprentissage, de validation et de test"
   ]
  },
  {
   "cell_type": "code",
   "execution_count": 39,
   "id": "b58a071b",
   "metadata": {},
   "outputs": [],
   "source": [
    "#S1.1\n",
    "#train_test_split\n",
    "X_av, X_t, Y_av, Y_t = train_test_split(X, Y, test_size=0.5)"
   ]
  },
  {
   "cell_type": "code",
   "execution_count": 41,
   "id": "213abe2f",
   "metadata": {},
   "outputs": [],
   "source": [
    "p_k = [1, 5, 10, 15, 20, 25]"
   ]
  },
  {
   "cell_type": "markdown",
   "id": "041035e6",
   "metadata": {},
   "source": [
    "### Strategie 1.2"
   ]
  },
  {
   "cell_type": "code",
   "execution_count": 45,
   "id": "b35c30f3",
   "metadata": {},
   "outputs": [],
   "source": [
    "#S1.2\n",
    "X_a, X_v, Y_a, Y_v = train_test_split(X_av, Y_av, test_size=0.6)"
   ]
  },
  {
   "cell_type": "code",
   "execution_count": 46,
   "id": "a1925d56",
   "metadata": {},
   "outputs": [],
   "source": [
    "# normalisation de jeu de données (X_a, Y_a), (X_v Y_v) et (X_t, Y_t) \n",
    "scandler2 = StandardScaler()"
   ]
  },
  {
   "cell_type": "code",
   "execution_count": 47,
   "id": "3c3031de",
   "metadata": {},
   "outputs": [
    {
     "data": {
      "text/plain": [
       "StandardScaler()"
      ]
     },
     "execution_count": 47,
     "metadata": {},
     "output_type": "execute_result"
    }
   ],
   "source": [
    "scandler2.fit(X_a)"
   ]
  },
  {
   "cell_type": "code",
   "execution_count": 48,
   "id": "ed93eb06",
   "metadata": {},
   "outputs": [
    {
     "data": {
      "text/html": [
       "<div>\n",
       "<style scoped>\n",
       "    .dataframe tbody tr th:only-of-type {\n",
       "        vertical-align: middle;\n",
       "    }\n",
       "\n",
       "    .dataframe tbody tr th {\n",
       "        vertical-align: top;\n",
       "    }\n",
       "\n",
       "    .dataframe thead th {\n",
       "        text-align: right;\n",
       "    }\n",
       "</style>\n",
       "<table border=\"1\" class=\"dataframe\">\n",
       "  <thead>\n",
       "    <tr style=\"text-align: right;\">\n",
       "      <th></th>\n",
       "      <th>#G</th>\n",
       "      <th>Gly</th>\n",
       "      <th>PSD</th>\n",
       "      <th>MG</th>\n",
       "      <th>Ins</th>\n",
       "      <th>IMC</th>\n",
       "      <th>Risk</th>\n",
       "      <th>Age</th>\n",
       "    </tr>\n",
       "  </thead>\n",
       "  <tbody>\n",
       "    <tr>\n",
       "      <th>184</th>\n",
       "      <td>7</td>\n",
       "      <td>194</td>\n",
       "      <td>68</td>\n",
       "      <td>28</td>\n",
       "      <td>0</td>\n",
       "      <td>35.9</td>\n",
       "      <td>0.745</td>\n",
       "      <td>41</td>\n",
       "    </tr>\n",
       "    <tr>\n",
       "      <th>274</th>\n",
       "      <td>2</td>\n",
       "      <td>100</td>\n",
       "      <td>70</td>\n",
       "      <td>52</td>\n",
       "      <td>57</td>\n",
       "      <td>40.5</td>\n",
       "      <td>0.677</td>\n",
       "      <td>25</td>\n",
       "    </tr>\n",
       "    <tr>\n",
       "      <th>100</th>\n",
       "      <td>1</td>\n",
       "      <td>151</td>\n",
       "      <td>60</td>\n",
       "      <td>0</td>\n",
       "      <td>0</td>\n",
       "      <td>26.1</td>\n",
       "      <td>0.179</td>\n",
       "      <td>22</td>\n",
       "    </tr>\n",
       "    <tr>\n",
       "      <th>390</th>\n",
       "      <td>5</td>\n",
       "      <td>166</td>\n",
       "      <td>76</td>\n",
       "      <td>0</td>\n",
       "      <td>0</td>\n",
       "      <td>45.7</td>\n",
       "      <td>0.340</td>\n",
       "      <td>27</td>\n",
       "    </tr>\n",
       "    <tr>\n",
       "      <th>681</th>\n",
       "      <td>0</td>\n",
       "      <td>95</td>\n",
       "      <td>64</td>\n",
       "      <td>39</td>\n",
       "      <td>105</td>\n",
       "      <td>44.6</td>\n",
       "      <td>0.366</td>\n",
       "      <td>22</td>\n",
       "    </tr>\n",
       "    <tr>\n",
       "      <th>...</th>\n",
       "      <td>...</td>\n",
       "      <td>...</td>\n",
       "      <td>...</td>\n",
       "      <td>...</td>\n",
       "      <td>...</td>\n",
       "      <td>...</td>\n",
       "      <td>...</td>\n",
       "      <td>...</td>\n",
       "    </tr>\n",
       "    <tr>\n",
       "      <th>343</th>\n",
       "      <td>8</td>\n",
       "      <td>95</td>\n",
       "      <td>72</td>\n",
       "      <td>0</td>\n",
       "      <td>0</td>\n",
       "      <td>36.8</td>\n",
       "      <td>0.485</td>\n",
       "      <td>57</td>\n",
       "    </tr>\n",
       "    <tr>\n",
       "      <th>683</th>\n",
       "      <td>5</td>\n",
       "      <td>136</td>\n",
       "      <td>82</td>\n",
       "      <td>0</td>\n",
       "      <td>0</td>\n",
       "      <td>0.0</td>\n",
       "      <td>0.640</td>\n",
       "      <td>69</td>\n",
       "    </tr>\n",
       "    <tr>\n",
       "      <th>624</th>\n",
       "      <td>4</td>\n",
       "      <td>90</td>\n",
       "      <td>88</td>\n",
       "      <td>47</td>\n",
       "      <td>54</td>\n",
       "      <td>37.7</td>\n",
       "      <td>0.362</td>\n",
       "      <td>29</td>\n",
       "    </tr>\n",
       "    <tr>\n",
       "      <th>727</th>\n",
       "      <td>2</td>\n",
       "      <td>175</td>\n",
       "      <td>88</td>\n",
       "      <td>0</td>\n",
       "      <td>0</td>\n",
       "      <td>22.9</td>\n",
       "      <td>0.326</td>\n",
       "      <td>22</td>\n",
       "    </tr>\n",
       "    <tr>\n",
       "      <th>568</th>\n",
       "      <td>0</td>\n",
       "      <td>121</td>\n",
       "      <td>66</td>\n",
       "      <td>30</td>\n",
       "      <td>165</td>\n",
       "      <td>34.3</td>\n",
       "      <td>0.203</td>\n",
       "      <td>33</td>\n",
       "    </tr>\n",
       "  </tbody>\n",
       "</table>\n",
       "<p>153 rows × 8 columns</p>\n",
       "</div>"
      ],
      "text/plain": [
       "     #G  Gly  PSD  MG  Ins   IMC   Risk  Age\n",
       "184   7  194   68  28    0  35.9  0.745   41\n",
       "274   2  100   70  52   57  40.5  0.677   25\n",
       "100   1  151   60   0    0  26.1  0.179   22\n",
       "390   5  166   76   0    0  45.7  0.340   27\n",
       "681   0   95   64  39  105  44.6  0.366   22\n",
       "..   ..  ...  ...  ..  ...   ...    ...  ...\n",
       "343   8   95   72   0    0  36.8  0.485   57\n",
       "683   5  136   82   0    0   0.0  0.640   69\n",
       "624   4   90   88  47   54  37.7  0.362   29\n",
       "727   2  175   88   0    0  22.9  0.326   22\n",
       "568   0  121   66  30  165  34.3  0.203   33\n",
       "\n",
       "[153 rows x 8 columns]"
      ]
     },
     "execution_count": 48,
     "metadata": {},
     "output_type": "execute_result"
    }
   ],
   "source": [
    "X_a"
   ]
  },
  {
   "cell_type": "code",
   "execution_count": 49,
   "id": "444fedb3",
   "metadata": {},
   "outputs": [],
   "source": [
    "X_a_normalisé=scandler2.transform(X_a)"
   ]
  },
  {
   "cell_type": "code",
   "execution_count": 50,
   "id": "15371d4d",
   "metadata": {},
   "outputs": [
    {
     "data": {
      "text/plain": [
       "array([[ 1.01512118,  2.31581226, -0.02398569, ...,  0.51779579,\n",
       "         0.79200819,  0.81407575],\n",
       "       [-0.4811557 , -0.75528151,  0.0839499 , ...,  1.09079056,\n",
       "         0.58603261, -0.61245069],\n",
       "       [-0.78041108,  0.91095022, -0.45572804, ..., -0.7029322 ,\n",
       "        -0.92243564, -0.87992439],\n",
       "       ...,\n",
       "       [ 0.11735505, -1.08199361,  1.05537019, ...,  0.74201113,\n",
       "        -0.36811899, -0.25581908],\n",
       "       [-0.4811557 ,  1.69505926,  1.05537019, ..., -1.10153726,\n",
       "        -0.47716489, -0.87992439],\n",
       "       [-1.07966646, -0.06918609, -0.13192127, ...,  0.31849326,\n",
       "        -0.84973837,  0.10081253]])"
      ]
     },
     "execution_count": 50,
     "metadata": {},
     "output_type": "execute_result"
    }
   ],
   "source": [
    "X_a_normalisé"
   ]
  },
  {
   "cell_type": "code",
   "execution_count": 52,
   "id": "270a50bc",
   "metadata": {},
   "outputs": [],
   "source": [
    "X_v_normalisé = scandler2.transform(X_v)"
   ]
  },
  {
   "cell_type": "code",
   "execution_count": 54,
   "id": "830544f0",
   "metadata": {},
   "outputs": [
    {
     "data": {
      "text/plain": [
       "array([[-1.07966646, -0.7226103 , -0.18588907, ..., -0.88977832,\n",
       "        -0.74675058, -0.87992439],\n",
       "       [ 1.01512118,  0.45355327,  1.16330578, ...,  0.03199587,\n",
       "        -0.28027646,  0.63575994],\n",
       "       [-1.07966646,  0.48622448, -3.69379568, ...,  0.56762142,\n",
       "         1.3614701 , -0.61245069],\n",
       "       ...,\n",
       "       [ 0.7158658 , -0.68993909,  0.73156343, ..., -0.11748103,\n",
       "        -0.91940658,  0.36828624],\n",
       "       [ 1.61363193,  0.71492296,  1.05537019, ..., -0.17976307,\n",
       "         0.87076356,  1.88397058],\n",
       "       [-0.78041108,  0.2248548 ,  0.0839499 , ..., -0.72784502,\n",
       "        -0.0349232 , -0.87992439]])"
      ]
     },
     "execution_count": 54,
     "metadata": {},
     "output_type": "execute_result"
    }
   ],
   "source": [
    "X_v_normalisé"
   ]
  },
  {
   "cell_type": "code",
   "execution_count": 53,
   "id": "b7cde1a2",
   "metadata": {},
   "outputs": [],
   "source": [
    "X_t_normalisé = scandler2.transform(X_t)"
   ]
  },
  {
   "cell_type": "code",
   "execution_count": 55,
   "id": "42b9103c",
   "metadata": {},
   "outputs": [
    {
     "data": {
      "text/plain": [
       "array([[-0.18190033, -1.31069208, -0.56366363, ...,  0.31849326,\n",
       "        -0.44687436, -0.61245069],\n",
       "       [ 0.41661043,  2.08711379,  0.40775667, ...,  1.47693921,\n",
       "         1.66740442,  1.88397058],\n",
       "       [ 1.61363193, -0.68993909,  0.40775667, ...,  0.14410354,\n",
       "         0.54968397,  1.25986526],\n",
       "       ...,\n",
       "       [-0.4811557 , -1.34336329, -0.88747039, ..., -0.40397841,\n",
       "         3.68172446, -0.61245069],\n",
       "       [-0.4811557 ,  0.74759417,  0.40775667, ...,  0.80429317,\n",
       "        -0.46807773, -0.25581908],\n",
       "       [ 0.11735505,  0.06149875,  0.0839499 , ..., -0.35415278,\n",
       "         2.00060021,  1.17070736]])"
      ]
     },
     "execution_count": 55,
     "metadata": {},
     "output_type": "execute_result"
    }
   ],
   "source": [
    "X_t_normalisé"
   ]
  },
  {
   "cell_type": "code",
   "execution_count": null,
   "id": "65a8b21e",
   "metadata": {},
   "outputs": [],
   "source": [
    "#s1.3 Application de l'algorithme k_nn pour chaque valeur de P_K puis evaluer l'erreur en apprentissage et en validation"
   ]
  },
  {
   "cell_type": "code",
   "execution_count": 144,
   "id": "e579f109",
   "metadata": {},
   "outputs": [],
   "source": [
    "Erreur_A = []\n",
    "Erreur_V = []\n",
    "for i in p_k:\n",
    "    #je crée un objet KNeighborsClassifier pour chaque valeur de i\n",
    "    neigh = KNeighborsClassifier(n_neighbors=i)\n",
    "    # apprentissage des parametres de mon objet sur mon jeu de données d'entrainement X_a\n",
    "    neigh.fit(X_a_normalisé, Y_a)\n",
    "    # je mesure mon score d'apprentissage sur mes données test\n",
    "    score_A = neigh.score(X_t_normalisé, Y_t)\n",
    "    # je mesure mon score d'apprentissage sur mes données de validation\n",
    "    score_V = neigh.score(X_v_normalisé, Y_v)\n",
    "    Erreur_A.append(score_A)\n",
    "    Erreur_V.append(score_V)\n",
    "    #print(Erreur_A)\n",
    "    #print(Erreur_V)"
   ]
  },
  {
   "cell_type": "code",
   "execution_count": 154,
   "id": "ba980468",
   "metadata": {},
   "outputs": [
    {
     "data": {
      "text/plain": [
       "<matplotlib.legend.Legend at 0x1a33f50e220>"
      ]
     },
     "execution_count": 154,
     "metadata": {},
     "output_type": "execute_result"
    },
    {
     "data": {
      "image/png": "[encoded data removed]",
      "text/plain": [
       "<Figure size 432x288 with 1 Axes>"
      ]
     },
     "metadata": {
      "needs_background": "light"
     },
     "output_type": "display_data"
    }
   ],
   "source": [
    "#graphic\n",
    "plt.plot(p_k, Erreur_V, label='validation')\n",
    "plt.plot(p_k, Erreur_A, label='Apprentissage')\n",
    "\n",
    "plt.ylabel('score')\n",
    "plt.xlabel('n_neighbors')\n",
    "\n",
    "plt.legend()"
   ]
  },
  {
   "cell_type": "code",
   "execution_count": null,
   "id": "e451e997",
   "metadata": {},
   "outputs": [],
   "source": [
    "# En interpretation mon model je vois l'erreur minimale est optenu avec k=5 "
   ]
  },
  {
   "cell_type": "code",
   "execution_count": 158,
   "id": "7b38414d",
   "metadata": {},
   "outputs": [],
   "source": [
    "#Evaluation de l'erreur de test pour K=5\n",
    "neighbors5 = KNeighborsClassifier(n_neighbors=5)\n",
    "neighbors5.fit(X_a_normalisé, Y_a)\n",
    "score_E_test = neighbors5.score(X_t_normalisé, Y_t)"
   ]
  },
  {
   "cell_type": "code",
   "execution_count": 159,
   "id": "0ca82919",
   "metadata": {},
   "outputs": [
    {
     "name": "stdout",
     "output_type": "stream",
     "text": [
      "0.5234375\n"
     ]
    }
   ],
   "source": [
    "print(score_E_test)"
   ]
  },
  {
   "cell_type": "markdown",
   "id": "1d0044b6",
   "metadata": {},
   "source": [
    "# Strategie 2 : validation-croisée pour la séléction de  k."
   ]
  },
  {
   "cell_type": "code",
   "execution_count": 122,
   "id": "7ea40680",
   "metadata": {},
   "outputs": [],
   "source": [
    "#rappelle des valeurs de P_K\n",
    "p_k = [1, 5, 10, 15, 20, 25]"
   ]
  },
  {
   "cell_type": "markdown",
   "id": "f5553ee1",
   "metadata": {},
   "source": [
    "#S2.1\n",
    "#Normalisons les valeurs mes jeux de donnees (X_av, Y_av) et (X_t, Y_t) selon le principe decrit dans la partie 1"
   ]
  },
  {
   "cell_type": "code",
   "execution_count": 123,
   "id": "41ca7212",
   "metadata": {},
   "outputs": [],
   "source": [
    "#train_test_split\n",
    "X_av, X_t, Y_av, Y_t = train_test_split(X, Y, test_size=0.5)"
   ]
  },
  {
   "cell_type": "code",
   "execution_count": 124,
   "id": "1003f4fd",
   "metadata": {},
   "outputs": [],
   "source": [
    "#creation de mon standardiseur\n",
    "scaler3 = StandardScaler()"
   ]
  },
  {
   "cell_type": "code",
   "execution_count": 125,
   "id": "100edd9b",
   "metadata": {},
   "outputs": [
    {
     "data": {
      "text/plain": [
       "StandardScaler()"
      ]
     },
     "execution_count": 125,
     "metadata": {},
     "output_type": "execute_result"
    }
   ],
   "source": [
    "scaler3.fit(X_av)"
   ]
  },
  {
   "cell_type": "code",
   "execution_count": 126,
   "id": "69b5d30a",
   "metadata": {},
   "outputs": [],
   "source": [
    "#transformer le jeu d'entrainement en lui appliquant le scaler\n",
    "X_av_normalisé=scaler3.transform(X_av)"
   ]
  },
  {
   "cell_type": "code",
   "execution_count": 127,
   "id": "a05cf0e2",
   "metadata": {},
   "outputs": [
    {
     "data": {
      "text/plain": [
       "array([[-0.53593614, -0.32033147,  1.20648001, ...,  1.34266132,\n",
       "         1.1846157 ,  1.8269452 ],\n",
       "       [-0.53593614,  0.31799815,  0.25840373, ...,  0.15188639,\n",
       "         0.37239605, -0.69253336],\n",
       "       [ 0.07045542, -1.37357534, -0.37364712, ...,  0.25216218,\n",
       "        -0.26714697, -0.69253336],\n",
       "       ...,\n",
       "       [ 1.88963009,  1.33932554, -0.05762169, ..., -0.81326802,\n",
       "        -0.47499846,  1.2187952 ],\n",
       "       [ 2.19282587, -1.08632701,  0.25840373, ..., -0.23668227,\n",
       "        -0.55813905,  0.17625235],\n",
       "       [ 1.28323853, -1.4374083 ,  0.04772011, ...,  0.41511033,\n",
       "         0.73693558,  0.52376663]])"
      ]
     },
     "execution_count": 127,
     "metadata": {},
     "output_type": "execute_result"
    }
   ],
   "source": [
    "X_av_normalisé"
   ]
  },
  {
   "cell_type": "code",
   "execution_count": 128,
   "id": "88286cc1",
   "metadata": {},
   "outputs": [],
   "source": [
    "X_t_normalise2 = scaler3.transform(X_t)"
   ]
  },
  {
   "cell_type": "code",
   "execution_count": 130,
   "id": "ed2261d2",
   "metadata": {},
   "outputs": [
    {
     "data": {
      "image/png": "[encoded data removed]",
      "text/plain": [
       "<Figure size 1152x864 with 8 Axes>"
      ]
     },
     "metadata": {
      "needs_background": "light"
     },
     "output_type": "display_data"
    }
   ],
   "source": [
    "#visualisation de la distribution des variable standardisées standardisées\n",
    "fig = plt.figure(figsize=(16, 12))\n",
    "for feat_idx in range(X_av_normalisé.shape[1]):\n",
    "    ax = fig.add_subplot(3,4, (feat_idx+1))\n",
    "    h = ax.hist(X_av_normalisé[:, feat_idx], bins=50, color='steelblue', density=True, edgecolor='none')\n",
    "    ax.set_title(Pima_DF.columns[feat_idx], fontsize=14)"
   ]
  },
  {
   "cell_type": "markdown",
   "id": "52216511",
   "metadata": {},
   "source": [
    "###### l'ensemble de reference est (X_av, Y_av)"
   ]
  },
  {
   "cell_type": "code",
   "execution_count": 150,
   "id": "61b3ef71",
   "metadata": {},
   "outputs": [],
   "source": [
    "#S2.2 Construire construire k=5 sous ensemble\n",
    "from sklearn import neighbors, metrics\n",
    "\n",
    "# Fixer les valeurs des hyperparamètres à tester\n",
    "param_grid = {'n_neighbors':[1, 5, 10, 15, 20, 25],\n",
    "             'metric' : ['euclidean', 'manhattan']}\n",
    "# Choisir un score à optimiser, ici l'accuracy (proportion de prédictions correctes)\n",
    "score = 'accuracy'"
   ]
  },
  {
   "cell_type": "code",
   "execution_count": 151,
   "id": "96c27d86",
   "metadata": {},
   "outputs": [],
   "source": [
    "# Créer un classifieur kNN avec recherche d'hyperparamètre par validation croisée\n",
    "clf = model_selection.GridSearchCV(\n",
    "    neighbors.KNeighborsClassifier(), # un classifieur k_NN\n",
    "    param_grid,     # hyperparamètres à tester\n",
    "    cv=5,           # nombre de folds de validation croisée\n",
    "    scoring=score   # score à optimiser\n",
    ")"
   ]
  },
  {
   "cell_type": "code",
   "execution_count": 152,
   "id": "6a715281",
   "metadata": {},
   "outputs": [
    {
     "data": {
      "text/plain": [
       "GridSearchCV(cv=5, estimator=KNeighborsClassifier(),\n",
       "             param_grid={'metric': ['euclidean', 'manhattan'],\n",
       "                         'n_neighbors': [1, 5, 10, 15, 20, 25]},\n",
       "             scoring='accuracy')"
      ]
     },
     "execution_count": 152,
     "metadata": {},
     "output_type": "execute_result"
    }
   ],
   "source": [
    "# Optimiser ce classifieur sur le jeu d'entraînement\n",
    "clf.fit(X_av_normalisé, Y_av)"
   ]
  },
  {
   "cell_type": "code",
   "execution_count": 153,
   "id": "1815f00a",
   "metadata": {},
   "outputs": [
    {
     "name": "stdout",
     "output_type": "stream",
     "text": [
      "Meilleur(s) hyperparamètre(s) sur le jeu d'entraînement:\n",
      "{'metric': 'manhattan', 'n_neighbors': 15}\n"
     ]
    }
   ],
   "source": [
    "# Afficher le(s) hyperparamètre(s) optimaux\n",
    "print(\"Meilleur(s) hyperparamètre(s) sur le jeu d'entraînement:\")\n",
    "print(clf.best_params_)"
   ]
  },
  {
   "cell_type": "code",
   "execution_count": 137,
   "id": "104dfdf7",
   "metadata": {},
   "outputs": [
    {
     "name": "stdout",
     "output_type": "stream",
     "text": [
      "Résultats de la validation croisée :\n",
      "accuracy = 0.668 (+/-0.080) for {'n_neighbors': 1}\n",
      "accuracy = 0.676 (+/-0.083) for {'n_neighbors': 5}\n",
      "accuracy = 0.721 (+/-0.094) for {'n_neighbors': 10}\n",
      "accuracy = 0.721 (+/-0.102) for {'n_neighbors': 15}\n",
      "accuracy = 0.710 (+/-0.070) for {'n_neighbors': 20}\n",
      "accuracy = 0.726 (+/-0.035) for {'n_neighbors': 25}\n"
     ]
    }
   ],
   "source": [
    "# Afficher les performances correspondantes\n",
    "print(\"Résultats de la validation croisée :\")\n",
    "for mean, std, params in zip(\n",
    "        clf.cv_results_['mean_test_score'], # score moyen\n",
    "        clf.cv_results_['std_test_score'],  # écart-type du score\n",
    "        clf.cv_results_['params']           # valeur de l'hyperparamètre\n",
    "    ):\n",
    "\n",
    "    print(\"{} = {:.3f} (+/-{:.03f}) for {}\".format(\n",
    "        score,\n",
    "        mean,\n",
    "        std*2,\n",
    "        params\n",
    "    ) )\n"
   ]
  },
  {
   "cell_type": "markdown",
   "id": "3ff850b9",
   "metadata": {},
   "source": [
    "La meilleure performance (~0.726) est ici atteinte avec 25 voisins."
   ]
  },
  {
   "cell_type": "code",
   "execution_count": 160,
   "id": "c340e552",
   "metadata": {},
   "outputs": [],
   "source": [
    "#commenter les resultats"
   ]
  },
  {
   "cell_type": "code",
   "execution_count": 171,
   "id": "c6bcb4c1",
   "metadata": {},
   "outputs": [
    {
     "name": "stdout",
     "output_type": "stream",
     "text": [
      "\n",
      "Sur le jeu de test : 0.760\n"
     ]
    }
   ],
   "source": [
    "#la performance sur le jeu de test\n",
    "y_pred_test = clf.predict(X_t_normalise2)\n",
    "print(\"\\nSur le jeu de test : {:.3f}\".format(metrics.accuracy_score(Y_t, y_pred_test)))\n"
   ]
  },
  {
   "cell_type": "markdown",
   "id": "f81e91ed",
   "metadata": {},
   "source": [
    "### Partie 3 : EXERCICE NOTE"
   ]
  },
  {
   "cell_type": "code",
   "execution_count": null,
   "id": "28ed692e",
   "metadata": {},
   "outputs": [],
   "source": []
  }
 ],
 "metadata": {
  "kernelspec": {
   "display_name": "Python 3",
   "language": "python",
   "name": "python3"
  },
  "language_info": {
   "codemirror_mode": {
    "name": "ipython",
    "version": 3
   },
   "file_extension": ".py",
   "mimetype": "text/x-python",
   "name": "python",
   "nbconvert_exporter": "python",
   "pygments_lexer": "ipython3",
   "version": "3.8.8"
  }
 },
 "nbformat": 4,
 "nbformat_minor": 5
}
