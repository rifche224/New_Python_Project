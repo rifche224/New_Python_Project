{
 "cells": [
  {
   "cell_type": "markdown",
   "id": "e5ed8651",
   "metadata": {},
   "source": [
    "# Breast Cancer Wisconsin "
   ]
  },
  {
   "cell_type": "markdown",
   "id": "7251cdad",
   "metadata": {},
   "source": [
    "## Importation des librairies"
   ]
  },
  {
   "cell_type": "code",
   "execution_count": null,
   "id": "d1b2359f",
   "metadata": {},
   "outputs": [],
   "source": [
    "import numpy as np\n",
    "import pandas as pd\n",
    "import matplotlib.pyplot as plt\n",
    "import seaborn as sns\n",
    "from sklearn.model_selection import train_test_split\n",
    "from sklearn.preprocessing import StandardScaler\n",
    "from sklearn.metrics import classification_report\n",
    "from sklearn.model_selection import GridSearchCV"
   ]
  },
  {
   "cell_type": "markdown",
   "id": "da24a037",
   "metadata": {},
   "source": [
    "## Chargement des données"
   ]
  },
  {
   "cell_type": "code",
   "execution_count": null,
   "id": "6f4cf2cf",
   "metadata": {},
   "outputs": [],
   "source": [
    "Cancer_DS = pd.read_csv(\"breast-cancer-wisconsins.data\", sep=\",\", names=[\"ID\", \"Clump_Thickness\", \"Uniformity_of_Cell_Size\", \"Uniformity_of_Cell_Shape\", \"Marginal_Adhesion\", \"Single_Epithelial_Cell_Size\", \"Bare_Nuclei\", \"Bland_Chromatin\", \"Normal_Nucleoli\", \"Mitoses\",\"Class\"])"
   ]
  },
  {
   "cell_type": "code",
   "execution_count": null,
   "id": "9bac8a6f",
   "metadata": {},
   "outputs": [],
   "source": [
    "Cancer_DS.head()"
   ]
  },
  {
   "cell_type": "code",
   "execution_count": null,
   "id": "af70d892",
   "metadata": {},
   "outputs": [],
   "source": [
    "Cancer_DS.info()"
   ]
  },
  {
   "cell_type": "markdown",
   "id": "505c46cb",
   "metadata": {},
   "source": [
    "# Etude de la distribution des données"
   ]
  },
  {
   "cell_type": "markdown",
   "id": "1b8a6330",
   "metadata": {},
   "source": [
    "#### Visualisation des features"
   ]
  },
  {
   "cell_type": "code",
   "execution_count": null,
   "id": "f5c14b04",
   "metadata": {},
   "outputs": [],
   "source": [
    "sns.distplot(Cancer_DS.Clump_Thickness, rug=True, hist=True)"
   ]
  },
  {
   "cell_type": "markdown",
   "id": "733aaae8",
   "metadata": {},
   "source": [
    "on constate que la pluspart des individus ont des Clump Thickness qui tourne autour de la moyenne 5.5 "
   ]
  },
  {
   "cell_type": "code",
   "execution_count": null,
   "id": "96fadee5",
   "metadata": {},
   "outputs": [],
   "source": [
    "sns.distplot(Cancer_DS.Uniformity_of_Cell_Size, rug=True, hist=True)"
   ]
  },
  {
   "cell_type": "markdown",
   "id": "f2d8bb37",
   "metadata": {},
   "source": [
    "nous voyons ici que la majeur partie des individus ont une Uniformity_of_Cell Size entre 0 et 2 cm "
   ]
  },
  {
   "cell_type": "code",
   "execution_count": null,
   "id": "81c60a3e",
   "metadata": {},
   "outputs": [],
   "source": [
    "sns.distplot(Cancer_DS.Uniformity_of_Cell_Shape, rug=True, hist=True)"
   ]
  },
  {
   "cell_type": "markdown",
   "id": "f6a519c9",
   "metadata": {},
   "source": [
    "on Constate que approximativement 58 % des populations ont une Uniformity_of_Cell_Shape 2 "
   ]
  },
  {
   "cell_type": "code",
   "execution_count": null,
   "id": "b3552841",
   "metadata": {},
   "outputs": [],
   "source": [
    "sns.distplot(Cancer_DS.Marginal_Adhesion, rug=True, hist=True)"
   ]
  },
  {
   "cell_type": "markdown",
   "id": "3b7bc909",
   "metadata": {},
   "source": [
    "Approximativement presque 90 % des individus ont Marginal_Adhesion de 1.5 cm"
   ]
  },
  {
   "cell_type": "code",
   "execution_count": null,
   "id": "16be206e",
   "metadata": {},
   "outputs": [],
   "source": [
    "sns.distplot(Cancer_DS.Single_Epithelial_Cell_Size, rug=True, hist=True)"
   ]
  },
  {
   "cell_type": "markdown",
   "id": "f41e6f73",
   "metadata": {},
   "source": [
    "approximativement une majorité des individus diagonstiqués presente une Single_Epithelial_Cell_Size de 2.2 cm . Cependant certains de ces individus présente une Single_Epithelial_Cell_Size 10 cm"
   ]
  },
  {
   "cell_type": "code",
   "execution_count": null,
   "id": "47cb5411",
   "metadata": {},
   "outputs": [],
   "source": [
    "sns.distplot(Cancer_DS.Bland_Chromatin, rug=True, hist=True)"
   ]
  },
  {
   "cell_type": "markdown",
   "id": "9641f52c",
   "metadata": {},
   "source": [
    "Approximativement 38 % des individus diagonstiqués presente une Bland_Chromatin de 3.5 . Cependant pres 16 % de ces individus présente une Bland_Chromatin 7.5"
   ]
  },
  {
   "cell_type": "code",
   "execution_count": null,
   "id": "cbef7a94",
   "metadata": {},
   "outputs": [],
   "source": [
    "sns.distplot(Cancer_DS.Normal_Nucleoli, rug=True, hist=True)\n"
   ]
  },
  {
   "cell_type": "markdown",
   "id": "b5449eb4",
   "metadata": {},
   "source": [
    "On constate qu'une partie importante des individus ont un Normal_Nucleoli de 1.5"
   ]
  },
  {
   "cell_type": "markdown",
   "id": "c0f74b0c",
   "metadata": {},
   "source": [
    " En definitive, les données presentées ne suivent pas une loi normale c'est qui peut entrainer une potentiel presentiel des valeurs aberrantes qu'il faudra mettre sous forme normale distribution"
   ]
  },
  {
   "cell_type": "markdown",
   "id": "e2c12930",
   "metadata": {},
   "source": [
    "##### Analyse bivariée"
   ]
  },
  {
   "cell_type": "code",
   "execution_count": null,
   "id": "e0e31389",
   "metadata": {},
   "outputs": [],
   "source": [
    "sns.boxplot(x='Clump_Thickness',y='Uniformity_of_Cell_Size', data=Cancer_DS)"
   ]
  },
  {
   "cell_type": "markdown",
   "id": "7749a3b7",
   "metadata": {},
   "source": [
    "on voit d'apres nos Boxplot (diagramme à moustaches) que le min_value est aux environ de 1, la moyenne tourne autour de 5 et le max est de 10.Cependant, nous constatons qu'il y'a la presence de valeurs abberantes dans les valeurs des features (Clump_Thickness, Uniformity_of_Cell_Size)"
   ]
  },
  {
   "cell_type": "code",
   "execution_count": null,
   "id": "083e4cf4",
   "metadata": {},
   "outputs": [],
   "source": [
    "sns.boxplot(x='Uniformity_of_Cell_Shape',y='Marginal_Adhesion', data=Cancer_DS)"
   ]
  },
  {
   "cell_type": "markdown",
   "id": "f8e4ad06",
   "metadata": {},
   "source": [
    "Pour les variables (Marginal_Adhesionmi,Uniformity_of_Cell_Shape) le min_value est de 1, la moyenne est de 5 et le max 10. Ells presentent également des valeurs abberantes"
   ]
  },
  {
   "cell_type": "code",
   "execution_count": null,
   "id": "b2463eba",
   "metadata": {},
   "outputs": [],
   "source": [
    "sns.boxplot(x='Single_Epithelial_Cell_Size',y='Bare_Nuclei', data=Cancer_DS)"
   ]
  },
  {
   "cell_type": "code",
   "execution_count": null,
   "id": "a6d423e2",
   "metadata": {},
   "outputs": [],
   "source": [
    "Cancer_DS.describe()"
   ]
  },
  {
   "cell_type": "code",
   "execution_count": null,
   "id": "24335774",
   "metadata": {},
   "outputs": [],
   "source": [
    "Cancer_DS.corr()"
   ]
  },
  {
   "cell_type": "code",
   "execution_count": null,
   "id": "5c3071b7",
   "metadata": {},
   "outputs": [],
   "source": [
    "# Matrice de corrélations\n",
    "Pima_corr = Cancer_DS.corr()\n",
    "# masque triangulaire\n",
    "mask = np.triu(np.ones_like(Pima_corr, dtype=bool))\n",
    "# matplolib setup\n",
    "f, ax = plt.subplots(figsize=(11, 9))\n",
    "# matrice de corrélation avec masque trinagulaire inférieur\n",
    "sns.heatmap(Pima_corr, mask=mask, cmap = 'mako', center=0, square=True)"
   ]
  },
  {
   "cell_type": "code",
   "execution_count": null,
   "id": "8b48ae76",
   "metadata": {},
   "outputs": [],
   "source": [
    "corr = Cancer_DS.corr()\n",
    "corr.style.background_gradient(cmap='coolwarm')"
   ]
  },
  {
   "cell_type": "markdown",
   "id": "078eef83",
   "metadata": {},
   "source": [
    "## Netoyage des données"
   ]
  },
  {
   "cell_type": "code",
   "execution_count": null,
   "id": "124f3a98",
   "metadata": {},
   "outputs": [],
   "source": [
    "Cancer_DS.shape"
   ]
  },
  {
   "cell_type": "code",
   "execution_count": null,
   "id": "3e52556d",
   "metadata": {},
   "outputs": [],
   "source": [
    "import missingno as mno\n",
    "\n",
    "def showme_mno(Cancer_DS):\n",
    "    return Cancer_DS.isna().sum()"
   ]
  },
  {
   "cell_type": "code",
   "execution_count": null,
   "id": "9dd70f1f",
   "metadata": {},
   "outputs": [],
   "source": [
    "showme_mno(Cancer_DS)"
   ]
  },
  {
   "cell_type": "code",
   "execution_count": null,
   "id": "dfef895d",
   "metadata": {},
   "outputs": [],
   "source": [
    "mno.matrix(Cancer_DS)"
   ]
  },
  {
   "cell_type": "markdown",
   "id": "c03917af",
   "metadata": {},
   "source": [
    "on constate qu'il n'existe pas de NaN dans le jeu de données"
   ]
  },
  {
   "cell_type": "code",
   "execution_count": null,
   "id": "f215ce54",
   "metadata": {},
   "outputs": [],
   "source": [
    "for col in Cancer_DS:\n",
    "    print(f'{col :-<40} {Cancer_DS[col].unique()}')"
   ]
  },
  {
   "cell_type": "markdown",
   "id": "2280c70e",
   "metadata": {},
   "source": [
    "D'aprés nos graphique il n'y pas de valeur manquantes en terme de completude des données parcontre nous nottons la presence de valeur non conforme notamment \"?\" presente dans notre jeu de données dont nous allons proceder à leur nettoyage.\n",
    "Pour nétoyer ces valeurs non conforme nous allons utilisé la methode SimpleImputer avec une constante.\n",
    "En effet \"?\" etant une chaine de caractère et pas un NaN alors nous ne pouvons pas utiliser les strategies d'imputation comme le k-nnImputer vue en cours ou le simpleImputer avec la moyen (mean) et la mediane (median) car nous ne pouvons pas convertir un string en float dans ce cas la methode la plus pertinante est d'utiliser SimpleImputer avec une constante disponible dans sckit learn."
   ]
  },
  {
   "cell_type": "code",
   "execution_count": null,
   "id": "5a10fabd",
   "metadata": {},
   "outputs": [],
   "source": [
    "from sklearn.impute import KNNImputer\n",
    "from sklearn.impute import SimpleImputer\n",
    "\n",
    "imp_mean = SimpleImputer(strategy='constant', fill_value=1, add_indicator=True)\n",
    "imp_mean.fit_transform(Cancer_DS)\n",
    "\n",
    "#knn_imp = KNNImputer(n_neighbors=1)\n",
    "#knn_imp.fit_transform(Cancer_DS)\n"
   ]
  },
  {
   "cell_type": "code",
   "execution_count": null,
   "id": "b80ffd8f",
   "metadata": {},
   "outputs": [],
   "source": [
    "indexNames = Cancer_DS[Cancer_DS['Bare_Nuclei'] == '?'].index\n",
    "# Delete these row indexes from dataFrame\n",
    "Cancer_DS.drop(indexNames , inplace=True)\n",
    "\n",
    "# convert all DataFrame columns to the int64 dtype\n",
    "Cancer_DS = Cancer_DS.astype(int)"
   ]
  },
  {
   "cell_type": "markdown",
   "id": "d666b2c1",
   "metadata": {},
   "source": [
    "## Valeurs Abberantes"
   ]
  },
  {
   "cell_type": "markdown",
   "id": "ac1271b9",
   "metadata": {},
   "source": [
    "Une valeur abberantes est une valeur extremes ou une anomalie qui peut etre decrite comme une donnée qui s'ecarte trop du reste des observations"
   ]
  },
  {
   "cell_type": "markdown",
   "id": "f4278c83",
   "metadata": {},
   "source": [
    "Aprés avoir detecter les valeurs abberante, nous allons devolopé un algorithme qui nous permet de recuperer ces valeurs afin d'eviter qu'elles influent sur notre modele d'apprentissage.\n",
    "L'algorithme que nous allons developpé ici consiste à :\n",
    ". Calculer le premier quartile(25%) des données\n",
    ". Calculer le troisieme quartile(75%) des données\n",
    ". Calculer l'écart inter-quartile.\n",
    ". on calcules les limtes superieurs et inferieur\n",
    ". on recupère l'indice de chaque valeur abberante ainsi que la liste contenant ces valeurs.Ainsi à chaque fois qu'on appele cette fonction il nous renvoie la liste des valeurs aberantes qu'on pourra separer de notre jeu de données. "
   ]
  },
  {
   "cell_type": "code",
   "execution_count": null,
   "id": "54d84d76",
   "metadata": {},
   "outputs": [],
   "source": [
    "def find_all_outlier(v):\n",
    "    Q1 = np.quantile(v, 0.25)\n",
    "    Q3 = np.quantile(v, 0.75)\n",
    "    EIQ = Q3 - Q1\n",
    "    LI = Q1 - (EIQ*1.5)\n",
    "    LS = Q3 + (EIQ*1.5)\n",
    "    i = list(v.index[(v < LI) | (v > LS)])\n",
    "    val = list(v[i])\n",
    "    return i, val\n",
    "    "
   ]
  },
  {
   "cell_type": "code",
   "execution_count": null,
   "id": "7eaa227d",
   "metadata": {},
   "outputs": [],
   "source": [
    "outliers_Marginal_Adhesion = find_all_outlier(Cancer_DS['Marginal_Adhesion'])\n",
    "outliers_Clump_Thickness = find_all_outlier(Cancer_DS['Clump_Thickness'])\n",
    "outliers_Uniformity_of_Cell_Size = find_all_outlier(Cancer_DS['Uniformity_of_Cell_Size'])\n",
    "outliers_Single_Epithelial_Cell_Size = find_all_outlier(Cancer_DS['Single_Epithelial_Cell_Size'])\n",
    "outliers_Normal_Nucleoli = find_all_outlier(Cancer_DS['Normal_Nucleoli'])"
   ]
  },
  {
   "cell_type": "code",
   "execution_count": null,
   "id": "723fe843",
   "metadata": {},
   "outputs": [],
   "source": [
    "Cancer_DS=Cancer_DS.drop(outliers_Marginal_Adhesion[0])"
   ]
  },
  {
   "cell_type": "code",
   "execution_count": null,
   "id": "a98e388d",
   "metadata": {},
   "outputs": [],
   "source": [
    "Cancer_DS[:20]"
   ]
  },
  {
   "cell_type": "code",
   "execution_count": null,
   "id": "604e4393",
   "metadata": {},
   "outputs": [],
   "source": [
    "Cancer_DS.shape"
   ]
  },
  {
   "cell_type": "markdown",
   "id": "b86efb45",
   "metadata": {},
   "source": [
    "Apres avoir supprimer toutes les valeur abberante notre jeu de données est passé de 698 instances à 624 instances"
   ]
  },
  {
   "cell_type": "markdown",
   "id": "a6f29074",
   "metadata": {},
   "source": [
    "## Mise en place de la procedure d'apprentissage"
   ]
  },
  {
   "cell_type": "markdown",
   "id": "c3334f89",
   "metadata": {},
   "source": [
    "### Methode K-Means Clustering"
   ]
  },
  {
   "cell_type": "markdown",
   "id": "f1907080",
   "metadata": {},
   "source": [
    "# Normalisation des données"
   ]
  },
  {
   "cell_type": "code",
   "execution_count": null,
   "id": "f56ff03a",
   "metadata": {},
   "outputs": [],
   "source": [
    "from sklearn.preprocessing import StandardScaler\n",
    "from sklearn.cluster import KMeans"
   ]
  },
  {
   "cell_type": "code",
   "execution_count": null,
   "id": "dd4bc321",
   "metadata": {},
   "outputs": [],
   "source": [
    "X = Cancer_DS.drop('Class', axis=1).values\n",
    "Y = Cancer_DS['Class'].values"
   ]
  },
  {
   "cell_type": "code",
   "execution_count": null,
   "id": "763ecec9",
   "metadata": {},
   "outputs": [],
   "source": [
    "print(X.shape)\n",
    "print(Y.shape)"
   ]
  },
  {
   "cell_type": "code",
   "execution_count": null,
   "id": "ea621c7d",
   "metadata": {},
   "outputs": [],
   "source": [
    "# Standardize the data\n",
    "scaler = StandardScaler()\n",
    "X_scaled = scaler.fit_transform(X)\n",
    "X_scaled"
   ]
  },
  {
   "cell_type": "code",
   "execution_count": null,
   "id": "0def7655",
   "metadata": {},
   "outputs": [],
   "source": [
    "from sklearn import cluster, metrics\n",
    "\n",
    "silhouettes = []\n",
    "\n",
    "for num_clusters in range(2, 10):\n",
    "    cls = cluster.KMeans(n_clusters = num_clusters, n_init=1, init='random')\n",
    "    cls.fit(X_scaled)\n",
    "    silh = metrics.silhouette_score(X_scaled, cls.labels_)\n",
    "    silhouettes.append(silh)\n",
    "    \n",
    "    \n",
    "    \n",
    "    \n",
    "    \n",
    "plt.plot(range(2, 10), silhouettes, marker='o')"
   ]
  },
  {
   "cell_type": "markdown",
   "id": "2e30326a",
   "metadata": {},
   "source": [
    "On voit que le coefficient silouhette décroit avec le nombre de clusters et croit en 7 et 8 puis decroit en 9 alors cela signifie qu'il faut privilegier 2 à 3 clusters sur les valeurs pour lesquels le coeficients de silhoute est élevé "
   ]
  },
  {
   "cell_type": "markdown",
   "id": "e1f1c8a0",
   "metadata": {},
   "source": [
    "## Visualisation des clusters"
   ]
  },
  {
   "cell_type": "code",
   "execution_count": null,
   "id": "b799ab89",
   "metadata": {},
   "outputs": [],
   "source": [
    "from sklearn import decomposition"
   ]
  },
  {
   "cell_type": "code",
   "execution_count": null,
   "id": "3ef02fe8",
   "metadata": {},
   "outputs": [],
   "source": [
    "pca = decomposition.PCA(n_components=2)\n",
    "pca.fit(X_scaled)\n",
    "print(pca.explained_variance_ratio_.cumsum())\n",
    "X_trans = pca.transform(X_scaled)"
   ]
  },
  {
   "cell_type": "markdown",
   "id": "3461b75b",
   "metadata": {},
   "source": [
    "la nous avons visualisé le coeficient de variance matérialisé par la première composante et par les deux en meme temps"
   ]
  },
  {
   "cell_type": "code",
   "execution_count": null,
   "id": "b55ad5b4",
   "metadata": {},
   "outputs": [],
   "source": [
    "fig = plt.figure(figsize=(12, 5))\n",
    "cls = cluster.KMeans(n_clusters=2)\n",
    "cls.fit(X_scaled)\n",
    "\n",
    "ax = fig.add_subplot(121)\n",
    "ax.scatter(X_trans[:, 0], X_trans[:, 1], c = cls.labels_)"
   ]
  },
  {
   "cell_type": "code",
   "execution_count": null,
   "id": "0ef72752",
   "metadata": {},
   "outputs": [],
   "source": [
    "fig = plt.figure(figsize=(12, 5))\n",
    "cls3 = cluster.KMeans(n_clusters=3)\n",
    "cls3.fit(X_scaled)\n",
    "\n",
    "ax = fig.add_subplot(121)\n",
    "ax.scatter(X_trans[:, 0], X_trans[:, 1], c = cls3.labels_)"
   ]
  },
  {
   "cell_type": "markdown",
   "id": "3c9ea56a",
   "metadata": {},
   "source": [
    "On voit que quand nous avons essayé de diviser les points en 3 clusters quelques points extremes (abberantes) du premier cluster ont tendance à constitué leurs propres clusters  "
   ]
  },
  {
   "cell_type": "markdown",
   "id": "80898079",
   "metadata": {},
   "source": [
    "### Comparons les clusters de notre modele aux vrais étiquettes "
   ]
  },
  {
   "cell_type": "code",
   "execution_count": null,
   "id": "dace69e7",
   "metadata": {},
   "outputs": [],
   "source": [
    "fig = plt.figure(figsize=(12, 5))\n",
    "cls3 = cluster.KMeans(n_clusters=3)\n",
    "cls3.fit(X_scaled)\n",
    "ax = fig.add_subplot(121)\n",
    "ax.scatter(X_trans[:, 0], X_trans[:, 1], c = cls3.labels_)\n",
    "\n",
    "ax = fig.add_subplot(122)\n",
    "ax.scatter(X_trans[:, 0], X_trans[:, 1], c = Y)"
   ]
  },
  {
   "cell_type": "code",
   "execution_count": null,
   "id": "dd3b5ebc",
   "metadata": {},
   "outputs": [],
   "source": [
    "print(metrics.adjusted_rand_score(Y, cls3.labels_))"
   ]
  },
  {
   "cell_type": "markdown",
   "id": "8ac55bb2",
   "metadata": {},
   "source": [
    "D'apres la valeur dun score ajusté nous avons 80 % de resssemblance entre les clusters trouvés et les vrai etiquetes du jeu de données"
   ]
  },
  {
   "cell_type": "markdown",
   "id": "d1940b78",
   "metadata": {},
   "source": [
    "En definitive l'algorithme Kmeans est un algorithme trés efficace mais cependant il produit une valeur de k fixe et sensible à son initialisation. On est peut également noter que KMeans est sensibles aux valeus abberentes car elles ont tendances à deplacer certains clusters et attirés vers elles."
   ]
  },
  {
   "cell_type": "markdown",
   "id": "340b0dce",
   "metadata": {},
   "source": [
    "## Methode DBSCAN Clustering "
   ]
  },
  {
   "cell_type": "code",
   "execution_count": null,
   "id": "6861108d",
   "metadata": {},
   "outputs": [],
   "source": [
    "from sklearn.cluster import DBSCAN\n",
    "from sklearn import metrics\n"
   ]
  },
  {
   "cell_type": "code",
   "execution_count": null,
   "id": "7fc2bc13",
   "metadata": {},
   "outputs": [],
   "source": [
    "# Standardize the data\n",
    "scaler = StandardScaler()\n",
    "X_norm = scaler.fit_transform(X)\n",
    "X_norm"
   ]
  },
  {
   "cell_type": "code",
   "execution_count": null,
   "id": "0cc585e0",
   "metadata": {},
   "outputs": [],
   "source": [
    "model = DBSCAN(eps=0.8, min_samples=10)"
   ]
  },
  {
   "cell_type": "code",
   "execution_count": null,
   "id": "6b99012a",
   "metadata": {},
   "outputs": [],
   "source": [
    "model.fit(X_norm)"
   ]
  },
  {
   "cell_type": "code",
   "execution_count": null,
   "id": "dc362e53",
   "metadata": {},
   "outputs": [],
   "source": [
    "model.labels_"
   ]
  },
  {
   "cell_type": "code",
   "execution_count": null,
   "id": "2e93f72f",
   "metadata": {},
   "outputs": [],
   "source": [
    "Y"
   ]
  },
  {
   "cell_type": "markdown",
   "id": "a6360824",
   "metadata": {},
   "source": [
    "## visualisation des clusters"
   ]
  },
  {
   "cell_type": "code",
   "execution_count": null,
   "id": "47778050",
   "metadata": {},
   "outputs": [],
   "source": [
    "fig, ax = plt.subplots(figsize=(6, 5))\n",
    "ax.scatter(X[:, 0], X[:, 1], c = model.labels_)\n",
    "\n",
    "fig.show()\n",
    "\n",
    "\n",
    "\n",
    "fig, ax = plt.subplots(figsize=(6, 5))\n",
    "ax.scatter(X[:, 0], X[:, 1], c = Y)\n",
    "\n",
    "fig.show()"
   ]
  },
  {
   "cell_type": "markdown",
   "id": "ef41b1f1",
   "metadata": {},
   "source": [
    "Avec l'algorithme DBSCAN nous identifions deux clusters"
   ]
  },
  {
   "cell_type": "code",
   "execution_count": null,
   "id": "87913146",
   "metadata": {},
   "outputs": [],
   "source": [
    "print(metrics.adjusted_rand_score(Y, model.labels_))"
   ]
  },
  {
   "cell_type": "markdown",
   "id": "284f2f0d",
   "metadata": {},
   "source": [
    "Nous avons 59 % de resssemblance entre les clusters trouvés et les vrai etiquetes du jeu de données"
   ]
  }
 ],
 "metadata": {
  "kernelspec": {
   "display_name": "Python 3",
   "language": "python",
   "name": "python3"
  },
  "language_info": {
   "codemirror_mode": {
    "name": "ipython",
    "version": 3
   },
   "file_extension": ".py",
   "mimetype": "text/x-python",
   "name": "python",
   "nbconvert_exporter": "python",
   "pygments_lexer": "ipython3",
   "version": "3.8.8"
  }
 },
 "nbformat": 4,
 "nbformat_minor": 5
}
