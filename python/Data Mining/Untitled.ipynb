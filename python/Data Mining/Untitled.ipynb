{
 "cells": [
  {
   "cell_type": "markdown",
   "id": "7e4285cc",
   "metadata": {},
   "source": [
    "# # PARTIE II : CHURN"
   ]
  },
  {
   "cell_type": "markdown",
   "id": "2c7d7d00",
   "metadata": {},
   "source": [
    "### Introduction"
   ]
  },
  {
   "cell_type": "markdown",
   "id": "0977e75d",
   "metadata": {},
   "source": [
    "le jeu de données qui est soumis à notre analyse s'articule autour de la Télécomunication.Il s'agit ici d'un ensemble de données multivariées décrivant l’analyse des désabonnements (signifiant le départ chez les concurrents) des clients d’un opérateur téléphonique.\n",
    "Dans cette étude, nous procedons rigoureusement à l'apprentissage et la classification des  valeur de résiliation. \"chuch\" qui consite à dire si Oui le client à quitté l'entreprise ce trimestre ou Non c'est à dire le client est resté dans l'entreprise"
   ]
  },
  {
   "cell_type": "markdown",
   "id": "95272dba",
   "metadata": {},
   "source": [
    "## Importation des librairies"
   ]
  },
  {
   "cell_type": "code",
   "execution_count": 4,
   "id": "6552d752",
   "metadata": {},
   "outputs": [],
   "source": [
    "import numpy as np\n",
    "import pandas as pd\n",
    "import matplotlib.pyplot as plt\n",
    "import seaborn as sns\n",
    "from sklearn.neighbors import KNeighborsClassifier\n",
    "from sklearn.model_selection import train_test_split\n",
    "from sklearn.preprocessing import StandardScaler\n",
    "from sklearn.metrics import accuracy_score, roc_auc_score\n",
    "from sklearn.metrics import classification_report\n",
    "from sklearn.model_selection import GridSearchCV"
   ]
  },
  {
   "cell_type": "markdown",
   "id": "b92e6151",
   "metadata": {},
   "source": [
    "# Chargement des données"
   ]
  },
  {
   "cell_type": "code",
   "execution_count": 5,
   "id": "d5445bb1",
   "metadata": {},
   "outputs": [],
   "source": [
    "df = pd.read_csv('churn.csv')"
   ]
  },
  {
   "cell_type": "code",
   "execution_count": 6,
   "id": "ace6d013",
   "metadata": {},
   "outputs": [
    {
     "data": {
      "text/html": [
       "<div>\n",
       "<style scoped>\n",
       "    .dataframe tbody tr th:only-of-type {\n",
       "        vertical-align: middle;\n",
       "    }\n",
       "\n",
       "    .dataframe tbody tr th {\n",
       "        vertical-align: top;\n",
       "    }\n",
       "\n",
       "    .dataframe thead th {\n",
       "        text-align: right;\n",
       "    }\n",
       "</style>\n",
       "<table border=\"1\" class=\"dataframe\">\n",
       "  <thead>\n",
       "    <tr style=\"text-align: right;\">\n",
       "      <th></th>\n",
       "      <th>customerID</th>\n",
       "      <th>gender</th>\n",
       "      <th>SeniorCitizen</th>\n",
       "      <th>Partner</th>\n",
       "      <th>Dependents</th>\n",
       "      <th>tenure</th>\n",
       "      <th>PhoneService</th>\n",
       "      <th>MultipleLines</th>\n",
       "      <th>InternetService</th>\n",
       "      <th>OnlineSecurity</th>\n",
       "      <th>...</th>\n",
       "      <th>DeviceProtection</th>\n",
       "      <th>TechSupport</th>\n",
       "      <th>StreamingTV</th>\n",
       "      <th>StreamingMovies</th>\n",
       "      <th>Contract</th>\n",
       "      <th>PaperlessBilling</th>\n",
       "      <th>PaymentMethod</th>\n",
       "      <th>MonthlyCharges</th>\n",
       "      <th>TotalCharges</th>\n",
       "      <th>Churn</th>\n",
       "    </tr>\n",
       "  </thead>\n",
       "  <tbody>\n",
       "    <tr>\n",
       "      <th>0</th>\n",
       "      <td>7590-VHVEG</td>\n",
       "      <td>Female</td>\n",
       "      <td>0</td>\n",
       "      <td>Yes</td>\n",
       "      <td>No</td>\n",
       "      <td>1</td>\n",
       "      <td>No</td>\n",
       "      <td>No phone service</td>\n",
       "      <td>DSL</td>\n",
       "      <td>No</td>\n",
       "      <td>...</td>\n",
       "      <td>No</td>\n",
       "      <td>No</td>\n",
       "      <td>No</td>\n",
       "      <td>No</td>\n",
       "      <td>Month-to-month</td>\n",
       "      <td>Yes</td>\n",
       "      <td>Electronic check</td>\n",
       "      <td>29.85</td>\n",
       "      <td>29.85</td>\n",
       "      <td>No</td>\n",
       "    </tr>\n",
       "    <tr>\n",
       "      <th>1</th>\n",
       "      <td>5575-GNVDE</td>\n",
       "      <td>Male</td>\n",
       "      <td>0</td>\n",
       "      <td>No</td>\n",
       "      <td>No</td>\n",
       "      <td>34</td>\n",
       "      <td>Yes</td>\n",
       "      <td>No</td>\n",
       "      <td>DSL</td>\n",
       "      <td>Yes</td>\n",
       "      <td>...</td>\n",
       "      <td>Yes</td>\n",
       "      <td>No</td>\n",
       "      <td>No</td>\n",
       "      <td>No</td>\n",
       "      <td>One year</td>\n",
       "      <td>No</td>\n",
       "      <td>Mailed check</td>\n",
       "      <td>56.95</td>\n",
       "      <td>1889.5</td>\n",
       "      <td>No</td>\n",
       "    </tr>\n",
       "    <tr>\n",
       "      <th>2</th>\n",
       "      <td>3668-QPYBK</td>\n",
       "      <td>Male</td>\n",
       "      <td>0</td>\n",
       "      <td>No</td>\n",
       "      <td>No</td>\n",
       "      <td>2</td>\n",
       "      <td>Yes</td>\n",
       "      <td>No</td>\n",
       "      <td>DSL</td>\n",
       "      <td>Yes</td>\n",
       "      <td>...</td>\n",
       "      <td>No</td>\n",
       "      <td>No</td>\n",
       "      <td>No</td>\n",
       "      <td>No</td>\n",
       "      <td>Month-to-month</td>\n",
       "      <td>Yes</td>\n",
       "      <td>Mailed check</td>\n",
       "      <td>53.85</td>\n",
       "      <td>108.15</td>\n",
       "      <td>Yes</td>\n",
       "    </tr>\n",
       "    <tr>\n",
       "      <th>3</th>\n",
       "      <td>7795-CFOCW</td>\n",
       "      <td>Male</td>\n",
       "      <td>0</td>\n",
       "      <td>No</td>\n",
       "      <td>No</td>\n",
       "      <td>45</td>\n",
       "      <td>No</td>\n",
       "      <td>No phone service</td>\n",
       "      <td>DSL</td>\n",
       "      <td>Yes</td>\n",
       "      <td>...</td>\n",
       "      <td>Yes</td>\n",
       "      <td>Yes</td>\n",
       "      <td>No</td>\n",
       "      <td>No</td>\n",
       "      <td>One year</td>\n",
       "      <td>No</td>\n",
       "      <td>Bank transfer (automatic)</td>\n",
       "      <td>42.30</td>\n",
       "      <td>1840.75</td>\n",
       "      <td>No</td>\n",
       "    </tr>\n",
       "    <tr>\n",
       "      <th>4</th>\n",
       "      <td>9237-HQITU</td>\n",
       "      <td>Female</td>\n",
       "      <td>0</td>\n",
       "      <td>No</td>\n",
       "      <td>No</td>\n",
       "      <td>2</td>\n",
       "      <td>Yes</td>\n",
       "      <td>No</td>\n",
       "      <td>Fiber optic</td>\n",
       "      <td>No</td>\n",
       "      <td>...</td>\n",
       "      <td>No</td>\n",
       "      <td>No</td>\n",
       "      <td>No</td>\n",
       "      <td>No</td>\n",
       "      <td>Month-to-month</td>\n",
       "      <td>Yes</td>\n",
       "      <td>Electronic check</td>\n",
       "      <td>70.70</td>\n",
       "      <td>151.65</td>\n",
       "      <td>Yes</td>\n",
       "    </tr>\n",
       "  </tbody>\n",
       "</table>\n",
       "<p>5 rows × 21 columns</p>\n",
       "</div>"
      ],
      "text/plain": [
       "   customerID  gender  SeniorCitizen Partner Dependents  tenure PhoneService  \\\n",
       "0  7590-VHVEG  Female              0     Yes         No       1           No   \n",
       "1  5575-GNVDE    Male              0      No         No      34          Yes   \n",
       "2  3668-QPYBK    Male              0      No         No       2          Yes   \n",
       "3  7795-CFOCW    Male              0      No         No      45           No   \n",
       "4  9237-HQITU  Female              0      No         No       2          Yes   \n",
       "\n",
       "      MultipleLines InternetService OnlineSecurity  ... DeviceProtection  \\\n",
       "0  No phone service             DSL             No  ...               No   \n",
       "1                No             DSL            Yes  ...              Yes   \n",
       "2                No             DSL            Yes  ...               No   \n",
       "3  No phone service             DSL            Yes  ...              Yes   \n",
       "4                No     Fiber optic             No  ...               No   \n",
       "\n",
       "  TechSupport StreamingTV StreamingMovies        Contract PaperlessBilling  \\\n",
       "0          No          No              No  Month-to-month              Yes   \n",
       "1          No          No              No        One year               No   \n",
       "2          No          No              No  Month-to-month              Yes   \n",
       "3         Yes          No              No        One year               No   \n",
       "4          No          No              No  Month-to-month              Yes   \n",
       "\n",
       "               PaymentMethod MonthlyCharges  TotalCharges Churn  \n",
       "0           Electronic check          29.85         29.85    No  \n",
       "1               Mailed check          56.95        1889.5    No  \n",
       "2               Mailed check          53.85        108.15   Yes  \n",
       "3  Bank transfer (automatic)          42.30       1840.75    No  \n",
       "4           Electronic check          70.70        151.65   Yes  \n",
       "\n",
       "[5 rows x 21 columns]"
      ]
     },
     "execution_count": 6,
     "metadata": {},
     "output_type": "execute_result"
    }
   ],
   "source": [
    "df.head() "
   ]
  },
  {
   "cell_type": "code",
   "execution_count": 4,
   "id": "e36d286c",
   "metadata": {},
   "outputs": [
    {
     "data": {
      "text/html": [
       "<div>\n",
       "<style scoped>\n",
       "    .dataframe tbody tr th:only-of-type {\n",
       "        vertical-align: middle;\n",
       "    }\n",
       "\n",
       "    .dataframe tbody tr th {\n",
       "        vertical-align: top;\n",
       "    }\n",
       "\n",
       "    .dataframe thead th {\n",
       "        text-align: right;\n",
       "    }\n",
       "</style>\n",
       "<table border=\"1\" class=\"dataframe\">\n",
       "  <thead>\n",
       "    <tr style=\"text-align: right;\">\n",
       "      <th></th>\n",
       "      <th>customerID</th>\n",
       "      <th>gender</th>\n",
       "      <th>SeniorCitizen</th>\n",
       "      <th>Partner</th>\n",
       "      <th>Dependents</th>\n",
       "      <th>tenure</th>\n",
       "      <th>PhoneService</th>\n",
       "      <th>MultipleLines</th>\n",
       "      <th>InternetService</th>\n",
       "      <th>OnlineSecurity</th>\n",
       "      <th>...</th>\n",
       "      <th>DeviceProtection</th>\n",
       "      <th>TechSupport</th>\n",
       "      <th>StreamingTV</th>\n",
       "      <th>StreamingMovies</th>\n",
       "      <th>Contract</th>\n",
       "      <th>PaperlessBilling</th>\n",
       "      <th>PaymentMethod</th>\n",
       "      <th>MonthlyCharges</th>\n",
       "      <th>TotalCharges</th>\n",
       "      <th>Churn</th>\n",
       "    </tr>\n",
       "  </thead>\n",
       "  <tbody>\n",
       "    <tr>\n",
       "      <th>7038</th>\n",
       "      <td>6840-RESVB</td>\n",
       "      <td>Male</td>\n",
       "      <td>0</td>\n",
       "      <td>Yes</td>\n",
       "      <td>Yes</td>\n",
       "      <td>24</td>\n",
       "      <td>Yes</td>\n",
       "      <td>Yes</td>\n",
       "      <td>DSL</td>\n",
       "      <td>Yes</td>\n",
       "      <td>...</td>\n",
       "      <td>Yes</td>\n",
       "      <td>Yes</td>\n",
       "      <td>Yes</td>\n",
       "      <td>Yes</td>\n",
       "      <td>One year</td>\n",
       "      <td>Yes</td>\n",
       "      <td>Mailed check</td>\n",
       "      <td>84.80</td>\n",
       "      <td>1990.5</td>\n",
       "      <td>No</td>\n",
       "    </tr>\n",
       "    <tr>\n",
       "      <th>7039</th>\n",
       "      <td>2234-XADUH</td>\n",
       "      <td>Female</td>\n",
       "      <td>0</td>\n",
       "      <td>Yes</td>\n",
       "      <td>Yes</td>\n",
       "      <td>72</td>\n",
       "      <td>Yes</td>\n",
       "      <td>Yes</td>\n",
       "      <td>Fiber optic</td>\n",
       "      <td>No</td>\n",
       "      <td>...</td>\n",
       "      <td>Yes</td>\n",
       "      <td>No</td>\n",
       "      <td>Yes</td>\n",
       "      <td>Yes</td>\n",
       "      <td>One year</td>\n",
       "      <td>Yes</td>\n",
       "      <td>Credit card (automatic)</td>\n",
       "      <td>103.20</td>\n",
       "      <td>7362.9</td>\n",
       "      <td>No</td>\n",
       "    </tr>\n",
       "    <tr>\n",
       "      <th>7040</th>\n",
       "      <td>4801-JZAZL</td>\n",
       "      <td>Female</td>\n",
       "      <td>0</td>\n",
       "      <td>Yes</td>\n",
       "      <td>Yes</td>\n",
       "      <td>11</td>\n",
       "      <td>No</td>\n",
       "      <td>No phone service</td>\n",
       "      <td>DSL</td>\n",
       "      <td>Yes</td>\n",
       "      <td>...</td>\n",
       "      <td>No</td>\n",
       "      <td>No</td>\n",
       "      <td>No</td>\n",
       "      <td>No</td>\n",
       "      <td>Month-to-month</td>\n",
       "      <td>Yes</td>\n",
       "      <td>Electronic check</td>\n",
       "      <td>29.60</td>\n",
       "      <td>346.45</td>\n",
       "      <td>No</td>\n",
       "    </tr>\n",
       "    <tr>\n",
       "      <th>7041</th>\n",
       "      <td>8361-LTMKD</td>\n",
       "      <td>Male</td>\n",
       "      <td>1</td>\n",
       "      <td>Yes</td>\n",
       "      <td>No</td>\n",
       "      <td>4</td>\n",
       "      <td>Yes</td>\n",
       "      <td>Yes</td>\n",
       "      <td>Fiber optic</td>\n",
       "      <td>No</td>\n",
       "      <td>...</td>\n",
       "      <td>No</td>\n",
       "      <td>No</td>\n",
       "      <td>No</td>\n",
       "      <td>No</td>\n",
       "      <td>Month-to-month</td>\n",
       "      <td>Yes</td>\n",
       "      <td>Mailed check</td>\n",
       "      <td>74.40</td>\n",
       "      <td>306.6</td>\n",
       "      <td>Yes</td>\n",
       "    </tr>\n",
       "    <tr>\n",
       "      <th>7042</th>\n",
       "      <td>3186-AJIEK</td>\n",
       "      <td>Male</td>\n",
       "      <td>0</td>\n",
       "      <td>No</td>\n",
       "      <td>No</td>\n",
       "      <td>66</td>\n",
       "      <td>Yes</td>\n",
       "      <td>No</td>\n",
       "      <td>Fiber optic</td>\n",
       "      <td>Yes</td>\n",
       "      <td>...</td>\n",
       "      <td>Yes</td>\n",
       "      <td>Yes</td>\n",
       "      <td>Yes</td>\n",
       "      <td>Yes</td>\n",
       "      <td>Two year</td>\n",
       "      <td>Yes</td>\n",
       "      <td>Bank transfer (automatic)</td>\n",
       "      <td>105.65</td>\n",
       "      <td>6844.5</td>\n",
       "      <td>No</td>\n",
       "    </tr>\n",
       "  </tbody>\n",
       "</table>\n",
       "<p>5 rows × 21 columns</p>\n",
       "</div>"
      ],
      "text/plain": [
       "      customerID  gender  SeniorCitizen Partner Dependents  tenure  \\\n",
       "7038  6840-RESVB    Male              0     Yes        Yes      24   \n",
       "7039  2234-XADUH  Female              0     Yes        Yes      72   \n",
       "7040  4801-JZAZL  Female              0     Yes        Yes      11   \n",
       "7041  8361-LTMKD    Male              1     Yes         No       4   \n",
       "7042  3186-AJIEK    Male              0      No         No      66   \n",
       "\n",
       "     PhoneService     MultipleLines InternetService OnlineSecurity  ...  \\\n",
       "7038          Yes               Yes             DSL            Yes  ...   \n",
       "7039          Yes               Yes     Fiber optic             No  ...   \n",
       "7040           No  No phone service             DSL            Yes  ...   \n",
       "7041          Yes               Yes     Fiber optic             No  ...   \n",
       "7042          Yes                No     Fiber optic            Yes  ...   \n",
       "\n",
       "     DeviceProtection TechSupport StreamingTV StreamingMovies        Contract  \\\n",
       "7038              Yes         Yes         Yes             Yes        One year   \n",
       "7039              Yes          No         Yes             Yes        One year   \n",
       "7040               No          No          No              No  Month-to-month   \n",
       "7041               No          No          No              No  Month-to-month   \n",
       "7042              Yes         Yes         Yes             Yes        Two year   \n",
       "\n",
       "     PaperlessBilling              PaymentMethod MonthlyCharges  TotalCharges  \\\n",
       "7038              Yes               Mailed check          84.80        1990.5   \n",
       "7039              Yes    Credit card (automatic)         103.20        7362.9   \n",
       "7040              Yes           Electronic check          29.60        346.45   \n",
       "7041              Yes               Mailed check          74.40         306.6   \n",
       "7042              Yes  Bank transfer (automatic)         105.65        6844.5   \n",
       "\n",
       "     Churn  \n",
       "7038    No  \n",
       "7039    No  \n",
       "7040    No  \n",
       "7041   Yes  \n",
       "7042    No  \n",
       "\n",
       "[5 rows x 21 columns]"
      ]
     },
     "execution_count": 4,
     "metadata": {},
     "output_type": "execute_result"
    }
   ],
   "source": [
    "df.tail()"
   ]
  },
  {
   "cell_type": "markdown",
   "id": "7f91da5e",
   "metadata": {},
   "source": [
    "## Exploration des données"
   ]
  },
  {
   "cell_type": "markdown",
   "id": "d716c7a0",
   "metadata": {},
   "source": [
    "Dans cette section, nous aborderons une vue d’ensemble sur les données en mettant en exergue certaines mesures comme la moyenne, l’ecart type, les quartiles, etc. Nous regardons aussi l’existence de valeurs nulles dans l’ensemble de données."
   ]
  },
  {
   "cell_type": "code",
   "execution_count": 5,
   "id": "311e3887",
   "metadata": {},
   "outputs": [
    {
     "name": "stdout",
     "output_type": "stream",
     "text": [
      "<class 'pandas.core.frame.DataFrame'>\n",
      "RangeIndex: 7043 entries, 0 to 7042\n",
      "Data columns (total 21 columns):\n",
      " #   Column            Non-Null Count  Dtype  \n",
      "---  ------            --------------  -----  \n",
      " 0   customerID        7043 non-null   object \n",
      " 1   gender            7043 non-null   object \n",
      " 2   SeniorCitizen     7043 non-null   int64  \n",
      " 3   Partner           7043 non-null   object \n",
      " 4   Dependents        7043 non-null   object \n",
      " 5   tenure            7043 non-null   int64  \n",
      " 6   PhoneService      7043 non-null   object \n",
      " 7   MultipleLines     7043 non-null   object \n",
      " 8   InternetService   7043 non-null   object \n",
      " 9   OnlineSecurity    7043 non-null   object \n",
      " 10  OnlineBackup      7043 non-null   object \n",
      " 11  DeviceProtection  7043 non-null   object \n",
      " 12  TechSupport       7043 non-null   object \n",
      " 13  StreamingTV       7043 non-null   object \n",
      " 14  StreamingMovies   7043 non-null   object \n",
      " 15  Contract          7043 non-null   object \n",
      " 16  PaperlessBilling  7043 non-null   object \n",
      " 17  PaymentMethod     7043 non-null   object \n",
      " 18  MonthlyCharges    7043 non-null   float64\n",
      " 19  TotalCharges      7043 non-null   object \n",
      " 20  Churn             7043 non-null   object \n",
      "dtypes: float64(1), int64(2), object(18)\n",
      "memory usage: 1.1+ MB\n"
     ]
    }
   ],
   "source": [
    "df.info()"
   ]
  },
  {
   "cell_type": "code",
   "execution_count": 6,
   "id": "61f181f6",
   "metadata": {},
   "outputs": [
    {
     "data": {
      "text/plain": [
       "(7043, 21)"
      ]
     },
     "execution_count": 6,
     "metadata": {},
     "output_type": "execute_result"
    }
   ],
   "source": [
    "df.shape"
   ]
  },
  {
   "cell_type": "markdown",
   "id": "658be332",
   "metadata": {},
   "source": [
    "Le jeu de données présente 7043 instances et 21 colones dont les 2 notamment: SeniorCitizen, tenure, sont des valeurs numeriques (int64), MonthlyCharges (float64) et les 18 sont des objets. On peut également s'apercevoir que le jeu de données ne presente pas de valeurs nulles."
   ]
  },
  {
   "cell_type": "code",
   "execution_count": 7,
   "id": "cf010ca7",
   "metadata": {
    "scrolled": true
   },
   "outputs": [
    {
     "data": {
      "text/html": [
       "<div>\n",
       "<style scoped>\n",
       "    .dataframe tbody tr th:only-of-type {\n",
       "        vertical-align: middle;\n",
       "    }\n",
       "\n",
       "    .dataframe tbody tr th {\n",
       "        vertical-align: top;\n",
       "    }\n",
       "\n",
       "    .dataframe thead th {\n",
       "        text-align: right;\n",
       "    }\n",
       "</style>\n",
       "<table border=\"1\" class=\"dataframe\">\n",
       "  <thead>\n",
       "    <tr style=\"text-align: right;\">\n",
       "      <th></th>\n",
       "      <th>SeniorCitizen</th>\n",
       "      <th>tenure</th>\n",
       "      <th>MonthlyCharges</th>\n",
       "    </tr>\n",
       "  </thead>\n",
       "  <tbody>\n",
       "    <tr>\n",
       "      <th>count</th>\n",
       "      <td>7043.000000</td>\n",
       "      <td>7043.000000</td>\n",
       "      <td>7043.000000</td>\n",
       "    </tr>\n",
       "    <tr>\n",
       "      <th>mean</th>\n",
       "      <td>0.162147</td>\n",
       "      <td>32.371149</td>\n",
       "      <td>64.761692</td>\n",
       "    </tr>\n",
       "    <tr>\n",
       "      <th>std</th>\n",
       "      <td>0.368612</td>\n",
       "      <td>24.559481</td>\n",
       "      <td>30.090047</td>\n",
       "    </tr>\n",
       "    <tr>\n",
       "      <th>min</th>\n",
       "      <td>0.000000</td>\n",
       "      <td>0.000000</td>\n",
       "      <td>18.250000</td>\n",
       "    </tr>\n",
       "    <tr>\n",
       "      <th>25%</th>\n",
       "      <td>0.000000</td>\n",
       "      <td>9.000000</td>\n",
       "      <td>35.500000</td>\n",
       "    </tr>\n",
       "    <tr>\n",
       "      <th>50%</th>\n",
       "      <td>0.000000</td>\n",
       "      <td>29.000000</td>\n",
       "      <td>70.350000</td>\n",
       "    </tr>\n",
       "    <tr>\n",
       "      <th>75%</th>\n",
       "      <td>0.000000</td>\n",
       "      <td>55.000000</td>\n",
       "      <td>89.850000</td>\n",
       "    </tr>\n",
       "    <tr>\n",
       "      <th>max</th>\n",
       "      <td>1.000000</td>\n",
       "      <td>72.000000</td>\n",
       "      <td>118.750000</td>\n",
       "    </tr>\n",
       "  </tbody>\n",
       "</table>\n",
       "</div>"
      ],
      "text/plain": [
       "       SeniorCitizen       tenure  MonthlyCharges\n",
       "count    7043.000000  7043.000000     7043.000000\n",
       "mean        0.162147    32.371149       64.761692\n",
       "std         0.368612    24.559481       30.090047\n",
       "min         0.000000     0.000000       18.250000\n",
       "25%         0.000000     9.000000       35.500000\n",
       "50%         0.000000    29.000000       70.350000\n",
       "75%         0.000000    55.000000       89.850000\n",
       "max         1.000000    72.000000      118.750000"
      ]
     },
     "execution_count": 7,
     "metadata": {},
     "output_type": "execute_result"
    }
   ],
   "source": [
    "df.describe()"
   ]
  },
  {
   "cell_type": "markdown",
   "id": "8f3c251e",
   "metadata": {},
   "source": [
    "- Pour les colonnes SeniorCitizen, tenure, MonthlyCharges  on note une dispersion trés élevée des données par rapport à la moyenne Mean.\n",
    "- Par rapport aux quartiles, la répartition des données est totalement hétérogène selon les colonnes. En effet, pour la colonne SeniorCitizen, on note plus une repartition homogene des donnees sur q1, q2 et q3 avec une des proportions invariantes et nulles de q1, q2 et q3.\n",
    "- Par rapport aux colones tenure et MonthlyCharges nous observons une distribution heterogène. En effet, la repartition des données sur les quartiles q1, q2, q3 par rapport à tenure, MonthlyCharges est trés hétérogène par rapport à la moyenne avec une proportion trés élevée entre les moyennes des deux attributs. \n",
    "- S'agissant de la moyenne globalement, Il est notable de remarquer l'heterogeneité tres importantes des échelles. En effet, la moyenne des colonnes du dataset sont tres differentes ainsi, un travail de normalisation sera fait pour homogeiniser totalement les echelles."
   ]
  },
  {
   "cell_type": "code",
   "execution_count": 8,
   "id": "f7722e5e",
   "metadata": {},
   "outputs": [
    {
     "data": {
      "text/html": [
       "<style  type=\"text/css\" >\n",
       "#T_8f8f4_row0_col0,#T_8f8f4_row1_col1,#T_8f8f4_row2_col2{\n",
       "            background-color:  #b40426;\n",
       "            color:  #f1f1f1;\n",
       "        }#T_8f8f4_row0_col1,#T_8f8f4_row0_col2,#T_8f8f4_row1_col0{\n",
       "            background-color:  #3b4cc0;\n",
       "            color:  #f1f1f1;\n",
       "        }#T_8f8f4_row1_col2{\n",
       "            background-color:  #455cce;\n",
       "            color:  #f1f1f1;\n",
       "        }#T_8f8f4_row2_col0{\n",
       "            background-color:  #7ea1fa;\n",
       "            color:  #000000;\n",
       "        }#T_8f8f4_row2_col1{\n",
       "            background-color:  #88abfd;\n",
       "            color:  #000000;\n",
       "        }</style><table id=\"T_8f8f4_\" ><thead>    <tr>        <th class=\"blank level0\" ></th>        <th class=\"col_heading level0 col0\" >SeniorCitizen</th>        <th class=\"col_heading level0 col1\" >tenure</th>        <th class=\"col_heading level0 col2\" >MonthlyCharges</th>    </tr></thead><tbody>\n",
       "                <tr>\n",
       "                        <th id=\"T_8f8f4_level0_row0\" class=\"row_heading level0 row0\" >SeniorCitizen</th>\n",
       "                        <td id=\"T_8f8f4_row0_col0\" class=\"data row0 col0\" >1.000000</td>\n",
       "                        <td id=\"T_8f8f4_row0_col1\" class=\"data row0 col1\" >0.016567</td>\n",
       "                        <td id=\"T_8f8f4_row0_col2\" class=\"data row0 col2\" >0.220173</td>\n",
       "            </tr>\n",
       "            <tr>\n",
       "                        <th id=\"T_8f8f4_level0_row1\" class=\"row_heading level0 row1\" >tenure</th>\n",
       "                        <td id=\"T_8f8f4_row1_col0\" class=\"data row1 col0\" >0.016567</td>\n",
       "                        <td id=\"T_8f8f4_row1_col1\" class=\"data row1 col1\" >1.000000</td>\n",
       "                        <td id=\"T_8f8f4_row1_col2\" class=\"data row1 col2\" >0.247900</td>\n",
       "            </tr>\n",
       "            <tr>\n",
       "                        <th id=\"T_8f8f4_level0_row2\" class=\"row_heading level0 row2\" >MonthlyCharges</th>\n",
       "                        <td id=\"T_8f8f4_row2_col0\" class=\"data row2 col0\" >0.220173</td>\n",
       "                        <td id=\"T_8f8f4_row2_col1\" class=\"data row2 col1\" >0.247900</td>\n",
       "                        <td id=\"T_8f8f4_row2_col2\" class=\"data row2 col2\" >1.000000</td>\n",
       "            </tr>\n",
       "    </tbody></table>"
      ],
      "text/plain": [
       "<pandas.io.formats.style.Styler at 0x18fca453220>"
      ]
     },
     "execution_count": 8,
     "metadata": {},
     "output_type": "execute_result"
    }
   ],
   "source": [
    "corr = df.corr()\n",
    "corr.style.background_gradient(cmap='coolwarm')"
   ]
  },
  {
   "cell_type": "markdown",
   "id": "9f812aa5",
   "metadata": {},
   "source": [
    "- D'aprés notre matrice de corrélation, nous constatons une forte corrélation entre les colonnes ce qui explique une relation determinant entre ces variables.  "
   ]
  },
  {
   "cell_type": "code",
   "execution_count": 9,
   "id": "99c3e55c",
   "metadata": {},
   "outputs": [
    {
     "data": {
      "text/plain": [
       "Male      0.504756\n",
       "Female    0.495244\n",
       "Name: gender, dtype: float64"
      ]
     },
     "execution_count": 9,
     "metadata": {},
     "output_type": "execute_result"
    }
   ],
   "source": [
    "df[\"gender\"].value_counts(normalize=True)"
   ]
  },
  {
   "cell_type": "markdown",
   "id": "6bc55455",
   "metadata": {},
   "source": [
    "- Aprés avoir filtrer notre jeu de données par rapport au genre (gender), nous constatons que qu'il y'a 3555 homme parmi les clients sur 3488 femmes.\n",
    "- Autrement dit nous avons 50.47% d'hommes et 49.52% de femmes dans notre jeu de données. Ainsi nous pouvons dire que l'entreprise à plus de clients homme que de femmes."
   ]
  },
  {
   "cell_type": "code",
   "execution_count": 10,
   "id": "2e624190",
   "metadata": {},
   "outputs": [
    {
     "data": {
      "text/plain": [
       "count    7043.000000\n",
       "mean       64.761692\n",
       "std        30.090047\n",
       "min        18.250000\n",
       "25%        35.500000\n",
       "50%        70.350000\n",
       "75%        89.850000\n",
       "max       118.750000\n",
       "Name: MonthlyCharges, dtype: float64"
      ]
     },
     "execution_count": 10,
     "metadata": {},
     "output_type": "execute_result"
    }
   ],
   "source": [
    "df[\"MonthlyCharges\"].describe()"
   ]
  },
  {
   "cell_type": "markdown",
   "id": "430d9c43",
   "metadata": {},
   "source": [
    "Avec les resultats obtenus dans l'étude des charges mensuelles des clients (7043), nous constatons que les clients de l'entreprise ont une charge moyenne des frais estimée à 64.76 euros ou dollars, le minimum de charge mensuelles min à 18.25 et un maximum max des charges mensuelles à 118.75.Pour les quartiles : 25 % des clients de l'entreprise ont une chage mensuelle de 35.50 en moyenne, 50 % des clients ont une charge mensuelle moyenne de 70.35 et 75 % d'entre eux également ont une charge mensuelle éstimée à 89.85."
   ]
  },
  {
   "cell_type": "code",
   "execution_count": 11,
   "id": "b23b5293",
   "metadata": {},
   "outputs": [
    {
     "data": {
      "text/plain": [
       "['Month-to-month', 'One year', 'Two year']"
      ]
     },
     "execution_count": 11,
     "metadata": {},
     "output_type": "execute_result"
    }
   ],
   "source": [
    "df[\"Contract\"].unique().tolist()"
   ]
  },
  {
   "cell_type": "markdown",
   "id": "f106772e",
   "metadata": {},
   "source": [
    "- Ici nous observons que l'entrepise présente trois types de contrat à ses clients notamment: Month-to-month (pour une durée de validité de 1 mois), One-year (pour une durée de validité d'un an) et Two-years(pour une durée de validité de deux ans)."
   ]
  },
  {
   "cell_type": "code",
   "execution_count": 12,
   "id": "03ba4af1",
   "metadata": {},
   "outputs": [
    {
     "data": {
      "text/plain": [
       "array(['DSL', 'Fiber optic', 'No'], dtype=object)"
      ]
     },
     "execution_count": 12,
     "metadata": {},
     "output_type": "execute_result"
    }
   ],
   "source": [
    "df[\"InternetService\"].unique()"
   ]
  },
  {
   "cell_type": "markdown",
   "id": "a1e0d459",
   "metadata": {},
   "source": [
    "df[\"InternetService\"].value_counts()"
   ]
  },
  {
   "cell_type": "markdown",
   "id": "7ce3b352",
   "metadata": {},
   "source": [
    "Toujours dans l'exploration et la comprehension des données nous constatons que l'entreprise offre deux services d'accés à internet notamment la fibre optic et le DSL.\n",
    "Ainsi, 3096 clients bénéficient de la fibre optic alors que 2421 clients utilise le service internet DSL. Cependant, 1526 clients ne sont pas abonés à ces services internet."
   ]
  },
  {
   "cell_type": "code",
   "execution_count": 13,
   "id": "b5b3f591",
   "metadata": {},
   "outputs": [
    {
     "data": {
      "text/plain": [
       "['No', 'Yes']"
      ]
     },
     "execution_count": 13,
     "metadata": {},
     "output_type": "execute_result"
    }
   ],
   "source": [
    "#reperer les valeur unique de la colonne ciblée\n",
    "df[\"Churn\"].unique().tolist()"
   ]
  },
  {
   "cell_type": "markdown",
   "id": "ac6365b9",
   "metadata": {},
   "source": [
    "Par rapport à l'exploration de la variable cible, nous constatons qu'elle composée de deux valeurs distinctes 'No' c'est à dire le client est resté dans l'entreprise et la valeur 'YES' c'est à dire que le client à quité dans l'entreprise."
   ]
  },
  {
   "cell_type": "markdown",
   "id": "11b05cc3",
   "metadata": {},
   "source": [
    "## Etude de la distribution des données"
   ]
  },
  {
   "cell_type": "markdown",
   "id": "ff8b08f5",
   "metadata": {},
   "source": [
    "### Visualisation des données"
   ]
  },
  {
   "cell_type": "code",
   "execution_count": 14,
   "id": "4ed16ef1",
   "metadata": {},
   "outputs": [
    {
     "name": "stderr",
     "output_type": "stream",
     "text": [
      "C:\\Users\\cheri\\anaconda3\\lib\\site-packages\\seaborn\\distributions.py:2557: FutureWarning: `distplot` is a deprecated function and will be removed in a future version. Please adapt your code to use either `displot` (a figure-level function with similar flexibility) or `histplot` (an axes-level function for histograms).\n",
      "  warnings.warn(msg, FutureWarning)\n",
      "C:\\Users\\cheri\\anaconda3\\lib\\site-packages\\seaborn\\distributions.py:2056: FutureWarning: The `axis` variable is no longer used and will be removed. Instead, assign variables directly to `x` or `y`.\n",
      "  warnings.warn(msg, FutureWarning)\n"
     ]
    },
    {
     "data": {
      "text/plain": [
       "<AxesSubplot:xlabel='SeniorCitizen', ylabel='Density'>"
      ]
     },
     "execution_count": 14,
     "metadata": {},
     "output_type": "execute_result"
    },
    {
     "data": {
      "image/png": "[encoded data removed]",
      "text/plain": [
       "<Figure size 432x288 with 1 Axes>"
      ]
     },
     "metadata": {
      "needs_background": "light"
     },
     "output_type": "display_data"
    }
   ],
   "source": [
    "sns.distplot(df.SeniorCitizen, rug=True, hist=True)"
   ]
  },
  {
   "cell_type": "markdown",
   "id": "d9ff568c",
   "metadata": {},
   "source": [
    "- on constate que plus de 40%  des clients ont 65 ans ou plus cependant prés de 10% ont moins de 65 ans "
   ]
  },
  {
   "cell_type": "code",
   "execution_count": 15,
   "id": "de4a160c",
   "metadata": {},
   "outputs": [
    {
     "name": "stderr",
     "output_type": "stream",
     "text": [
      "C:\\Users\\cheri\\anaconda3\\lib\\site-packages\\seaborn\\distributions.py:2557: FutureWarning: `distplot` is a deprecated function and will be removed in a future version. Please adapt your code to use either `displot` (a figure-level function with similar flexibility) or `histplot` (an axes-level function for histograms).\n",
      "  warnings.warn(msg, FutureWarning)\n",
      "C:\\Users\\cheri\\anaconda3\\lib\\site-packages\\seaborn\\distributions.py:2056: FutureWarning: The `axis` variable is no longer used and will be removed. Instead, assign variables directly to `x` or `y`.\n",
      "  warnings.warn(msg, FutureWarning)\n"
     ]
    },
    {
     "data": {
      "text/plain": [
       "<AxesSubplot:xlabel='tenure', ylabel='Density'>"
      ]
     },
     "execution_count": 15,
     "metadata": {},
     "output_type": "execute_result"
    },
    {
     "data": {
      "image/png": "[encoded data removed]",
      "text/plain": [
       "<Figure size 432x288 with 1 Axes>"
      ]
     },
     "metadata": {
      "needs_background": "light"
     },
     "output_type": "display_data"
    }
   ],
   "source": [
    "sns.distplot(df.tenure, rug=True, hist=True)"
   ]
  },
  {
   "cell_type": "markdown",
   "id": "1994bb73",
   "metadata": {},
   "source": [
    "- On constate que la distribution des tenures est asymetrique, et la valeur de tenure Indiquant si le client est abonné à un service téléphonique domestique auprès de l'entreprise  est compris entre 0 et 72 % des clients"
   ]
  },
  {
   "cell_type": "code",
   "execution_count": 16,
   "id": "ab594f19",
   "metadata": {},
   "outputs": [
    {
     "name": "stderr",
     "output_type": "stream",
     "text": [
      "C:\\Users\\cheri\\anaconda3\\lib\\site-packages\\seaborn\\distributions.py:2557: FutureWarning: `distplot` is a deprecated function and will be removed in a future version. Please adapt your code to use either `displot` (a figure-level function with similar flexibility) or `histplot` (an axes-level function for histograms).\n",
      "  warnings.warn(msg, FutureWarning)\n",
      "C:\\Users\\cheri\\anaconda3\\lib\\site-packages\\seaborn\\distributions.py:2056: FutureWarning: The `axis` variable is no longer used and will be removed. Instead, assign variables directly to `x` or `y`.\n",
      "  warnings.warn(msg, FutureWarning)\n"
     ]
    },
    {
     "data": {
      "text/plain": [
       "<AxesSubplot:xlabel='MonthlyCharges', ylabel='Density'>"
      ]
     },
     "execution_count": 16,
     "metadata": {},
     "output_type": "execute_result"
    },
    {
     "data": {
      "image/png": "[encoded data removed]",
      "text/plain": [
       "<Figure size 432x288 with 1 Axes>"
      ]
     },
     "metadata": {
      "needs_background": "light"
     },
     "output_type": "display_data"
    }
   ],
   "source": [
    "sns.distplot(df.MonthlyCharges, rug=True, hist=True)"
   ]
  },
  {
   "cell_type": "markdown",
   "id": "07605bd1",
   "metadata": {},
   "source": [
    "- On constate que la distribution des charges mensuelles est asymetriques.\n",
    "\n",
    "Dans sa globalité la dystribution des données ne suit pas une loi normale ce qui necessitera une standardisation des données avant la mis en place du modèle."
   ]
  },
  {
   "cell_type": "code",
   "execution_count": 17,
   "id": "96fce06b",
   "metadata": {},
   "outputs": [
    {
     "data": {
      "text/plain": [
       "<AxesSubplot:ylabel='MonthlyCharges'>"
      ]
     },
     "execution_count": 17,
     "metadata": {},
     "output_type": "execute_result"
    },
    {
     "data": {
      "image/png": "[encoded data removed]",
      "text/plain": [
       "<Figure size 360x360 with 1 Axes>"
      ]
     },
     "metadata": {},
     "output_type": "display_data"
    }
   ],
   "source": [
    "df.groupby(\"gender\")[\"MonthlyCharges\"].sum().plot.pie(legend=True, figsize=(5, 5))"
   ]
  },
  {
   "cell_type": "markdown",
   "id": "6b5789c3",
   "metadata": {},
   "source": [
    "Ici en calculant la charge mensuelle des hommes et des femmes, nous constatons que les proportions de charge sont equi-distribullée entre les clients hommes et femmes."
   ]
  },
  {
   "cell_type": "code",
   "execution_count": 18,
   "id": "8fd2bc0a",
   "metadata": {},
   "outputs": [
    {
     "name": "stdout",
     "output_type": "stream",
     "text": [
      "No     5174\n",
      "Yes    1869\n",
      "Name: Churn, dtype: int64\n"
     ]
    },
    {
     "data": {
      "text/plain": [
       "<AxesSubplot:xlabel='count', ylabel='Churn'>"
      ]
     },
     "execution_count": 18,
     "metadata": {},
     "output_type": "execute_result"
    },
    {
     "data": {
      "image/png": "[encoded data removed]",
      "text/plain": [
       "<Figure size 432x288 with 1 Axes>"
      ]
     },
     "metadata": {
      "needs_background": "light"
     },
     "output_type": "display_data"
    }
   ],
   "source": [
    "print(df.Churn.value_counts())\n",
    "sns.countplot(y=\"Churn\", hue=\"Churn\", data=df)"
   ]
  },
  {
   "cell_type": "markdown",
   "id": "bf105dbd",
   "metadata": {},
   "source": [
    "Dans cette representation, nous voyons que dans la variables cibles nous avon une disproportion importante de valeurs entre les clients qui ont quitté l'entreprise représentés par \"YES\" soit 5174 clients (73.46%) et ceux qui ont décidé de rester dans l'entreprise notés \"NON\" soit 1869 clients (26.53%).Nous notons ainsi une difference de proportion de 3305 clients soit 46,92 % du total des clients de l'entreprise."
   ]
  },
  {
   "cell_type": "code",
   "execution_count": 19,
   "id": "057813b6",
   "metadata": {},
   "outputs": [
    {
     "data": {
      "text/plain": [
       "array([[<AxesSubplot:title={'center':'SeniorCitizen'}>,\n",
       "        <AxesSubplot:title={'center':'tenure'}>],\n",
       "       [<AxesSubplot:title={'center':'MonthlyCharges'}>, <AxesSubplot:>]],\n",
       "      dtype=object)"
      ]
     },
     "execution_count": 19,
     "metadata": {},
     "output_type": "execute_result"
    },
    {
     "data": {
      "image/png": "[encoded data removed]",
      "text/plain": [
       "<Figure size 1080x1080 with 4 Axes>"
      ]
     },
     "metadata": {
      "needs_background": "light"
     },
     "output_type": "display_data"
    }
   ],
   "source": [
    "df.hist(bins=10,figsize=(15,15))"
   ]
  },
  {
   "cell_type": "code",
   "execution_count": 20,
   "id": "bb3a8a9f",
   "metadata": {},
   "outputs": [
    {
     "data": {
      "text/plain": [
       "Text(0.5, 1.0, 'Phone Service & Internet Service\\n ')"
      ]
     },
     "execution_count": 20,
     "metadata": {},
     "output_type": "execute_result"
    },
    {
     "data": {
      "image/png": "[encoded data removed]",
      "text/plain": [
       "<Figure size 720x504 with 2 Axes>"
      ]
     },
     "metadata": {},
     "output_type": "display_data"
    }
   ],
   "source": [
    "plt.figure(figsize=(10,7),facecolor='#eeeeee')\n",
    "sns.heatmap(pd.crosstab(df.PhoneService,df.InternetService),annot=True,fmt=\"d\",cmap=\"Blues\")\n",
    "plt.title('Phone Service & Internet Service\\n ',fontsize=26,color='brown')"
   ]
  },
  {
   "cell_type": "markdown",
   "id": "4fbd97de",
   "metadata": {},
   "source": [
    "- Toujours dans la visualisation des données nous constatons que l'entreprise offre deux services d'accés à internet notamment la fibre optic et le DSL et des services téléphoniques. Ainsi, 3096 clients bénéficient d'un service Internet de type fibre optic alors que 2421 clients utilise le service internet DSL. Cependant, 1526 clients ne sont pas abonés à ces services internet.\n",
    "- Par ailleurs, 682 client ne beneficient pas de service telephonique de l'entreprise sur 1739 qui à la fois beneficient à la fois des services telephoniques et des services d'accés à internet de type DSL."
   ]
  },
  {
   "cell_type": "code",
   "execution_count": 21,
   "id": "ed10b0fc",
   "metadata": {},
   "outputs": [
    {
     "data": {
      "text/plain": [
       "Text(0.5, 1.0, 'Gender & Contract\\n ')"
      ]
     },
     "execution_count": 21,
     "metadata": {},
     "output_type": "execute_result"
    },
    {
     "data": {
      "image/png": "[encoded data removed]",
      "text/plain": [
       "<Figure size 720x504 with 2 Axes>"
      ]
     },
     "metadata": {},
     "output_type": "display_data"
    }
   ],
   "source": [
    "plt.figure(figsize=(10,7),facecolor='#eeeeee')\n",
    "sns.heatmap(pd.crosstab(df.gender,df.Contract),annot=True,fmt=\"d\",cmap=\"ocean_r\")\n",
    "plt.title('Gender & Contract\\n ',fontsize=26,color='brown')"
   ]
  },
  {
   "cell_type": "markdown",
   "id": "d035414f",
   "metadata": {},
   "source": [
    "Ici nous observons que l'entrepise présente trois types de contrat à ses clients notamment: Month-to-month (pour une durée de validité de 1 mois par 1 mois), One-year (pour une durée de validité d'un an) et Two-years(pour une durée de validité de deux ans).\n",
    "Parmis ces types de contrat nous constatons que 1950 clients (hommes) et 1925 clientes (femmes) ont signés le contrat de \"Month-to-month\", 718 clientes(femmes) et 755 clients (hommes) ont signés le contrat \"one-year-Contract\", 845 clientes (femmes) et 850 clients (hommes) ont signé le contrat \"two years\""
   ]
  },
  {
   "cell_type": "code",
   "execution_count": 22,
   "id": "fbc48257",
   "metadata": {},
   "outputs": [
    {
     "data": {
      "text/plain": [
       "Text(0.5, 1.0, 'SeniorCitizen & PaymentMethod\\n ')"
      ]
     },
     "execution_count": 22,
     "metadata": {},
     "output_type": "execute_result"
    },
    {
     "data": {
      "image/png": "[encoded data removed]",
      "text/plain": [
       "<Figure size 720x504 with 2 Axes>"
      ]
     },
     "metadata": {},
     "output_type": "display_data"
    }
   ],
   "source": [
    "plt.figure(figsize=(10,7),facecolor='#eeeeee')\n",
    "sns.heatmap(pd.crosstab(df.SeniorCitizen,df.PaymentMethod),annot=True,fmt=\"d\",cmap=\"Oranges\")\n",
    "plt.title('SeniorCitizen & PaymentMethod\\n ',fontsize=26,color='brown')"
   ]
  },
  {
   "cell_type": "markdown",
   "id": "2530212a",
   "metadata": {},
   "source": [
    "- Ici YES = 1 et NO = 0 pour l'attribut \"SeniorCitizen\"\n",
    "- 233 clients de l'entreprise qui ont plus de 65 ans utilisent les \"Bank tranfer (automatic) comme moyen de payment sur 1311 qui ont moins de 65 ans et qui l'utilisent.\n",
    "- 221 clients de l'entreprise qui ont plus de 65 ans utilisent les \"Credit card (automatic) comme moyen de payment sur 1301 qui ont moins de 65 ans et qui l'utilisent.\n",
    "- 594 clients de l'entreprise qui ont plus de 65 ans utilisent les \"Electronic check comme moyen de payment sur 1771 qui ont moins de 65 ans et qui l'utilisent comme moyen de payment aussi.\n",
    "- 94 clients de l'entreprise qui ont plus de 65 ans utilisent les \"Mailed check comme moyen de payment sur 1518 qui ont moins de 65 ans et qui l'utilisent comme moyen de payment aussi."
   ]
  },
  {
   "cell_type": "markdown",
   "id": "bf838dae",
   "metadata": {},
   "source": [
    "### Netoyage des données(Data preprocessing)"
   ]
  },
  {
   "cell_type": "markdown",
   "id": "590fc94a",
   "metadata": {},
   "source": [
    "Ici nous aborderons le pre-processing de notre jeu de données avant la mise la place de la procédure d'apprentissage"
   ]
  },
  {
   "cell_type": "markdown",
   "id": "afb4640b",
   "metadata": {},
   "source": [
    "### Etude des valeurs nulles"
   ]
  },
  {
   "cell_type": "code",
   "execution_count": 23,
   "id": "dcb9c61b",
   "metadata": {},
   "outputs": [],
   "source": [
    "import missingno as mno\n",
    "def showme_mno(df):\n",
    "    return df.isna().sum()"
   ]
  },
  {
   "cell_type": "code",
   "execution_count": 24,
   "id": "46fd0704",
   "metadata": {},
   "outputs": [
    {
     "data": {
      "image/png": "[encoded data removed]",
      "text/plain": [
       "<Figure size 1800x720 with 2 Axes>"
      ]
     },
     "metadata": {
      "needs_background": "light"
     },
     "output_type": "display_data"
    }
   ],
   "source": [
    "mno.matrix(df);"
   ]
  },
  {
   "cell_type": "markdown",
   "id": "9c235cd2",
   "metadata": {},
   "source": [
    "- Ici nous constatons qu'il n'y a pas de valeur de valeures nulles dans notre jeu de données"
   ]
  },
  {
   "cell_type": "markdown",
   "id": "fc6b0e1c",
   "metadata": {},
   "source": [
    "### Etude des valeurs manquantes ( Missing Values)"
   ]
  },
  {
   "cell_type": "markdown",
   "id": "896df0dc",
   "metadata": {},
   "source": [
    "- Dans cette section nous traiterons les données manquantes"
   ]
  },
  {
   "cell_type": "code",
   "execution_count": 25,
   "id": "6cbb5c38",
   "metadata": {},
   "outputs": [
    {
     "name": "stdout",
     "output_type": "stream",
     "text": [
      "customerID------------------------------ ['7590-VHVEG' '5575-GNVDE' '3668-QPYBK' ... '4801-JZAZL' '8361-LTMKD'\n",
      " '3186-AJIEK']\n",
      "gender---------------------------------- ['Female' 'Male']\n",
      "SeniorCitizen--------------------------- [0 1]\n",
      "Partner--------------------------------- ['Yes' 'No']\n",
      "Dependents------------------------------ ['No' 'Yes']\n",
      "tenure---------------------------------- [ 1 34  2 45  8 22 10 28 62 13 16 58 49 25 69 52 71 21 12 30 47 72 17 27\n",
      "  5 46 11 70 63 43 15 60 18 66  9  3 31 50 64 56  7 42 35 48 29 65 38 68\n",
      " 32 55 37 36 41  6  4 33 67 23 57 61 14 20 53 40 59 24 44 19 54 51 26  0\n",
      " 39]\n",
      "PhoneService---------------------------- ['No' 'Yes']\n",
      "MultipleLines--------------------------- ['No phone service' 'No' 'Yes']\n",
      "InternetService------------------------- ['DSL' 'Fiber optic' 'No']\n",
      "OnlineSecurity-------------------------- ['No' 'Yes' 'No internet service']\n",
      "OnlineBackup---------------------------- ['Yes' 'No' 'No internet service']\n",
      "DeviceProtection------------------------ ['No' 'Yes' 'No internet service']\n",
      "TechSupport----------------------------- ['No' 'Yes' 'No internet service']\n",
      "StreamingTV----------------------------- ['No' 'Yes' 'No internet service']\n",
      "StreamingMovies------------------------- ['No' 'Yes' 'No internet service']\n",
      "Contract-------------------------------- ['Month-to-month' 'One year' 'Two year']\n",
      "PaperlessBilling------------------------ ['Yes' 'No']\n",
      "PaymentMethod--------------------------- ['Electronic check' 'Mailed check' 'Bank transfer (automatic)'\n",
      " 'Credit card (automatic)']\n",
      "MonthlyCharges-------------------------- [29.85 56.95 53.85 ... 63.1  44.2  78.7 ]\n",
      "TotalCharges---------------------------- ['29.85' '1889.5' '108.15' ... '346.45' '306.6' '6844.5']\n",
      "Churn----------------------------------- ['No' 'Yes']\n"
     ]
    }
   ],
   "source": [
    "for col in df:\n",
    "    print(f'{col :-<40} {df[col].unique()}')"
   ]
  },
  {
   "cell_type": "markdown",
   "id": "13b5e64e",
   "metadata": {},
   "source": [
    "- Aprés visualisation des valeurs distincts de notre dataset, nous constatons qu'il n'y a pas de valeurs manquantes (missing values)"
   ]
  },
  {
   "cell_type": "markdown",
   "id": "4acdf514",
   "metadata": {},
   "source": [
    "### Feature selection"
   ]
  },
  {
   "cell_type": "code",
   "execution_count": 26,
   "id": "8d94b1d8",
   "metadata": {},
   "outputs": [],
   "source": [
    "df.drop(\"customerID\", axis=1, inplace=True)"
   ]
  },
  {
   "cell_type": "code",
   "execution_count": 27,
   "id": "a1945eb9",
   "metadata": {},
   "outputs": [],
   "source": [
    "# convertir la totalcharge en type float\n",
    "df['TotalCharges']=df['TotalCharges'].apply(pd.to_numeric,errors='coerce') "
   ]
  },
  {
   "cell_type": "code",
   "execution_count": 28,
   "id": "1eb8b64c",
   "metadata": {},
   "outputs": [
    {
     "name": "stdout",
     "output_type": "stream",
     "text": [
      "gender               0\n",
      "SeniorCitizen        0\n",
      "Partner              0\n",
      "Dependents           0\n",
      "tenure               0\n",
      "PhoneService         0\n",
      "MultipleLines        0\n",
      "InternetService      0\n",
      "OnlineSecurity       0\n",
      "OnlineBackup         0\n",
      "DeviceProtection     0\n",
      "TechSupport          0\n",
      "StreamingTV          0\n",
      "StreamingMovies      0\n",
      "Contract             0\n",
      "PaperlessBilling     0\n",
      "PaymentMethod        0\n",
      "MonthlyCharges       0\n",
      "TotalCharges        11\n",
      "Churn                0\n",
      "dtype: int64\n",
      "La somme des valeurs null:  11\n"
     ]
    }
   ],
   "source": [
    "print(df.isnull().sum())\n",
    "print('La somme des valeurs null: ', df.isnull().sum().sum())"
   ]
  },
  {
   "cell_type": "markdown",
   "id": "d2318366",
   "metadata": {},
   "source": [
    "- ici nous constatons que l'attribut \"TotalCharges\" est stocké en tant que chaîne de caractères. Il y a 11 lignes stockées dans TotalCharges qui n'ont pas pu être converties en float et il s'avère qu'elles ont des valeurs manquantes. Nous avons décidé alors de changer ces 11 lignes en valeur moyenne de la colonne."
   ]
  },
  {
   "cell_type": "code",
   "execution_count": 29,
   "id": "5897a95f",
   "metadata": {},
   "outputs": [],
   "source": [
    "#remplacer les valeurs nulles par la moyenne de la colonne\n",
    "TotalCharge_Mean = df.TotalCharges.mean()\n",
    "df.TotalCharges = df.TotalCharges.fillna(TotalCharge_Mean)"
   ]
  },
  {
   "cell_type": "code",
   "execution_count": 30,
   "id": "03b94d00",
   "metadata": {},
   "outputs": [
    {
     "name": "stdout",
     "output_type": "stream",
     "text": [
      "gender              0\n",
      "SeniorCitizen       0\n",
      "Partner             0\n",
      "Dependents          0\n",
      "tenure              0\n",
      "PhoneService        0\n",
      "MultipleLines       0\n",
      "InternetService     0\n",
      "OnlineSecurity      0\n",
      "OnlineBackup        0\n",
      "DeviceProtection    0\n",
      "TechSupport         0\n",
      "StreamingTV         0\n",
      "StreamingMovies     0\n",
      "Contract            0\n",
      "PaperlessBilling    0\n",
      "PaymentMethod       0\n",
      "MonthlyCharges      0\n",
      "TotalCharges        0\n",
      "Churn               0\n",
      "dtype: int64\n",
      "La somme des valeurs null:  0\n"
     ]
    }
   ],
   "source": [
    "#verifaction\n",
    "print(df.isnull().sum())\n",
    "print('La somme des valeurs null: ', df.isnull().sum().sum())"
   ]
  },
  {
   "cell_type": "markdown",
   "id": "1e1e3f47",
   "metadata": {},
   "source": [
    "- Ainsi il n'y a plus de valeurs nulles "
   ]
  },
  {
   "cell_type": "markdown",
   "id": "da50ce15",
   "metadata": {},
   "source": [
    "## Etude des valeurs abberantes"
   ]
  },
  {
   "cell_type": "markdown",
   "id": "200625b7",
   "metadata": {},
   "source": [
    "### Visualisation des outliers"
   ]
  },
  {
   "cell_type": "code",
   "execution_count": 31,
   "id": "2fa95870",
   "metadata": {},
   "outputs": [
    {
     "data": {
      "text/plain": [
       "<AxesSubplot:xlabel='Churn', ylabel='tenure'>"
      ]
     },
     "execution_count": 31,
     "metadata": {},
     "output_type": "execute_result"
    },
    {
     "data": {
      "image/png": "[encoded data removed]",
      "text/plain": [
       "<Figure size 432x288 with 1 Axes>"
      ]
     },
     "metadata": {
      "needs_background": "light"
     },
     "output_type": "display_data"
    }
   ],
   "source": [
    "sns.boxplot(x='Churn',y='tenure', data=df)"
   ]
  },
  {
   "cell_type": "markdown",
   "id": "0b089960",
   "metadata": {},
   "source": [
    "- nous constatons une petite portion de valeur abberente avec un min_tenure de 0, une moyenne de 10 et un max de 70"
   ]
  },
  {
   "cell_type": "code",
   "execution_count": 32,
   "id": "cf9ea99e",
   "metadata": {},
   "outputs": [
    {
     "data": {
      "text/plain": [
       "<AxesSubplot:xlabel='Churn', ylabel='SeniorCitizen'>"
      ]
     },
     "execution_count": 32,
     "metadata": {},
     "output_type": "execute_result"
    },
    {
     "data": {
      "image/png": "[encoded data removed]",
      "text/plain": [
       "<Figure size 432x288 with 1 Axes>"
      ]
     },
     "metadata": {
      "needs_background": "light"
     },
     "output_type": "display_data"
    }
   ],
   "source": [
    "sns.boxplot(x='Churn',y='SeniorCitizen', data=df)"
   ]
  },
  {
   "cell_type": "code",
   "execution_count": 33,
   "id": "30c379aa",
   "metadata": {},
   "outputs": [
    {
     "data": {
      "text/plain": [
       "<AxesSubplot:xlabel='Churn', ylabel='MonthlyCharges'>"
      ]
     },
     "execution_count": 33,
     "metadata": {},
     "output_type": "execute_result"
    },
    {
     "data": {
      "image/png": "[encoded data removed]",
      "text/plain": [
       "<Figure size 432x288 with 1 Axes>"
      ]
     },
     "metadata": {
      "needs_background": "light"
     },
     "output_type": "display_data"
    }
   ],
   "source": [
    "sns.boxplot(x='Churn',y='MonthlyCharges', data=df)"
   ]
  },
  {
   "cell_type": "markdown",
   "id": "1448c1f9",
   "metadata": {},
   "source": [
    "- Nous ne constattons pas de valeurs abberantes pour le Monthccharges"
   ]
  },
  {
   "cell_type": "code",
   "execution_count": 34,
   "id": "20e67f08",
   "metadata": {},
   "outputs": [
    {
     "data": {
      "text/plain": [
       "<AxesSubplot:xlabel='Churn', ylabel='TotalCharges'>"
      ]
     },
     "execution_count": 34,
     "metadata": {},
     "output_type": "execute_result"
    },
    {
     "data": {
      "image/png": "[encoded data removed]",
      "text/plain": [
       "<Figure size 432x288 with 1 Axes>"
      ]
     },
     "metadata": {
      "needs_background": "light"
     },
     "output_type": "display_data"
    }
   ],
   "source": [
    "sns.boxplot(x='Churn',y='TotalCharges', data=df)"
   ]
  },
  {
   "cell_type": "markdown",
   "id": "65a58508",
   "metadata": {},
   "source": [
    "- Ici nous conctatons la presence de valeurs abberantes pour le totalCharges. "
   ]
  },
  {
   "cell_type": "markdown",
   "id": "834c3868",
   "metadata": {},
   "source": [
    "### Traitement des valeurs abberantes"
   ]
  },
  {
   "cell_type": "markdown",
   "id": "0617d763",
   "metadata": {},
   "source": [
    "Nous avons implémenté la fonction find_all_outlier() qui permet de determiner les valeurs extremes (outliers), de recuperer et de les supprimer de notre jeu de données. Cette implmentation est basée sur le fonctionnement de diagramme à moustache qui graphiquement detecte les outliers ."
   ]
  },
  {
   "cell_type": "code",
   "execution_count": 35,
   "id": "d80089e9",
   "metadata": {},
   "outputs": [],
   "source": [
    "def find_all_outlier(v):\n",
    "    Q1 = np.quantile(v, 0.25)\n",
    "    Q3 = np.quantile(v, 0.75)\n",
    "    EIQ = Q3 - Q1\n",
    "    LI = Q1 - (EIQ*1.5)\n",
    "    LS = Q3 + (EIQ*1.5)\n",
    "    i = list(v.index[(v < LI) | (v > LS)])\n",
    "    val = list(v[i])\n",
    "    return i, val"
   ]
  },
  {
   "cell_type": "code",
   "execution_count": 36,
   "id": "5acda137",
   "metadata": {},
   "outputs": [],
   "source": [
    "outliers_result = find_all_outlier(df['tenure'])\n",
    "outliers_result1 = find_all_outlier(df['TotalCharges'])"
   ]
  },
  {
   "cell_type": "markdown",
   "id": "b8555f44",
   "metadata": {},
   "source": [
    "A l'issue de l'applicationde notre methode nous pouvons dire que :\n",
    "- nous ne contatons pas de valeurs abberantes dans notre jeu de données"
   ]
  },
  {
   "cell_type": "markdown",
   "id": "c65f0dbe",
   "metadata": {},
   "source": [
    "## Encodage des données"
   ]
  },
  {
   "cell_type": "markdown",
   "id": "b9daa750",
   "metadata": {},
   "source": [
    "Certaines features de notre dataset sont des variables categoricielles. Cependant, nous aborderons l'encodage des ces variables en des valeurs numériques pour preparer notre jeu de données avant de mettre en place notre modele d'apprentissage "
   ]
  },
  {
   "cell_type": "markdown",
   "id": "f1acacfa",
   "metadata": {},
   "source": [
    "la fonction ci-dessous effectue l'encodage de nos variables cathegoricelles. En effet, elle recupère toutes les varibles cathegoricielles de notre dataset verifie s'ils sont des objets si c'est le cas nous convertissons le type puis l'encoder.\n",
    "On ne conserve que la variable cible (Churn) en une variables cathegorielle(No,YES) ."
   ]
  },
  {
   "cell_type": "code",
   "execution_count": 37,
   "id": "a2d05d2d",
   "metadata": {},
   "outputs": [
    {
     "data": {
      "text/html": [
       "<div>\n",
       "<style scoped>\n",
       "    .dataframe tbody tr th:only-of-type {\n",
       "        vertical-align: middle;\n",
       "    }\n",
       "\n",
       "    .dataframe tbody tr th {\n",
       "        vertical-align: top;\n",
       "    }\n",
       "\n",
       "    .dataframe thead th {\n",
       "        text-align: right;\n",
       "    }\n",
       "</style>\n",
       "<table border=\"1\" class=\"dataframe\">\n",
       "  <thead>\n",
       "    <tr style=\"text-align: right;\">\n",
       "      <th></th>\n",
       "      <th>gender</th>\n",
       "      <th>SeniorCitizen</th>\n",
       "      <th>Partner</th>\n",
       "      <th>Dependents</th>\n",
       "      <th>tenure</th>\n",
       "      <th>PhoneService</th>\n",
       "      <th>MultipleLines</th>\n",
       "      <th>InternetService</th>\n",
       "      <th>OnlineSecurity</th>\n",
       "      <th>OnlineBackup</th>\n",
       "      <th>DeviceProtection</th>\n",
       "      <th>TechSupport</th>\n",
       "      <th>StreamingTV</th>\n",
       "      <th>StreamingMovies</th>\n",
       "      <th>Contract</th>\n",
       "      <th>PaperlessBilling</th>\n",
       "      <th>PaymentMethod</th>\n",
       "      <th>MonthlyCharges</th>\n",
       "      <th>TotalCharges</th>\n",
       "      <th>Churn</th>\n",
       "    </tr>\n",
       "  </thead>\n",
       "  <tbody>\n",
       "    <tr>\n",
       "      <th>0</th>\n",
       "      <td>0</td>\n",
       "      <td>0</td>\n",
       "      <td>1</td>\n",
       "      <td>0</td>\n",
       "      <td>1</td>\n",
       "      <td>0</td>\n",
       "      <td>1</td>\n",
       "      <td>0</td>\n",
       "      <td>0</td>\n",
       "      <td>2</td>\n",
       "      <td>0</td>\n",
       "      <td>0</td>\n",
       "      <td>0</td>\n",
       "      <td>0</td>\n",
       "      <td>0</td>\n",
       "      <td>1</td>\n",
       "      <td>2</td>\n",
       "      <td>29.85</td>\n",
       "      <td>29.85</td>\n",
       "      <td>No</td>\n",
       "    </tr>\n",
       "    <tr>\n",
       "      <th>1</th>\n",
       "      <td>1</td>\n",
       "      <td>0</td>\n",
       "      <td>0</td>\n",
       "      <td>0</td>\n",
       "      <td>34</td>\n",
       "      <td>1</td>\n",
       "      <td>0</td>\n",
       "      <td>0</td>\n",
       "      <td>2</td>\n",
       "      <td>0</td>\n",
       "      <td>2</td>\n",
       "      <td>0</td>\n",
       "      <td>0</td>\n",
       "      <td>0</td>\n",
       "      <td>1</td>\n",
       "      <td>0</td>\n",
       "      <td>3</td>\n",
       "      <td>56.95</td>\n",
       "      <td>1889.50</td>\n",
       "      <td>No</td>\n",
       "    </tr>\n",
       "    <tr>\n",
       "      <th>2</th>\n",
       "      <td>1</td>\n",
       "      <td>0</td>\n",
       "      <td>0</td>\n",
       "      <td>0</td>\n",
       "      <td>2</td>\n",
       "      <td>1</td>\n",
       "      <td>0</td>\n",
       "      <td>0</td>\n",
       "      <td>2</td>\n",
       "      <td>2</td>\n",
       "      <td>0</td>\n",
       "      <td>0</td>\n",
       "      <td>0</td>\n",
       "      <td>0</td>\n",
       "      <td>0</td>\n",
       "      <td>1</td>\n",
       "      <td>3</td>\n",
       "      <td>53.85</td>\n",
       "      <td>108.15</td>\n",
       "      <td>Yes</td>\n",
       "    </tr>\n",
       "    <tr>\n",
       "      <th>3</th>\n",
       "      <td>1</td>\n",
       "      <td>0</td>\n",
       "      <td>0</td>\n",
       "      <td>0</td>\n",
       "      <td>45</td>\n",
       "      <td>0</td>\n",
       "      <td>1</td>\n",
       "      <td>0</td>\n",
       "      <td>2</td>\n",
       "      <td>0</td>\n",
       "      <td>2</td>\n",
       "      <td>2</td>\n",
       "      <td>0</td>\n",
       "      <td>0</td>\n",
       "      <td>1</td>\n",
       "      <td>0</td>\n",
       "      <td>0</td>\n",
       "      <td>42.30</td>\n",
       "      <td>1840.75</td>\n",
       "      <td>No</td>\n",
       "    </tr>\n",
       "    <tr>\n",
       "      <th>4</th>\n",
       "      <td>0</td>\n",
       "      <td>0</td>\n",
       "      <td>0</td>\n",
       "      <td>0</td>\n",
       "      <td>2</td>\n",
       "      <td>1</td>\n",
       "      <td>0</td>\n",
       "      <td>1</td>\n",
       "      <td>0</td>\n",
       "      <td>0</td>\n",
       "      <td>0</td>\n",
       "      <td>0</td>\n",
       "      <td>0</td>\n",
       "      <td>0</td>\n",
       "      <td>0</td>\n",
       "      <td>1</td>\n",
       "      <td>2</td>\n",
       "      <td>70.70</td>\n",
       "      <td>151.65</td>\n",
       "      <td>Yes</td>\n",
       "    </tr>\n",
       "  </tbody>\n",
       "</table>\n",
       "</div>"
      ],
      "text/plain": [
       "   gender  SeniorCitizen  Partner  Dependents  tenure  PhoneService  \\\n",
       "0       0              0        1           0       1             0   \n",
       "1       1              0        0           0      34             1   \n",
       "2       1              0        0           0       2             1   \n",
       "3       1              0        0           0      45             0   \n",
       "4       0              0        0           0       2             1   \n",
       "\n",
       "   MultipleLines  InternetService  OnlineSecurity  OnlineBackup  \\\n",
       "0              1                0               0             2   \n",
       "1              0                0               2             0   \n",
       "2              0                0               2             2   \n",
       "3              1                0               2             0   \n",
       "4              0                1               0             0   \n",
       "\n",
       "   DeviceProtection  TechSupport  StreamingTV  StreamingMovies  Contract  \\\n",
       "0                 0            0            0                0         0   \n",
       "1                 2            0            0                0         1   \n",
       "2                 0            0            0                0         0   \n",
       "3                 2            2            0                0         1   \n",
       "4                 0            0            0                0         0   \n",
       "\n",
       "   PaperlessBilling  PaymentMethod  MonthlyCharges  TotalCharges Churn  \n",
       "0                 1              2           29.85         29.85    No  \n",
       "1                 0              3           56.95       1889.50    No  \n",
       "2                 1              3           53.85        108.15   Yes  \n",
       "3                 0              0           42.30       1840.75    No  \n",
       "4                 1              2           70.70        151.65   Yes  "
      ]
     },
     "execution_count": 37,
     "metadata": {},
     "output_type": "execute_result"
    }
   ],
   "source": [
    "columCategory = ['gender', 'Partner', 'Dependents', 'PhoneService', 'MultipleLines', 'InternetService', 'OnlineSecurity', 'OnlineBackup', 'DeviceProtection', 'TechSupport', 'StreamingTV', 'StreamingMovies', 'Contract', 'PaperlessBilling', 'PaymentMethod']\n",
    "for col in columCategory:\n",
    "    if(df[col].dtype == 'object'):\n",
    "        df[col] = df[col].astype('category')\n",
    "        df[col] = df[col].cat.codes\n",
    "        \n",
    "# On conserve Class/ASD comme variable categorielle\n",
    "df['Churn'] = df['Churn'].replace([0,1],['NO','YES'])\n",
    "\n",
    "df.head()"
   ]
  },
  {
   "cell_type": "markdown",
   "id": "0ed54961",
   "metadata": {},
   "source": [
    "- Maintenant que notre jeu de données est propre, nous pouvons passer à la résolution du probleme d'imbalanced data"
   ]
  },
  {
   "cell_type": "markdown",
   "id": "60a0a3fe",
   "metadata": {},
   "source": [
    "## Apprentissage du modele predictif"
   ]
  },
  {
   "cell_type": "markdown",
   "id": "c5bb6fe9",
   "metadata": {},
   "source": [
    "### découpage du jeu de données"
   ]
  },
  {
   "cell_type": "code",
   "execution_count": 38,
   "id": "d8e08395",
   "metadata": {},
   "outputs": [],
   "source": [
    "X =df.drop(['Churn'], axis=1).values\n",
    "Y = df['Churn'].values"
   ]
  },
  {
   "cell_type": "markdown",
   "id": "b730a994",
   "metadata": {},
   "source": [
    "## Imbalanced Data"
   ]
  },
  {
   "cell_type": "markdown",
   "id": "05c75112",
   "metadata": {},
   "source": [
    "Dans l'exploration des données effectué au dessus, nous avions mentionné que  dans la variable cible nous avons une disproportion importante de valeurs entre les clients qui ont quitté l'entreprise représentés par \"YES\" soit 5174 clients (73.46%) et ceux qui ont décidé de rester dans l'entreprise notés \"NON\" soit 1869 clients (26.53%).Nous avions noté ainsi une difference de proportion de 3305 clients soit 46,92 % du total des clients de l'entreprise.Cette disproportion crée un deséquilibre entre les valeurs de la classe cible.Ceci produit un problème communément connu sous le nom de Imbalanced Data qui pourrait impacter (biaiser) notre modele qui pourrait tendance à prédire plus pour la classe majoritaire.Pour resoudre ce problème, nous adopterons deux techniques differentes que nous etudierons plus tard."
   ]
  },
  {
   "cell_type": "markdown",
   "id": "527cbd22",
   "metadata": {},
   "source": [
    "### Oversampling (enriching the minority classes)"
   ]
  },
  {
   "cell_type": "markdown",
   "id": "2358168b",
   "metadata": {},
   "source": [
    "- Cette methode consiste à enrichir la classe minoritaire(dans notre cas: la classe \"NO\") en augmentant le nombre d’observations de la (des) classe(s) minoritaire(s) afin d’arriver à un ratio classe minoritaire/ classe majoritaire satisfaisant."
   ]
  },
  {
   "cell_type": "code",
   "execution_count": 39,
   "id": "51411d44",
   "metadata": {},
   "outputs": [],
   "source": [
    "#train_test_split\n",
    "X_train, X_test, Y_train, Y_test = train_test_split(X, Y, test_size=0.5)"
   ]
  },
  {
   "cell_type": "markdown",
   "id": "d7bc09fb",
   "metadata": {},
   "source": [
    "### methode: Random oversampling"
   ]
  },
  {
   "cell_type": "code",
   "execution_count": 41,
   "id": "cb6713cd",
   "metadata": {},
   "outputs": [],
   "source": [
    "from imblearn.over_sampling import RandomOverSampler"
   ]
  },
  {
   "cell_type": "code",
   "execution_count": 42,
   "id": "44c9e34e",
   "metadata": {},
   "outputs": [],
   "source": [
    "# Sur-échantillonnage\n",
    "rOs = RandomOverSampler()\n",
    "X_ro, y_ro = rOs.fit_resample(X_train, Y_train)"
   ]
  },
  {
   "cell_type": "markdown",
   "id": "84c072e4",
   "metadata": {},
   "source": [
    "### Standardisation des données"
   ]
  },
  {
   "cell_type": "markdown",
   "id": "79e137a9",
   "metadata": {},
   "source": [
    " - la standardisation consiste à normaliser les données c'est à dire rendre les valeurs des attributs dans les memes echelles de grandeur."
   ]
  },
  {
   "cell_type": "code",
   "execution_count": 44,
   "id": "cad0c779",
   "metadata": {},
   "outputs": [],
   "source": [
    "#creation de standardiseur\n",
    "scaler = StandardScaler()"
   ]
  },
  {
   "cell_type": "code",
   "execution_count": 45,
   "id": "97722953",
   "metadata": {},
   "outputs": [],
   "source": [
    "X_ro_scaled = scaler.fit_transform(X_ro)"
   ]
  },
  {
   "cell_type": "code",
   "execution_count": 46,
   "id": "d3488e3c",
   "metadata": {},
   "outputs": [
    {
     "data": {
      "text/plain": [
       "array([[ 0.99460289, -0.50156986, -0.89248405, ..., -0.62475468,\n",
       "         1.43696806,  2.31084772],\n",
       "       [ 0.99460289, -0.50156986, -0.89248405, ...,  1.3577542 ,\n",
       "        -0.10796824, -0.29652305],\n",
       "       [ 0.99460289,  1.9937402 , -0.89248405, ...,  0.36649976,\n",
       "         1.1293556 ,  1.6056464 ],\n",
       "       ...,\n",
       "       [ 0.99460289, -0.50156986, -0.89248405, ...,  1.3577542 ,\n",
       "        -1.66493407, -0.93924627],\n",
       "       [ 0.99460289, -0.50156986,  1.1204682 , ...,  0.36649976,\n",
       "         0.66020365,  1.75393203],\n",
       "       [-1.0054264 , -0.50156986,  1.1204682 , ...,  0.36649976,\n",
       "         0.89048336, -0.39328764]])"
      ]
     },
     "execution_count": 46,
     "metadata": {},
     "output_type": "execute_result"
    }
   ],
   "source": [
    "X_ro_scaled"
   ]
  },
  {
   "cell_type": "code",
   "execution_count": 47,
   "id": "8e092d6c",
   "metadata": {},
   "outputs": [],
   "source": [
    "X_test_scalled = scaler.transform(X_test)"
   ]
  },
  {
   "cell_type": "markdown",
   "id": "c8cbecea",
   "metadata": {},
   "source": [
    "## Application de l'algorithme K-NN "
   ]
  },
  {
   "cell_type": "markdown",
   "id": "07af7c25",
   "metadata": {},
   "source": [
    "L'algorithme des k plus proches voisins (KNN) est un algorithme de machine learning qui appartient à la classe des algorithmes supervisés. En effet, c'est un algorithme très utilisé avec les problèmes de classification et de regression.\\"
   ]
  },
  {
   "cell_type": "markdown",
   "id": "56bd6426",
   "metadata": {},
   "source": [
    "#### Methode de la validation croisée"
   ]
  },
  {
   "cell_type": "markdown",
   "id": "1aefc760",
   "metadata": {},
   "source": [
    "- La validation croisée est une strategie qui permet d'entrainer un modele de machine learning basée sur une méthode d’estimation de fiabilité d’un modèle fondé sur une technique d’échantillonnage.Nous appliquons cette methodologie car elle nous permet d'avoir des modeles plus performant en choisissant les meilleurs hyperparametres de notre modele à l'issue de l'apprentissage   sur un ensemble de valeurs definies."
   ]
  },
  {
   "cell_type": "code",
   "execution_count": 48,
   "id": "e4c9a7eb",
   "metadata": {},
   "outputs": [],
   "source": [
    "#definition des hyper-parametres \n",
    "p_k = [1, 5, 10, 15, 20, 25]"
   ]
  },
  {
   "cell_type": "code",
   "execution_count": 49,
   "id": "9a3e01fd",
   "metadata": {},
   "outputs": [],
   "source": [
    "#Construire  k=5 sous ensemble\n",
    "from sklearn import neighbors, metrics\n",
    "\n",
    "# Fixer les valeurs des hyperparamètres à tester\n",
    "param_grid = {'n_neighbors':[1, 5, 10, 15, 20, 25],\n",
    "             'metric' : ['euclidean', 'manhattan']}\n",
    "# Choisir un score à optimiser, ici l'accuracy (proportion de prédictions correctes)\n",
    "score = 'accuracy'"
   ]
  },
  {
   "cell_type": "code",
   "execution_count": 50,
   "id": "8f74b145",
   "metadata": {},
   "outputs": [],
   "source": [
    "from sklearn import model_selection\n",
    "# Créer un classifieur kNN avec recherche d'hyperparamètre par validation croisée\n",
    "clf = model_selection.GridSearchCV(\n",
    "    neighbors.KNeighborsClassifier(), # un classifieur k_NN\n",
    "    param_grid,     # hyperparamètres à tester\n",
    "    cv=5,           # nombre de folds de validation croisée\n",
    "    scoring=score   # score à optimiser\n",
    ")"
   ]
  },
  {
   "cell_type": "code",
   "execution_count": 51,
   "id": "66ee5dc9",
   "metadata": {},
   "outputs": [
    {
     "data": {
      "text/plain": [
       "GridSearchCV(cv=5, estimator=KNeighborsClassifier(),\n",
       "             param_grid={'metric': ['euclidean', 'manhattan'],\n",
       "                         'n_neighbors': [1, 5, 10, 15, 20, 25]},\n",
       "             scoring='accuracy')"
      ]
     },
     "execution_count": 51,
     "metadata": {},
     "output_type": "execute_result"
    }
   ],
   "source": [
    "# Optimiser ce classifieur sur le jeu d'entraînement\n",
    "clf.fit(X_ro_scaled, y_ro)"
   ]
  },
  {
   "cell_type": "code",
   "execution_count": 52,
   "id": "a36bda11",
   "metadata": {},
   "outputs": [
    {
     "name": "stdout",
     "output_type": "stream",
     "text": [
      "Meilleur(s) hyperparamètre(s) sur le jeu d'entraînement:\n",
      "{'metric': 'euclidean', 'n_neighbors': 1}\n"
     ]
    }
   ],
   "source": [
    "# Afficher le(s) hyperparamètre(s) optimaux\n",
    "print(\"Meilleur(s) hyperparamètre(s) sur le jeu d'entraînement:\")\n",
    "print(clf.best_params_)"
   ]
  },
  {
   "cell_type": "code",
   "execution_count": 53,
   "id": "82014897",
   "metadata": {},
   "outputs": [
    {
     "name": "stdout",
     "output_type": "stream",
     "text": [
      "Résultats de la validation croisée :\n",
      "accuracy = 0.868 (+/-0.048) for {'metric': 'euclidean', 'n_neighbors': 1}\n",
      "accuracy = 0.770 (+/-0.042) for {'metric': 'euclidean', 'n_neighbors': 5}\n",
      "accuracy = 0.756 (+/-0.021) for {'metric': 'euclidean', 'n_neighbors': 10}\n",
      "accuracy = 0.753 (+/-0.018) for {'metric': 'euclidean', 'n_neighbors': 15}\n",
      "accuracy = 0.755 (+/-0.028) for {'metric': 'euclidean', 'n_neighbors': 20}\n",
      "accuracy = 0.753 (+/-0.021) for {'metric': 'euclidean', 'n_neighbors': 25}\n",
      "accuracy = 0.868 (+/-0.046) for {'metric': 'manhattan', 'n_neighbors': 1}\n",
      "accuracy = 0.774 (+/-0.027) for {'metric': 'manhattan', 'n_neighbors': 5}\n",
      "accuracy = 0.770 (+/-0.023) for {'metric': 'manhattan', 'n_neighbors': 10}\n",
      "accuracy = 0.755 (+/-0.023) for {'metric': 'manhattan', 'n_neighbors': 15}\n",
      "accuracy = 0.757 (+/-0.024) for {'metric': 'manhattan', 'n_neighbors': 20}\n",
      "accuracy = 0.757 (+/-0.016) for {'metric': 'manhattan', 'n_neighbors': 25}\n"
     ]
    }
   ],
   "source": [
    "# Afficher les performances correspondantes\n",
    "print(\"Résultats de la validation croisée :\")\n",
    "for mean, std, params in zip(\n",
    "        clf.cv_results_['mean_test_score'], # score moyen\n",
    "        clf.cv_results_['std_test_score'],  # écart-type du score\n",
    "        clf.cv_results_['params']           # valeur de l'hyperparamètre\n",
    "    ):\n",
    "\n",
    "    print(\"{} = {:.3f} (+/-{:.03f}) for {}\".format(\n",
    "        score,\n",
    "        mean,\n",
    "        std*2,\n",
    "        params\n",
    "    ) )"
   ]
  },
  {
   "cell_type": "markdown",
   "id": "bfee0b7d",
   "metadata": {},
   "source": [
    "La meilleure performance (~0.868) est ici atteinte avec 1 voisins."
   ]
  },
  {
   "cell_type": "markdown",
   "id": "92e878ca",
   "metadata": {},
   "source": [
    "Concernant l'apprentissage et la selection du meilleure valeur de k, nous avons utilisé la methode d'optimisation GridSearchCV de sklearn. L'ensemble d'entrainement est divisé en 5 echantillons qui vont servir à tour de role le jeu de validation lors de l'apprentissage.En appliquant également la technique RandomOversampling, nous avons obtenu les resultats ci dessus :\n",
    "\n",
    "Nous avons obtenu le meilleur modele avec la valeur de k=1.\n",
    "une precision globale de 86.8% sur le jeu d'entrainement"
   ]
  },
  {
   "cell_type": "code",
   "execution_count": 55,
   "id": "5316a263",
   "metadata": {},
   "outputs": [
    {
     "name": "stdout",
     "output_type": "stream",
     "text": [
      "\n",
      "Sur le jeu de test : 0.706\n"
     ]
    }
   ],
   "source": [
    "#la performance sur le jeu de test\n",
    "y_pred_test = clf.predict(X_test_scalled)\n",
    "print(\"\\nSur le jeu de test : {:.3f}\".format(metrics.accuracy_score(Y_test, y_pred_test)))"
   ]
  },
  {
   "cell_type": "markdown",
   "id": "164cffaa",
   "metadata": {},
   "source": [
    "En regardant les performances sur le jeu de données test, on constate que le modèle offre une precision de 70.6% sur le jeu de données Teste, plus ou moins proche de la performance obtenue lors de l'apprentissage du modele (86.8%).\n"
   ]
  },
  {
   "cell_type": "code",
   "execution_count": 81,
   "id": "42b9b077",
   "metadata": {},
   "outputs": [],
   "source": [
    "best_model1 = clf.best_estimator_"
   ]
  },
  {
   "cell_type": "code",
   "execution_count": 82,
   "id": "5fc29eae",
   "metadata": {},
   "outputs": [],
   "source": [
    "New_Y_test_pred = best_model1.predict(X_test_scalled)"
   ]
  },
  {
   "cell_type": "code",
   "execution_count": 83,
   "id": "f79a1193",
   "metadata": {},
   "outputs": [
    {
     "name": "stdout",
     "output_type": "stream",
     "text": [
      "              precision    recall  f1-score   support\n",
      "\n",
      "          No       0.80      0.79      0.80      2587\n",
      "         Yes       0.45      0.47      0.46       935\n",
      "\n",
      "    accuracy                           0.71      3522\n",
      "   macro avg       0.63      0.63      0.63      3522\n",
      "weighted avg       0.71      0.71      0.71      3522\n",
      "\n"
     ]
    }
   ],
   "source": [
    "print(classification_report(Y_test, New_Y_test_pred))"
   ]
  },
  {
   "cell_type": "markdown",
   "id": "5f5d1fd0",
   "metadata": {},
   "source": [
    "### Visualisation des limites de décision du classificateur k-NN"
   ]
  },
  {
   "cell_type": "code",
   "execution_count": 84,
   "id": "725d4a24",
   "metadata": {},
   "outputs": [],
   "source": [
    "from sklearn.metrics import plot_confusion_matrix\n",
    "from sklearn.metrics import confusion_matrix"
   ]
  },
  {
   "cell_type": "code",
   "execution_count": 85,
   "id": "dac59df9",
   "metadata": {},
   "outputs": [
    {
     "name": "stderr",
     "output_type": "stream",
     "text": [
      "C:\\Users\\cheri\\anaconda3\\lib\\site-packages\\sklearn\\utils\\deprecation.py:87: FutureWarning: Function plot_confusion_matrix is deprecated; Function `plot_confusion_matrix` is deprecated in 1.0 and will be removed in 1.2. Use one of the class methods: ConfusionMatrixDisplay.from_predictions or ConfusionMatrixDisplay.from_estimator.\n",
      "  warnings.warn(msg, category=FutureWarning)\n"
     ]
    },
    {
     "data": {
      "text/plain": [
       "<sklearn.metrics._plot.confusion_matrix.ConfusionMatrixDisplay at 0x18fd5058af0>"
      ]
     },
     "execution_count": 85,
     "metadata": {},
     "output_type": "execute_result"
    },
    {
     "data": {
      "image/png": "[encoded data removed]",
      "text/plain": [
       "<Figure size 432x288 with 2 Axes>"
      ]
     },
     "metadata": {
      "needs_background": "light"
     },
     "output_type": "display_data"
    }
   ],
   "source": [
    "plot_confusion_matrix(best_model1, X_test_scalled, Y_test)"
   ]
  },
  {
   "cell_type": "markdown",
   "id": "5030cc70",
   "metadata": {},
   "source": [
    "Avec la methode Random OverSampling, En visualisant notre classifcation report et notre matrix de confusion, nous constatons que notre modèle présente des resultats satisfaisantes.En effet, les performances du modèle sur le jeu de données test donne de bons resultats sur la précision (80%), le rappel(79%) et f1-score(80%).\n",
    "Ce qui témoigne une bonne capacité de généralisation du modèle sur des données a teste aussi bien dans la classe majoritaire comme minoritaire.Nous pouvons dire que le RandomOversampling est assez efficaces sur nos données."
   ]
  },
  {
   "cell_type": "markdown",
   "id": "10fbedb1",
   "metadata": {},
   "source": [
    "# Deuxième Methode "
   ]
  },
  {
   "cell_type": "markdown",
   "id": "67b5059a",
   "metadata": {},
   "source": [
    "### Undersampling (reducing the majority classes)"
   ]
  },
  {
   "cell_type": "markdown",
   "id": "f923edf0",
   "metadata": {},
   "source": [
    "Les méthodes d’Undersampling fonctionnent en diminuant le nombre d’observations de la  (des) classe(s) majoritaire(s) afin d’arriver à un ratio classe minoritaire/ classe majoritaire satisfaisant. "
   ]
  },
  {
   "cell_type": "code",
   "execution_count": 43,
   "id": "015dcd63",
   "metadata": {},
   "outputs": [],
   "source": [
    "from imblearn.under_sampling import RandomUnderSampler"
   ]
  },
  {
   "cell_type": "code",
   "execution_count": 56,
   "id": "97e0d877",
   "metadata": {},
   "outputs": [],
   "source": [
    "# Sous-échantillonnage\n",
    "rUs = RandomUnderSampler()\n",
    "X_ru, y_ru = rUs.fit_resample(X_train, Y_train)"
   ]
  },
  {
   "cell_type": "markdown",
   "id": "c02f0395",
   "metadata": {},
   "source": [
    "### Standardisation des données"
   ]
  },
  {
   "cell_type": "code",
   "execution_count": 63,
   "id": "59bec49b",
   "metadata": {},
   "outputs": [],
   "source": [
    "#creation de standardiseur\n",
    "scaler2 = StandardScaler()"
   ]
  },
  {
   "cell_type": "code",
   "execution_count": 64,
   "id": "115ecaed",
   "metadata": {},
   "outputs": [],
   "source": [
    "X_ru_scaled = scaler2.fit_transform(X_ru)"
   ]
  },
  {
   "cell_type": "code",
   "execution_count": 65,
   "id": "64621ab7",
   "metadata": {},
   "outputs": [
    {
     "data": {
      "text/plain": [
       "array([[-1.00429187, -0.50618236,  1.11226155, ..., -0.63446642,\n",
       "         0.58034216,  1.70113554],\n",
       "       [ 0.99572648, -0.50618236,  1.11226155, ..., -0.63446642,\n",
       "        -0.24073083,  0.49429858],\n",
       "       [ 0.99572648, -0.50618236,  1.11226155, ..., -1.62542233,\n",
       "        -1.6303711 , -0.78160754],\n",
       "       ...,\n",
       "       [ 0.99572648, -0.50618236, -0.89906911, ...,  0.35648949,\n",
       "         0.65420438, -0.64197522],\n",
       "       [-1.00429187, -0.50618236, -0.89906911, ..., -0.63446642,\n",
       "         0.57518899,  0.56005793],\n",
       "       [ 0.99572648,  1.97557261,  1.11226155, ...,  0.35648949,\n",
       "         0.57003581,  0.44839805]])"
      ]
     },
     "execution_count": 65,
     "metadata": {},
     "output_type": "execute_result"
    }
   ],
   "source": [
    "X_ru_scaled"
   ]
  },
  {
   "cell_type": "code",
   "execution_count": 76,
   "id": "09c13872",
   "metadata": {},
   "outputs": [],
   "source": [
    "X_test_scalled2 = scaler2.transform(X_test)"
   ]
  },
  {
   "cell_type": "markdown",
   "id": "c2ddd001",
   "metadata": {},
   "source": [
    "## Application de l'algorithme K-NN"
   ]
  },
  {
   "cell_type": "markdown",
   "id": "783fdea7",
   "metadata": {},
   "source": [
    "#### Methode de la validation croisée"
   ]
  },
  {
   "cell_type": "code",
   "execution_count": 67,
   "id": "1f9a248a",
   "metadata": {},
   "outputs": [],
   "source": [
    "#definition des hyper-parametres \n",
    "p_k = [1, 5, 10, 15, 20, 25]"
   ]
  },
  {
   "cell_type": "code",
   "execution_count": 68,
   "id": "66912c79",
   "metadata": {},
   "outputs": [],
   "source": [
    "#Construire  k=5 sous ensemble\n",
    "from sklearn import neighbors, metrics\n",
    "\n",
    "# Fixer les valeurs des hyperparamètres à tester\n",
    "param_grid = {'n_neighbors':[1, 5, 10, 15, 20, 25],\n",
    "             'metric' : ['euclidean', 'manhattan']}\n",
    "# Choisir un score à optimiser, ici l'accuracy (proportion de prédictions correctes)\n",
    "score = 'accuracy'"
   ]
  },
  {
   "cell_type": "code",
   "execution_count": 69,
   "id": "5634bee7",
   "metadata": {},
   "outputs": [],
   "source": [
    "from sklearn import model_selection\n",
    "# Créer un classifieur kNN avec recherche d'hyperparamètre par validation croisée\n",
    "clf2 = model_selection.GridSearchCV(\n",
    "    neighbors.KNeighborsClassifier(), # un classifieur k_NN\n",
    "    param_grid,     # hyperparamètres à tester\n",
    "    cv=5,           # nombre de folds de validation croisée\n",
    "    scoring=score   # score à optimiser\n",
    ")"
   ]
  },
  {
   "cell_type": "code",
   "execution_count": 77,
   "id": "3968a9c2",
   "metadata": {},
   "outputs": [
    {
     "data": {
      "text/plain": [
       "GridSearchCV(cv=5, estimator=KNeighborsClassifier(),\n",
       "             param_grid={'metric': ['euclidean', 'manhattan'],\n",
       "                         'n_neighbors': [1, 5, 10, 15, 20, 25]},\n",
       "             scoring='accuracy')"
      ]
     },
     "execution_count": 77,
     "metadata": {},
     "output_type": "execute_result"
    }
   ],
   "source": [
    "# Optimiser ce classifieur sur le jeu d'entraînement\n",
    "clf2.fit(X_ru_scaled, y_ru)"
   ]
  },
  {
   "cell_type": "code",
   "execution_count": 78,
   "id": "639d7da4",
   "metadata": {},
   "outputs": [
    {
     "name": "stdout",
     "output_type": "stream",
     "text": [
      "Meilleur(s) hyperparamètre(s) sur le jeu d'entraînement:\n",
      "{'metric': 'manhattan', 'n_neighbors': 10}\n"
     ]
    }
   ],
   "source": [
    "# Afficher le(s) hyperparamètre(s) optimaux\n",
    "print(\"Meilleur(s) hyperparamètre(s) sur le jeu d'entraînement:\")\n",
    "print(clf2.best_params_)"
   ]
  },
  {
   "cell_type": "code",
   "execution_count": 79,
   "id": "5bdd35de",
   "metadata": {},
   "outputs": [
    {
     "name": "stdout",
     "output_type": "stream",
     "text": [
      "Résultats de la validation croisée :\n",
      "accuracy = 0.669 (+/-0.036) for {'metric': 'euclidean', 'n_neighbors': 1}\n",
      "accuracy = 0.711 (+/-0.047) for {'metric': 'euclidean', 'n_neighbors': 5}\n",
      "accuracy = 0.737 (+/-0.037) for {'metric': 'euclidean', 'n_neighbors': 10}\n",
      "accuracy = 0.729 (+/-0.050) for {'metric': 'euclidean', 'n_neighbors': 15}\n",
      "accuracy = 0.742 (+/-0.037) for {'metric': 'euclidean', 'n_neighbors': 20}\n",
      "accuracy = 0.739 (+/-0.047) for {'metric': 'euclidean', 'n_neighbors': 25}\n",
      "accuracy = 0.678 (+/-0.032) for {'metric': 'manhattan', 'n_neighbors': 1}\n",
      "accuracy = 0.735 (+/-0.043) for {'metric': 'manhattan', 'n_neighbors': 5}\n",
      "accuracy = 0.744 (+/-0.047) for {'metric': 'manhattan', 'n_neighbors': 10}\n",
      "accuracy = 0.735 (+/-0.038) for {'metric': 'manhattan', 'n_neighbors': 15}\n",
      "accuracy = 0.744 (+/-0.032) for {'metric': 'manhattan', 'n_neighbors': 20}\n",
      "accuracy = 0.744 (+/-0.032) for {'metric': 'manhattan', 'n_neighbors': 25}\n"
     ]
    }
   ],
   "source": [
    "# Afficher les performances correspondantes\n",
    "print(\"Résultats de la validation croisée :\")\n",
    "for mean, std, params in zip(\n",
    "        clf2.cv_results_['mean_test_score'], # score moyen\n",
    "        clf2.cv_results_['std_test_score'],  # écart-type du score\n",
    "        clf2.cv_results_['params']           # valeur de l'hyperparamètre\n",
    "    ):\n",
    "\n",
    "    print(\"{} = {:.3f} (+/-{:.03f}) for {}\".format(\n",
    "        score,\n",
    "        mean,\n",
    "        std*2,\n",
    "        params\n",
    "    ) )"
   ]
  },
  {
   "cell_type": "markdown",
   "id": "acd152cd",
   "metadata": {},
   "source": [
    "La meilleure performance (~0.744) est ici atteinte avec 10 voisins."
   ]
  },
  {
   "cell_type": "markdown",
   "id": "6adbb6eb",
   "metadata": {},
   "source": [
    "Concernant l'apprentissage et la selection du meilleure valeur de k, nous avons utilisé la methode d'optimisation GridSearchCV de sklearn. L'ensemble d'entrainement est divisé en 5 echantillons qui vont servir à tour de role le jeu de validation lors de l'apprentissage.En appliquant également la technique RandomUndersampling cette fois ci, nous avons obtenu les resultats ci dessus :\n",
    "\n",
    "Nous avons obtenu le meilleur modele avec la valeur de k=10.\n",
    "une precision globale de 74.4% sur le jeu d'entrainement"
   ]
  },
  {
   "cell_type": "code",
   "execution_count": 80,
   "id": "1c211af3",
   "metadata": {},
   "outputs": [
    {
     "name": "stdout",
     "output_type": "stream",
     "text": [
      "\n",
      "Sur le jeu de test : 0.701\n"
     ]
    }
   ],
   "source": [
    "#la performance sur le jeu de test\n",
    "y_pred_test2 = clf2.predict(X_test_scalled2)\n",
    "print(\"\\nSur le jeu de test : {:.3f}\".format(metrics.accuracy_score(Y_test, y_pred_test2)))"
   ]
  },
  {
   "cell_type": "markdown",
   "id": "691dcd96",
   "metadata": {},
   "source": [
    "En regardant les performances sur le jeu de données test, on constate que le modele offre une precision de 70.1% sur le jeu de données Teste, fifferent de la performance obtenue lors de l'apprentissage du modele (74.4%)."
   ]
  },
  {
   "cell_type": "code",
   "execution_count": 86,
   "id": "43672edc",
   "metadata": {},
   "outputs": [],
   "source": [
    "best_model2 = clf2.best_estimator_"
   ]
  },
  {
   "cell_type": "code",
   "execution_count": 87,
   "id": "353266a6",
   "metadata": {},
   "outputs": [],
   "source": [
    "New_Y_test_pred2 = best_model2.predict(X_test_scalled2)"
   ]
  },
  {
   "cell_type": "code",
   "execution_count": 88,
   "id": "b1694d05",
   "metadata": {},
   "outputs": [
    {
     "name": "stdout",
     "output_type": "stream",
     "text": [
      "              precision    recall  f1-score   support\n",
      "\n",
      "          No       0.90      0.67      0.77      2587\n",
      "         Yes       0.46      0.79      0.58       935\n",
      "\n",
      "    accuracy                           0.70      3522\n",
      "   macro avg       0.68      0.73      0.68      3522\n",
      "weighted avg       0.78      0.70      0.72      3522\n",
      "\n"
     ]
    }
   ],
   "source": [
    "print(classification_report(Y_test, New_Y_test_pred2))"
   ]
  },
  {
   "cell_type": "code",
   "execution_count": 89,
   "id": "89232111",
   "metadata": {},
   "outputs": [
    {
     "name": "stderr",
     "output_type": "stream",
     "text": [
      "C:\\Users\\cheri\\anaconda3\\lib\\site-packages\\sklearn\\utils\\deprecation.py:87: FutureWarning: Function plot_confusion_matrix is deprecated; Function `plot_confusion_matrix` is deprecated in 1.0 and will be removed in 1.2. Use one of the class methods: ConfusionMatrixDisplay.from_predictions or ConfusionMatrixDisplay.from_estimator.\n",
      "  warnings.warn(msg, category=FutureWarning)\n"
     ]
    },
    {
     "data": {
      "text/plain": [
       "<sklearn.metrics._plot.confusion_matrix.ConfusionMatrixDisplay at 0x18fd1cf16a0>"
      ]
     },
     "execution_count": 89,
     "metadata": {},
     "output_type": "execute_result"
    },
    {
     "data": {
      "image/png": "[encoded data removed]",
      "text/plain": [
       "<Figure size 432x288 with 2 Axes>"
      ]
     },
     "metadata": {
      "needs_background": "light"
     },
     "output_type": "display_data"
    }
   ],
   "source": [
    "plot_confusion_matrix(best_model2, X_test_scalled2, Y_test)"
   ]
  },
  {
   "cell_type": "markdown",
   "id": "80543577",
   "metadata": {},
   "source": [
    "Avec la methode Random UnderSampling, En visualisant notre classifcation report et notre matrix de confusion, nous constatons que notre modèle présente des resultats satisfaisants mais bon que celle de l'OverSampling .En effet, les performances du modèle sur le jeu de données test un score de 70.1% sensiblement egale à celui de RandomOverSampling (70.6%).Par contre nous notons une grande différence de performance dans les jeu de données d'apprentissage soit 74.4% pour UnderSampling et 86.88% pour le OverSampling.\n",
    "les resultats sur la précision (80%), le rappel(79%) et f1-score(80%) pour la methode OverSampling est sensiblement superieur à ceux obtenus avec UnderSampling précision (90%), le rappel (67%) le f1-score(77) . \n",
    "Ainsi, d'apres nos resultats à l'issu des deux strategies, nous pouvont dire que les deux methode appliquées sur le meme algorithme presente des resultats trés proches avec plus de performances pour la methode RandomOverSampling.\n",
    "Ce qui témoigne une bonne capacité de généralisation des modèles sur des données a teste aussi bien dans la classe majoritaire comme minoritaire.Nous pouvons dire que le RandomOversampling est sensiblement plus efficaces sur nos données."
   ]
  }
 ],
 "metadata": {
  "kernelspec": {
   "display_name": "Python 3",
   "language": "python",
   "name": "python3"
  },
  "language_info": {
   "codemirror_mode": {
    "name": "ipython",
    "version": 3
   },
   "file_extension": ".py",
   "mimetype": "text/x-python",
   "name": "python",
   "nbconvert_exporter": "python",
   "pygments_lexer": "ipython3",
   "version": "3.8.8"
  }
 },
 "nbformat": 4,
 "nbformat_minor": 5
}
