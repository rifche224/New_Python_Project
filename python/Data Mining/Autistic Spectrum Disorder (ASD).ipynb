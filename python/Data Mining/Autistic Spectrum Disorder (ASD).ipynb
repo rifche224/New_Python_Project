{
 "cells": [
  {
   "cell_type": "markdown",
   "id": "0eb1a606",
   "metadata": {},
   "source": [
    "# PARTIE II : Autistic Spectrum Disorder (ASD) "
   ]
  },
  {
   "cell_type": "markdown",
   "id": "af7b85f1",
   "metadata": {},
   "source": [
    "### Introduction "
   ]
  },
  {
   "cell_type": "markdown",
   "id": "6ce4b1f9",
   "metadata": {},
   "source": [
    "Le jeu de données qui est soumis à notre analyse s’articule autour de la maladie d'Autistic Spectrum.La maladie d'Autistic Spectrum est un trouble du développement neurologique associé à des coûts de soins de santé importants, et un diagnostic précoce peut les réduire considérablement.\n",
    "Dans l'étude de cette maladie, nous utilisons un DataSet(Autism-Adult-Data) qui collecte un ensemble de données lié au dépistage de l'autisme chez les adultes, qui contient 20 caractéristiques à utiliser pour une analyse plus approfondie, notamment pour déterminer les traits autistiques influents et améliorer la classification des cas de TSA. Dans cet ensemble de données, nous enregistrons dix caractéristiques comportementales (AQ-10-Adult) plus dix caractéristiques individuelles qui se sont avérées efficaces pour détecter les cas de TSA par rapport aux témoins dans les sciences du comportement."
   ]
  },
  {
   "cell_type": "markdown",
   "id": "facdcb8c",
   "metadata": {},
   "source": [
    "## Importation des librairies"
   ]
  },
  {
   "cell_type": "code",
   "execution_count": 1,
   "id": "02456f39",
   "metadata": {},
   "outputs": [],
   "source": [
    "import numpy as np\n",
    "import pandas as pd\n",
    "import matplotlib.pyplot as plt\n",
    "import seaborn as sns\n",
    "from scipy.io import arff\n",
    "from sklearn.neighbors import KNeighborsClassifier\n",
    "from sklearn.model_selection import train_test_split\n",
    "from sklearn.preprocessing import StandardScaler\n",
    "from sklearn.metrics import accuracy_score, roc_auc_score\n",
    "from sklearn.metrics import classification_report\n",
    "from sklearn.model_selection import GridSearchCV"
   ]
  },
  {
   "cell_type": "markdown",
   "id": "77a26e0b",
   "metadata": {},
   "source": [
    "## Chargement des données"
   ]
  },
  {
   "cell_type": "code",
   "execution_count": 2,
   "id": "ef610b6a",
   "metadata": {},
   "outputs": [],
   "source": [
    "df = pd.read_csv('Autism-Adult-Data.csv')"
   ]
  },
  {
   "cell_type": "code",
   "execution_count": 3,
   "id": "1d41bbd8",
   "metadata": {},
   "outputs": [
    {
     "data": {
      "text/html": [
       "<div>\n",
       "<style scoped>\n",
       "    .dataframe tbody tr th:only-of-type {\n",
       "        vertical-align: middle;\n",
       "    }\n",
       "\n",
       "    .dataframe tbody tr th {\n",
       "        vertical-align: top;\n",
       "    }\n",
       "\n",
       "    .dataframe thead th {\n",
       "        text-align: right;\n",
       "    }\n",
       "</style>\n",
       "<table border=\"1\" class=\"dataframe\">\n",
       "  <thead>\n",
       "    <tr style=\"text-align: right;\">\n",
       "      <th></th>\n",
       "      <th>A1_Score</th>\n",
       "      <th>A2_Score</th>\n",
       "      <th>A3_Score</th>\n",
       "      <th>A4_Score</th>\n",
       "      <th>A5_Score</th>\n",
       "      <th>A6_Score</th>\n",
       "      <th>A7_Score</th>\n",
       "      <th>A8_Score</th>\n",
       "      <th>A9_Score</th>\n",
       "      <th>A10_Score</th>\n",
       "      <th>...</th>\n",
       "      <th>gender</th>\n",
       "      <th>ethnicity</th>\n",
       "      <th>jundice</th>\n",
       "      <th>austim</th>\n",
       "      <th>contry_of_res</th>\n",
       "      <th>used_app_before</th>\n",
       "      <th>result</th>\n",
       "      <th>age_desc</th>\n",
       "      <th>relation</th>\n",
       "      <th>Class/ASD</th>\n",
       "    </tr>\n",
       "  </thead>\n",
       "  <tbody>\n",
       "    <tr>\n",
       "      <th>0</th>\n",
       "      <td>1</td>\n",
       "      <td>1</td>\n",
       "      <td>1</td>\n",
       "      <td>1</td>\n",
       "      <td>0</td>\n",
       "      <td>0</td>\n",
       "      <td>1</td>\n",
       "      <td>1</td>\n",
       "      <td>0</td>\n",
       "      <td>0</td>\n",
       "      <td>...</td>\n",
       "      <td>f</td>\n",
       "      <td>White-European</td>\n",
       "      <td>no</td>\n",
       "      <td>no</td>\n",
       "      <td>'United States'</td>\n",
       "      <td>no</td>\n",
       "      <td>6</td>\n",
       "      <td>'18 and more'</td>\n",
       "      <td>Self</td>\n",
       "      <td>NO</td>\n",
       "    </tr>\n",
       "    <tr>\n",
       "      <th>1</th>\n",
       "      <td>1</td>\n",
       "      <td>1</td>\n",
       "      <td>0</td>\n",
       "      <td>1</td>\n",
       "      <td>0</td>\n",
       "      <td>0</td>\n",
       "      <td>0</td>\n",
       "      <td>1</td>\n",
       "      <td>0</td>\n",
       "      <td>1</td>\n",
       "      <td>...</td>\n",
       "      <td>m</td>\n",
       "      <td>Latino</td>\n",
       "      <td>no</td>\n",
       "      <td>yes</td>\n",
       "      <td>Brazil</td>\n",
       "      <td>no</td>\n",
       "      <td>5</td>\n",
       "      <td>'18 and more'</td>\n",
       "      <td>Self</td>\n",
       "      <td>NO</td>\n",
       "    </tr>\n",
       "    <tr>\n",
       "      <th>2</th>\n",
       "      <td>1</td>\n",
       "      <td>1</td>\n",
       "      <td>0</td>\n",
       "      <td>1</td>\n",
       "      <td>1</td>\n",
       "      <td>0</td>\n",
       "      <td>1</td>\n",
       "      <td>1</td>\n",
       "      <td>1</td>\n",
       "      <td>1</td>\n",
       "      <td>...</td>\n",
       "      <td>m</td>\n",
       "      <td>Latino</td>\n",
       "      <td>yes</td>\n",
       "      <td>yes</td>\n",
       "      <td>Spain</td>\n",
       "      <td>no</td>\n",
       "      <td>8</td>\n",
       "      <td>'18 and more'</td>\n",
       "      <td>Parent</td>\n",
       "      <td>YES</td>\n",
       "    </tr>\n",
       "    <tr>\n",
       "      <th>3</th>\n",
       "      <td>1</td>\n",
       "      <td>1</td>\n",
       "      <td>0</td>\n",
       "      <td>1</td>\n",
       "      <td>0</td>\n",
       "      <td>0</td>\n",
       "      <td>1</td>\n",
       "      <td>1</td>\n",
       "      <td>0</td>\n",
       "      <td>1</td>\n",
       "      <td>...</td>\n",
       "      <td>f</td>\n",
       "      <td>White-European</td>\n",
       "      <td>no</td>\n",
       "      <td>yes</td>\n",
       "      <td>'United States'</td>\n",
       "      <td>no</td>\n",
       "      <td>6</td>\n",
       "      <td>'18 and more'</td>\n",
       "      <td>Self</td>\n",
       "      <td>NO</td>\n",
       "    </tr>\n",
       "    <tr>\n",
       "      <th>4</th>\n",
       "      <td>1</td>\n",
       "      <td>0</td>\n",
       "      <td>0</td>\n",
       "      <td>0</td>\n",
       "      <td>0</td>\n",
       "      <td>0</td>\n",
       "      <td>0</td>\n",
       "      <td>1</td>\n",
       "      <td>0</td>\n",
       "      <td>0</td>\n",
       "      <td>...</td>\n",
       "      <td>f</td>\n",
       "      <td>?</td>\n",
       "      <td>no</td>\n",
       "      <td>no</td>\n",
       "      <td>Egypt</td>\n",
       "      <td>no</td>\n",
       "      <td>2</td>\n",
       "      <td>'18 and more'</td>\n",
       "      <td>?</td>\n",
       "      <td>NO</td>\n",
       "    </tr>\n",
       "  </tbody>\n",
       "</table>\n",
       "<p>5 rows × 21 columns</p>\n",
       "</div>"
      ],
      "text/plain": [
       "   A1_Score  A2_Score  A3_Score  A4_Score  A5_Score  A6_Score  A7_Score  \\\n",
       "0         1         1         1         1         0         0         1   \n",
       "1         1         1         0         1         0         0         0   \n",
       "2         1         1         0         1         1         0         1   \n",
       "3         1         1         0         1         0         0         1   \n",
       "4         1         0         0         0         0         0         0   \n",
       "\n",
       "   A8_Score  A9_Score  A10_Score  ... gender       ethnicity jundice austim  \\\n",
       "0         1         0          0  ...      f  White-European      no     no   \n",
       "1         1         0          1  ...      m          Latino      no    yes   \n",
       "2         1         1          1  ...      m          Latino     yes    yes   \n",
       "3         1         0          1  ...      f  White-European      no    yes   \n",
       "4         1         0          0  ...      f               ?      no     no   \n",
       "\n",
       "     contry_of_res used_app_before result       age_desc relation Class/ASD  \n",
       "0  'United States'              no      6  '18 and more'     Self        NO  \n",
       "1           Brazil              no      5  '18 and more'     Self        NO  \n",
       "2            Spain              no      8  '18 and more'   Parent       YES  \n",
       "3  'United States'              no      6  '18 and more'     Self        NO  \n",
       "4            Egypt              no      2  '18 and more'        ?        NO  \n",
       "\n",
       "[5 rows x 21 columns]"
      ]
     },
     "execution_count": 3,
     "metadata": {},
     "output_type": "execute_result"
    }
   ],
   "source": [
    "df.head() "
   ]
  },
  {
   "cell_type": "code",
   "execution_count": 4,
   "id": "a2c2c9cd",
   "metadata": {},
   "outputs": [
    {
     "data": {
      "text/html": [
       "<div>\n",
       "<style scoped>\n",
       "    .dataframe tbody tr th:only-of-type {\n",
       "        vertical-align: middle;\n",
       "    }\n",
       "\n",
       "    .dataframe tbody tr th {\n",
       "        vertical-align: top;\n",
       "    }\n",
       "\n",
       "    .dataframe thead th {\n",
       "        text-align: right;\n",
       "    }\n",
       "</style>\n",
       "<table border=\"1\" class=\"dataframe\">\n",
       "  <thead>\n",
       "    <tr style=\"text-align: right;\">\n",
       "      <th></th>\n",
       "      <th>A1_Score</th>\n",
       "      <th>A2_Score</th>\n",
       "      <th>A3_Score</th>\n",
       "      <th>A4_Score</th>\n",
       "      <th>A5_Score</th>\n",
       "      <th>A6_Score</th>\n",
       "      <th>A7_Score</th>\n",
       "      <th>A8_Score</th>\n",
       "      <th>A9_Score</th>\n",
       "      <th>A10_Score</th>\n",
       "      <th>...</th>\n",
       "      <th>gender</th>\n",
       "      <th>ethnicity</th>\n",
       "      <th>jundice</th>\n",
       "      <th>austim</th>\n",
       "      <th>contry_of_res</th>\n",
       "      <th>used_app_before</th>\n",
       "      <th>result</th>\n",
       "      <th>age_desc</th>\n",
       "      <th>relation</th>\n",
       "      <th>Class/ASD</th>\n",
       "    </tr>\n",
       "  </thead>\n",
       "  <tbody>\n",
       "    <tr>\n",
       "      <th>699</th>\n",
       "      <td>0</td>\n",
       "      <td>1</td>\n",
       "      <td>0</td>\n",
       "      <td>1</td>\n",
       "      <td>1</td>\n",
       "      <td>0</td>\n",
       "      <td>1</td>\n",
       "      <td>1</td>\n",
       "      <td>1</td>\n",
       "      <td>1</td>\n",
       "      <td>...</td>\n",
       "      <td>f</td>\n",
       "      <td>White-European</td>\n",
       "      <td>no</td>\n",
       "      <td>no</td>\n",
       "      <td>Russia</td>\n",
       "      <td>no</td>\n",
       "      <td>7</td>\n",
       "      <td>'18 and more'</td>\n",
       "      <td>Self</td>\n",
       "      <td>YES</td>\n",
       "    </tr>\n",
       "    <tr>\n",
       "      <th>700</th>\n",
       "      <td>1</td>\n",
       "      <td>0</td>\n",
       "      <td>0</td>\n",
       "      <td>0</td>\n",
       "      <td>0</td>\n",
       "      <td>0</td>\n",
       "      <td>0</td>\n",
       "      <td>1</td>\n",
       "      <td>0</td>\n",
       "      <td>1</td>\n",
       "      <td>...</td>\n",
       "      <td>m</td>\n",
       "      <td>Hispanic</td>\n",
       "      <td>no</td>\n",
       "      <td>no</td>\n",
       "      <td>Mexico</td>\n",
       "      <td>no</td>\n",
       "      <td>3</td>\n",
       "      <td>'18 and more'</td>\n",
       "      <td>Parent</td>\n",
       "      <td>NO</td>\n",
       "    </tr>\n",
       "    <tr>\n",
       "      <th>701</th>\n",
       "      <td>1</td>\n",
       "      <td>0</td>\n",
       "      <td>1</td>\n",
       "      <td>1</td>\n",
       "      <td>1</td>\n",
       "      <td>0</td>\n",
       "      <td>1</td>\n",
       "      <td>1</td>\n",
       "      <td>0</td>\n",
       "      <td>1</td>\n",
       "      <td>...</td>\n",
       "      <td>f</td>\n",
       "      <td>?</td>\n",
       "      <td>no</td>\n",
       "      <td>no</td>\n",
       "      <td>Russia</td>\n",
       "      <td>no</td>\n",
       "      <td>7</td>\n",
       "      <td>'18 and more'</td>\n",
       "      <td>?</td>\n",
       "      <td>YES</td>\n",
       "    </tr>\n",
       "    <tr>\n",
       "      <th>702</th>\n",
       "      <td>1</td>\n",
       "      <td>0</td>\n",
       "      <td>0</td>\n",
       "      <td>1</td>\n",
       "      <td>1</td>\n",
       "      <td>0</td>\n",
       "      <td>1</td>\n",
       "      <td>0</td>\n",
       "      <td>1</td>\n",
       "      <td>1</td>\n",
       "      <td>...</td>\n",
       "      <td>m</td>\n",
       "      <td>'South Asian'</td>\n",
       "      <td>no</td>\n",
       "      <td>no</td>\n",
       "      <td>Pakistan</td>\n",
       "      <td>no</td>\n",
       "      <td>6</td>\n",
       "      <td>'18 and more'</td>\n",
       "      <td>Self</td>\n",
       "      <td>NO</td>\n",
       "    </tr>\n",
       "    <tr>\n",
       "      <th>703</th>\n",
       "      <td>1</td>\n",
       "      <td>0</td>\n",
       "      <td>1</td>\n",
       "      <td>1</td>\n",
       "      <td>1</td>\n",
       "      <td>0</td>\n",
       "      <td>1</td>\n",
       "      <td>1</td>\n",
       "      <td>1</td>\n",
       "      <td>1</td>\n",
       "      <td>...</td>\n",
       "      <td>f</td>\n",
       "      <td>White-European</td>\n",
       "      <td>no</td>\n",
       "      <td>no</td>\n",
       "      <td>Cyprus</td>\n",
       "      <td>no</td>\n",
       "      <td>8</td>\n",
       "      <td>'18 and more'</td>\n",
       "      <td>Self</td>\n",
       "      <td>YES</td>\n",
       "    </tr>\n",
       "  </tbody>\n",
       "</table>\n",
       "<p>5 rows × 21 columns</p>\n",
       "</div>"
      ],
      "text/plain": [
       "     A1_Score  A2_Score  A3_Score  A4_Score  A5_Score  A6_Score  A7_Score  \\\n",
       "699         0         1         0         1         1         0         1   \n",
       "700         1         0         0         0         0         0         0   \n",
       "701         1         0         1         1         1         0         1   \n",
       "702         1         0         0         1         1         0         1   \n",
       "703         1         0         1         1         1         0         1   \n",
       "\n",
       "     A8_Score  A9_Score  A10_Score  ... gender       ethnicity jundice austim  \\\n",
       "699         1         1          1  ...      f  White-European      no     no   \n",
       "700         1         0          1  ...      m        Hispanic      no     no   \n",
       "701         1         0          1  ...      f               ?      no     no   \n",
       "702         0         1          1  ...      m   'South Asian'      no     no   \n",
       "703         1         1          1  ...      f  White-European      no     no   \n",
       "\n",
       "    contry_of_res used_app_before result       age_desc relation Class/ASD  \n",
       "699        Russia              no      7  '18 and more'     Self       YES  \n",
       "700        Mexico              no      3  '18 and more'   Parent        NO  \n",
       "701        Russia              no      7  '18 and more'        ?       YES  \n",
       "702      Pakistan              no      6  '18 and more'     Self        NO  \n",
       "703        Cyprus              no      8  '18 and more'     Self       YES  \n",
       "\n",
       "[5 rows x 21 columns]"
      ]
     },
     "execution_count": 4,
     "metadata": {},
     "output_type": "execute_result"
    }
   ],
   "source": [
    "df.tail()"
   ]
  },
  {
   "cell_type": "markdown",
   "id": "d1342f60",
   "metadata": {},
   "source": [
    "# Exploration des données"
   ]
  },
  {
   "cell_type": "markdown",
   "id": "f40984fe",
   "metadata": {},
   "source": [
    "## Analyse statistique descriptive du jeu de données"
   ]
  },
  {
   "cell_type": "markdown",
   "id": "8bb28d3c",
   "metadata": {},
   "source": [
    "Dans cette section, nous donnons une vue d’ensemble sur les données en mettant en exergue certaines mesures\n",
    "comme la moyenne, l’ecart type, les quartiles, etc. Nous regardons aussi l’existence de valeurs nulles dans l’ensemble\n",
    "de données."
   ]
  },
  {
   "cell_type": "code",
   "execution_count": 5,
   "id": "aef96c1b",
   "metadata": {},
   "outputs": [
    {
     "name": "stdout",
     "output_type": "stream",
     "text": [
      "<class 'pandas.core.frame.DataFrame'>\n",
      "RangeIndex: 704 entries, 0 to 703\n",
      "Data columns (total 21 columns):\n",
      " #   Column           Non-Null Count  Dtype \n",
      "---  ------           --------------  ----- \n",
      " 0   A1_Score         704 non-null    int64 \n",
      " 1   A2_Score         704 non-null    int64 \n",
      " 2   A3_Score         704 non-null    int64 \n",
      " 3   A4_Score         704 non-null    int64 \n",
      " 4   A5_Score         704 non-null    int64 \n",
      " 5   A6_Score         704 non-null    int64 \n",
      " 6   A7_Score         704 non-null    int64 \n",
      " 7   A8_Score         704 non-null    int64 \n",
      " 8   A9_Score         704 non-null    int64 \n",
      " 9   A10_Score        704 non-null    int64 \n",
      " 10  age              704 non-null    object\n",
      " 11  gender           704 non-null    object\n",
      " 12  ethnicity        704 non-null    object\n",
      " 13  jundice          704 non-null    object\n",
      " 14  austim           704 non-null    object\n",
      " 15  contry_of_res    704 non-null    object\n",
      " 16  used_app_before  704 non-null    object\n",
      " 17  result           704 non-null    int64 \n",
      " 18  age_desc         704 non-null    object\n",
      " 19  relation         704 non-null    object\n",
      " 20  Class/ASD        704 non-null    object\n",
      "dtypes: int64(11), object(10)\n",
      "memory usage: 115.6+ KB\n"
     ]
    }
   ],
   "source": [
    "df.info()"
   ]
  },
  {
   "cell_type": "code",
   "execution_count": 6,
   "id": "bfa710f1",
   "metadata": {},
   "outputs": [
    {
     "data": {
      "text/plain": [
       "(704, 21)"
      ]
     },
     "execution_count": 6,
     "metadata": {},
     "output_type": "execute_result"
    }
   ],
   "source": [
    "df.shape"
   ]
  },
  {
   "cell_type": "markdown",
   "id": "6b5407eb",
   "metadata": {},
   "source": [
    "Notre jeu de données présente 704 instances et 21 colones dont les 11 (A1_Score, A2_Score, A3_Score, A4_Score,A5_Score,A6_Score,A7_Score,A8_Score,A9_Score,A10_Score et result) sont des valeurs numeriques (int64) et les 10 sont des objets.\n",
    "On peut egalement s'apercevoir que le jeu de donnees ne presente pas de valeurs nulles."
   ]
  },
  {
   "cell_type": "code",
   "execution_count": 7,
   "id": "67faedc7",
   "metadata": {},
   "outputs": [
    {
     "data": {
      "text/html": [
       "<div>\n",
       "<style scoped>\n",
       "    .dataframe tbody tr th:only-of-type {\n",
       "        vertical-align: middle;\n",
       "    }\n",
       "\n",
       "    .dataframe tbody tr th {\n",
       "        vertical-align: top;\n",
       "    }\n",
       "\n",
       "    .dataframe thead th {\n",
       "        text-align: right;\n",
       "    }\n",
       "</style>\n",
       "<table border=\"1\" class=\"dataframe\">\n",
       "  <thead>\n",
       "    <tr style=\"text-align: right;\">\n",
       "      <th></th>\n",
       "      <th>A1_Score</th>\n",
       "      <th>A2_Score</th>\n",
       "      <th>A3_Score</th>\n",
       "      <th>A4_Score</th>\n",
       "      <th>A5_Score</th>\n",
       "      <th>A6_Score</th>\n",
       "      <th>A7_Score</th>\n",
       "      <th>A8_Score</th>\n",
       "      <th>A9_Score</th>\n",
       "      <th>A10_Score</th>\n",
       "      <th>result</th>\n",
       "    </tr>\n",
       "  </thead>\n",
       "  <tbody>\n",
       "    <tr>\n",
       "      <th>count</th>\n",
       "      <td>704.000000</td>\n",
       "      <td>704.000000</td>\n",
       "      <td>704.000000</td>\n",
       "      <td>704.000000</td>\n",
       "      <td>704.000000</td>\n",
       "      <td>704.000000</td>\n",
       "      <td>704.000000</td>\n",
       "      <td>704.000000</td>\n",
       "      <td>704.000000</td>\n",
       "      <td>704.000000</td>\n",
       "      <td>704.000000</td>\n",
       "    </tr>\n",
       "    <tr>\n",
       "      <th>mean</th>\n",
       "      <td>0.721591</td>\n",
       "      <td>0.453125</td>\n",
       "      <td>0.457386</td>\n",
       "      <td>0.495739</td>\n",
       "      <td>0.498580</td>\n",
       "      <td>0.284091</td>\n",
       "      <td>0.417614</td>\n",
       "      <td>0.649148</td>\n",
       "      <td>0.323864</td>\n",
       "      <td>0.573864</td>\n",
       "      <td>4.875000</td>\n",
       "    </tr>\n",
       "    <tr>\n",
       "      <th>std</th>\n",
       "      <td>0.448535</td>\n",
       "      <td>0.498152</td>\n",
       "      <td>0.498535</td>\n",
       "      <td>0.500337</td>\n",
       "      <td>0.500353</td>\n",
       "      <td>0.451301</td>\n",
       "      <td>0.493516</td>\n",
       "      <td>0.477576</td>\n",
       "      <td>0.468281</td>\n",
       "      <td>0.494866</td>\n",
       "      <td>2.501493</td>\n",
       "    </tr>\n",
       "    <tr>\n",
       "      <th>min</th>\n",
       "      <td>0.000000</td>\n",
       "      <td>0.000000</td>\n",
       "      <td>0.000000</td>\n",
       "      <td>0.000000</td>\n",
       "      <td>0.000000</td>\n",
       "      <td>0.000000</td>\n",
       "      <td>0.000000</td>\n",
       "      <td>0.000000</td>\n",
       "      <td>0.000000</td>\n",
       "      <td>0.000000</td>\n",
       "      <td>0.000000</td>\n",
       "    </tr>\n",
       "    <tr>\n",
       "      <th>25%</th>\n",
       "      <td>0.000000</td>\n",
       "      <td>0.000000</td>\n",
       "      <td>0.000000</td>\n",
       "      <td>0.000000</td>\n",
       "      <td>0.000000</td>\n",
       "      <td>0.000000</td>\n",
       "      <td>0.000000</td>\n",
       "      <td>0.000000</td>\n",
       "      <td>0.000000</td>\n",
       "      <td>0.000000</td>\n",
       "      <td>3.000000</td>\n",
       "    </tr>\n",
       "    <tr>\n",
       "      <th>50%</th>\n",
       "      <td>1.000000</td>\n",
       "      <td>0.000000</td>\n",
       "      <td>0.000000</td>\n",
       "      <td>0.000000</td>\n",
       "      <td>0.000000</td>\n",
       "      <td>0.000000</td>\n",
       "      <td>0.000000</td>\n",
       "      <td>1.000000</td>\n",
       "      <td>0.000000</td>\n",
       "      <td>1.000000</td>\n",
       "      <td>4.000000</td>\n",
       "    </tr>\n",
       "    <tr>\n",
       "      <th>75%</th>\n",
       "      <td>1.000000</td>\n",
       "      <td>1.000000</td>\n",
       "      <td>1.000000</td>\n",
       "      <td>1.000000</td>\n",
       "      <td>1.000000</td>\n",
       "      <td>1.000000</td>\n",
       "      <td>1.000000</td>\n",
       "      <td>1.000000</td>\n",
       "      <td>1.000000</td>\n",
       "      <td>1.000000</td>\n",
       "      <td>7.000000</td>\n",
       "    </tr>\n",
       "    <tr>\n",
       "      <th>max</th>\n",
       "      <td>1.000000</td>\n",
       "      <td>1.000000</td>\n",
       "      <td>1.000000</td>\n",
       "      <td>1.000000</td>\n",
       "      <td>1.000000</td>\n",
       "      <td>1.000000</td>\n",
       "      <td>1.000000</td>\n",
       "      <td>1.000000</td>\n",
       "      <td>1.000000</td>\n",
       "      <td>1.000000</td>\n",
       "      <td>10.000000</td>\n",
       "    </tr>\n",
       "  </tbody>\n",
       "</table>\n",
       "</div>"
      ],
      "text/plain": [
       "         A1_Score    A2_Score    A3_Score    A4_Score    A5_Score    A6_Score  \\\n",
       "count  704.000000  704.000000  704.000000  704.000000  704.000000  704.000000   \n",
       "mean     0.721591    0.453125    0.457386    0.495739    0.498580    0.284091   \n",
       "std      0.448535    0.498152    0.498535    0.500337    0.500353    0.451301   \n",
       "min      0.000000    0.000000    0.000000    0.000000    0.000000    0.000000   \n",
       "25%      0.000000    0.000000    0.000000    0.000000    0.000000    0.000000   \n",
       "50%      1.000000    0.000000    0.000000    0.000000    0.000000    0.000000   \n",
       "75%      1.000000    1.000000    1.000000    1.000000    1.000000    1.000000   \n",
       "max      1.000000    1.000000    1.000000    1.000000    1.000000    1.000000   \n",
       "\n",
       "         A7_Score    A8_Score    A9_Score   A10_Score      result  \n",
       "count  704.000000  704.000000  704.000000  704.000000  704.000000  \n",
       "mean     0.417614    0.649148    0.323864    0.573864    4.875000  \n",
       "std      0.493516    0.477576    0.468281    0.494866    2.501493  \n",
       "min      0.000000    0.000000    0.000000    0.000000    0.000000  \n",
       "25%      0.000000    0.000000    0.000000    0.000000    3.000000  \n",
       "50%      0.000000    1.000000    0.000000    1.000000    4.000000  \n",
       "75%      1.000000    1.000000    1.000000    1.000000    7.000000  \n",
       "max      1.000000    1.000000    1.000000    1.000000   10.000000  "
      ]
     },
     "execution_count": 7,
     "metadata": {},
     "output_type": "execute_result"
    }
   ],
   "source": [
    "df.describe()"
   ]
  },
  {
   "cell_type": "markdown",
   "id": "220549c3",
   "metadata": {},
   "source": [
    "- Pour les colonnes A2_Score,A3_Score,A4_Score,A5_Score,A6_Score,A7_Score,A8_Score,A9_Score on note une dispersion trés faible  des donnees par rapport à la moyenne.\n",
    "- Par rapport aux quartiles, la repartition des donnees est quasiment homogène selon les colonnes. En effet, pour la colonne A1_Score on note plus une repartition assez homogene des donnees sur q1, q2 et q3 avec une des proportions invariantes de q1, q2 et q3.\n",
    "- S'agissant de la moyenne, Il est notable de remarquer l'heterogeneité tres faible des echelles. En effet, la moyenne des colonnes du dataset sont tres proches ainsi, un travail de normalisation sera fait pour homogeiniser totalement les echelles"
   ]
  },
  {
   "cell_type": "code",
   "execution_count": 8,
   "id": "60bcad71",
   "metadata": {},
   "outputs": [
    {
     "data": {
      "text/html": [
       "<style  type=\"text/css\" >\n",
       "#T_de562_row0_col0,#T_de562_row1_col1,#T_de562_row2_col2,#T_de562_row3_col3,#T_de562_row4_col4,#T_de562_row5_col5,#T_de562_row6_col6,#T_de562_row7_col7,#T_de562_row8_col8,#T_de562_row9_col9,#T_de562_row10_col10{\n",
       "            background-color:  #b40426;\n",
       "            color:  #f1f1f1;\n",
       "        }#T_de562_row0_col1,#T_de562_row0_col9{\n",
       "            background-color:  #4a63d3;\n",
       "            color:  #f1f1f1;\n",
       "        }#T_de562_row0_col2,#T_de562_row1_col4{\n",
       "            background-color:  #4b64d5;\n",
       "            color:  #f1f1f1;\n",
       "        }#T_de562_row0_col3,#T_de562_row3_col0{\n",
       "            background-color:  #5f7fe8;\n",
       "            color:  #000000;\n",
       "        }#T_de562_row0_col4,#T_de562_row6_col7{\n",
       "            background-color:  #516ddb;\n",
       "            color:  #000000;\n",
       "        }#T_de562_row0_col5,#T_de562_row2_col7{\n",
       "            background-color:  #3d50c3;\n",
       "            color:  #f1f1f1;\n",
       "        }#T_de562_row0_col6{\n",
       "            background-color:  #8caffe;\n",
       "            color:  #000000;\n",
       "        }#T_de562_row0_col7,#T_de562_row7_col0{\n",
       "            background-color:  #6687ed;\n",
       "            color:  #000000;\n",
       "        }#T_de562_row0_col8{\n",
       "            background-color:  #4961d2;\n",
       "            color:  #f1f1f1;\n",
       "        }#T_de562_row0_col10,#T_de562_row2_col9,#T_de562_row9_col0,#T_de562_row9_col1{\n",
       "            background-color:  #5b7ae5;\n",
       "            color:  #000000;\n",
       "        }#T_de562_row1_col0,#T_de562_row1_col6,#T_de562_row1_col9,#T_de562_row3_col7,#T_de562_row6_col1,#T_de562_row7_col2,#T_de562_row7_col3,#T_de562_row7_col4,#T_de562_row7_col5,#T_de562_row7_col8,#T_de562_row7_col10{\n",
       "            background-color:  #3b4cc0;\n",
       "            color:  #f1f1f1;\n",
       "        }#T_de562_row1_col2,#T_de562_row5_col6,#T_de562_row6_col0{\n",
       "            background-color:  #7ea1fa;\n",
       "            color:  #000000;\n",
       "        }#T_de562_row1_col3,#T_de562_row6_col4{\n",
       "            background-color:  #6a8bef;\n",
       "            color:  #000000;\n",
       "        }#T_de562_row1_col5,#T_de562_row4_col7,#T_de562_row8_col7{\n",
       "            background-color:  #5875e1;\n",
       "            color:  #000000;\n",
       "        }#T_de562_row1_col7{\n",
       "            background-color:  #4257c9;\n",
       "            color:  #f1f1f1;\n",
       "        }#T_de562_row1_col8,#T_de562_row2_col6{\n",
       "            background-color:  #5e7de7;\n",
       "            color:  #000000;\n",
       "        }#T_de562_row1_col10,#T_de562_row5_col0,#T_de562_row6_col8{\n",
       "            background-color:  #5977e3;\n",
       "            color:  #000000;\n",
       "        }#T_de562_row2_col0{\n",
       "            background-color:  #4e68d8;\n",
       "            color:  #000000;\n",
       "        }#T_de562_row2_col1,#T_de562_row5_col2{\n",
       "            background-color:  #8fb1fe;\n",
       "            color:  #000000;\n",
       "        }#T_de562_row2_col3{\n",
       "            background-color:  #c3d5f4;\n",
       "            color:  #000000;\n",
       "        }#T_de562_row2_col4{\n",
       "            background-color:  #7597f6;\n",
       "            color:  #000000;\n",
       "        }#T_de562_row2_col5,#T_de562_row3_col6,#T_de562_row9_col4{\n",
       "            background-color:  #7699f6;\n",
       "            color:  #000000;\n",
       "        }#T_de562_row2_col8,#T_de562_row8_col1{\n",
       "            background-color:  #88abfd;\n",
       "            color:  #000000;\n",
       "        }#T_de562_row2_col10{\n",
       "            background-color:  #abc8fd;\n",
       "            color:  #000000;\n",
       "        }#T_de562_row3_col1,#T_de562_row6_col10{\n",
       "            background-color:  #799cf8;\n",
       "            color:  #000000;\n",
       "        }#T_de562_row3_col2{\n",
       "            background-color:  #c0d4f5;\n",
       "            color:  #000000;\n",
       "        }#T_de562_row3_col4,#T_de562_row8_col9{\n",
       "            background-color:  #85a8fc;\n",
       "            color:  #000000;\n",
       "        }#T_de562_row3_col5,#T_de562_row5_col1,#T_de562_row9_col5{\n",
       "            background-color:  #81a4fb;\n",
       "            color:  #000000;\n",
       "        }#T_de562_row3_col8,#T_de562_row4_col2{\n",
       "            background-color:  #8db0fe;\n",
       "            color:  #000000;\n",
       "        }#T_de562_row3_col9,#T_de562_row9_col2{\n",
       "            background-color:  #6b8df0;\n",
       "            color:  #000000;\n",
       "        }#T_de562_row3_col10,#T_de562_row10_col0{\n",
       "            background-color:  #bcd2f7;\n",
       "            color:  #000000;\n",
       "        }#T_de562_row4_col0{\n",
       "            background-color:  #6c8ff1;\n",
       "            color:  #000000;\n",
       "        }#T_de562_row4_col1{\n",
       "            background-color:  #779af7;\n",
       "            color:  #000000;\n",
       "        }#T_de562_row4_col3,#T_de562_row8_col2{\n",
       "            background-color:  #9fbfff;\n",
       "            color:  #000000;\n",
       "        }#T_de562_row4_col5,#T_de562_row8_col4{\n",
       "            background-color:  #a7c5fe;\n",
       "            color:  #000000;\n",
       "        }#T_de562_row4_col6{\n",
       "            background-color:  #93b5fe;\n",
       "            color:  #000000;\n",
       "        }#T_de562_row4_col8{\n",
       "            background-color:  #a9c6fd;\n",
       "            color:  #000000;\n",
       "        }#T_de562_row4_col9{\n",
       "            background-color:  #80a3fa;\n",
       "            color:  #000000;\n",
       "        }#T_de562_row4_col10{\n",
       "            background-color:  #d4dbe6;\n",
       "            color:  #000000;\n",
       "        }#T_de562_row5_col3{\n",
       "            background-color:  #9abbff;\n",
       "            color:  #000000;\n",
       "        }#T_de562_row5_col4,#T_de562_row8_col3{\n",
       "            background-color:  #a6c4fe;\n",
       "            color:  #000000;\n",
       "        }#T_de562_row5_col7,#T_de562_row9_col7{\n",
       "            background-color:  #5673e0;\n",
       "            color:  #000000;\n",
       "        }#T_de562_row5_col8,#T_de562_row8_col5{\n",
       "            background-color:  #c6d6f1;\n",
       "            color:  #000000;\n",
       "        }#T_de562_row5_col9{\n",
       "            background-color:  #8badfd;\n",
       "            color:  #000000;\n",
       "        }#T_de562_row5_col10{\n",
       "            background-color:  #cfdaea;\n",
       "            color:  #000000;\n",
       "        }#T_de562_row6_col2{\n",
       "            background-color:  #4c66d6;\n",
       "            color:  #000000;\n",
       "        }#T_de562_row6_col3{\n",
       "            background-color:  #6788ee;\n",
       "            color:  #000000;\n",
       "        }#T_de562_row6_col5{\n",
       "            background-color:  #5470de;\n",
       "            color:  #000000;\n",
       "        }#T_de562_row6_col9{\n",
       "            background-color:  #7a9df8;\n",
       "            color:  #000000;\n",
       "        }#T_de562_row7_col1{\n",
       "            background-color:  #506bda;\n",
       "            color:  #000000;\n",
       "        }#T_de562_row7_col6{\n",
       "            background-color:  #6180e9;\n",
       "            color:  #000000;\n",
       "        }#T_de562_row7_col9{\n",
       "            background-color:  #445acc;\n",
       "            color:  #f1f1f1;\n",
       "        }#T_de562_row8_col0{\n",
       "            background-color:  #6485ec;\n",
       "            color:  #000000;\n",
       "        }#T_de562_row8_col6{\n",
       "            background-color:  #82a6fb;\n",
       "            color:  #000000;\n",
       "        }#T_de562_row8_col10{\n",
       "            background-color:  #dcdddd;\n",
       "            color:  #000000;\n",
       "        }#T_de562_row9_col3{\n",
       "            background-color:  #7da0f9;\n",
       "            color:  #000000;\n",
       "        }#T_de562_row9_col6{\n",
       "            background-color:  #98b9ff;\n",
       "            color:  #000000;\n",
       "        }#T_de562_row9_col8{\n",
       "            background-color:  #7b9ff9;\n",
       "            color:  #000000;\n",
       "        }#T_de562_row9_col10{\n",
       "            background-color:  #a3c2fe;\n",
       "            color:  #000000;\n",
       "        }#T_de562_row10_col1{\n",
       "            background-color:  #c5d6f2;\n",
       "            color:  #000000;\n",
       "        }#T_de562_row10_col2{\n",
       "            background-color:  #e8d6cc;\n",
       "            color:  #000000;\n",
       "        }#T_de562_row10_col3{\n",
       "            background-color:  #efcebd;\n",
       "            color:  #000000;\n",
       "        }#T_de562_row10_col4{\n",
       "            background-color:  #f2cbb7;\n",
       "            color:  #000000;\n",
       "        }#T_de562_row10_col5{\n",
       "            background-color:  #f0cdbb;\n",
       "            color:  #000000;\n",
       "        }#T_de562_row10_col6{\n",
       "            background-color:  #d7dce3;\n",
       "            color:  #000000;\n",
       "        }#T_de562_row10_col7{\n",
       "            background-color:  #a5c3fe;\n",
       "            color:  #000000;\n",
       "        }#T_de562_row10_col8{\n",
       "            background-color:  #f4c5ad;\n",
       "            color:  #000000;\n",
       "        }#T_de562_row10_col9{\n",
       "            background-color:  #dddcdc;\n",
       "            color:  #000000;\n",
       "        }</style><table id=\"T_de562_\" ><thead>    <tr>        <th class=\"blank level0\" ></th>        <th class=\"col_heading level0 col0\" >A1_Score</th>        <th class=\"col_heading level0 col1\" >A2_Score</th>        <th class=\"col_heading level0 col2\" >A3_Score</th>        <th class=\"col_heading level0 col3\" >A4_Score</th>        <th class=\"col_heading level0 col4\" >A5_Score</th>        <th class=\"col_heading level0 col5\" >A6_Score</th>        <th class=\"col_heading level0 col6\" >A7_Score</th>        <th class=\"col_heading level0 col7\" >A8_Score</th>        <th class=\"col_heading level0 col8\" >A9_Score</th>        <th class=\"col_heading level0 col9\" >A10_Score</th>        <th class=\"col_heading level0 col10\" >result</th>    </tr></thead><tbody>\n",
       "                <tr>\n",
       "                        <th id=\"T_de562_level0_row0\" class=\"row_heading level0 row0\" >A1_Score</th>\n",
       "                        <td id=\"T_de562_row0_col0\" class=\"data row0 col0\" >1.000000</td>\n",
       "                        <td id=\"T_de562_row0_col1\" class=\"data row0 col1\" >0.011539</td>\n",
       "                        <td id=\"T_de562_row0_col2\" class=\"data row0 col2\" >0.074096</td>\n",
       "                        <td id=\"T_de562_row0_col3\" class=\"data row0 col3\" >0.127814</td>\n",
       "                        <td id=\"T_de562_row0_col4\" class=\"data row0 col4\" >0.169369</td>\n",
       "                        <td id=\"T_de562_row0_col5\" class=\"data row0 col5\" >0.110199</td>\n",
       "                        <td id=\"T_de562_row0_col6\" class=\"data row0 col6\" >0.217538</td>\n",
       "                        <td id=\"T_de562_row0_col7\" class=\"data row0 col7\" >0.147640</td>\n",
       "                        <td id=\"T_de562_row0_col8\" class=\"data row0 col8\" >0.145452</td>\n",
       "                        <td id=\"T_de562_row0_col9\" class=\"data row0 col9\" >0.118413</td>\n",
       "                        <td id=\"T_de562_row0_col10\" class=\"data row0 col10\" >0.397454</td>\n",
       "            </tr>\n",
       "            <tr>\n",
       "                        <th id=\"T_de562_level0_row1\" class=\"row_heading level0 row1\" >A2_Score</th>\n",
       "                        <td id=\"T_de562_row1_col0\" class=\"data row1 col0\" >0.011539</td>\n",
       "                        <td id=\"T_de562_row1_col1\" class=\"data row1 col1\" >1.000000</td>\n",
       "                        <td id=\"T_de562_row1_col2\" class=\"data row1 col2\" >0.223921</td>\n",
       "                        <td id=\"T_de562_row1_col3\" class=\"data row1 col3\" >0.158998</td>\n",
       "                        <td id=\"T_de562_row1_col4\" class=\"data row1 col4\" >0.153821</td>\n",
       "                        <td id=\"T_de562_row1_col5\" class=\"data row1 col5\" >0.185864</td>\n",
       "                        <td id=\"T_de562_row1_col6\" class=\"data row1 col6\" >-0.041768</td>\n",
       "                        <td id=\"T_de562_row1_col7\" class=\"data row1 col7\" >0.035408</td>\n",
       "                        <td id=\"T_de562_row1_col8\" class=\"data row1 col8\" >0.205421</td>\n",
       "                        <td id=\"T_de562_row1_col9\" class=\"data row1 col9\" >0.068883</td>\n",
       "                        <td id=\"T_de562_row1_col10\" class=\"data row1 col10\" >0.392540</td>\n",
       "            </tr>\n",
       "            <tr>\n",
       "                        <th id=\"T_de562_level0_row2\" class=\"row_heading level0 row2\" >A3_Score</th>\n",
       "                        <td id=\"T_de562_row2_col0\" class=\"data row2 col0\" >0.074096</td>\n",
       "                        <td id=\"T_de562_row2_col1\" class=\"data row2 col1\" >0.223921</td>\n",
       "                        <td id=\"T_de562_row2_col2\" class=\"data row2 col2\" >1.000000</td>\n",
       "                        <td id=\"T_de562_row2_col3\" class=\"data row2 col3\" >0.412722</td>\n",
       "                        <td id=\"T_de562_row2_col4\" class=\"data row2 col4\" >0.264927</td>\n",
       "                        <td id=\"T_de562_row2_col5\" class=\"data row2 col5\" >0.268846</td>\n",
       "                        <td id=\"T_de562_row2_col6\" class=\"data row2 col6\" >0.078216</td>\n",
       "                        <td id=\"T_de562_row2_col7\" class=\"data row2 col7\" >0.017771</td>\n",
       "                        <td id=\"T_de562_row2_col8\" class=\"data row2 col8\" >0.315113</td>\n",
       "                        <td id=\"T_de562_row2_col9\" class=\"data row2 col9\" >0.168454</td>\n",
       "                        <td id=\"T_de562_row2_col10\" class=\"data row2 col10\" >0.552356</td>\n",
       "            </tr>\n",
       "            <tr>\n",
       "                        <th id=\"T_de562_level0_row3\" class=\"row_heading level0 row3\" >A4_Score</th>\n",
       "                        <td id=\"T_de562_row3_col0\" class=\"data row3 col0\" >0.127814</td>\n",
       "                        <td id=\"T_de562_row3_col1\" class=\"data row3 col1\" >0.158998</td>\n",
       "                        <td id=\"T_de562_row3_col2\" class=\"data row3 col2\" >0.412722</td>\n",
       "                        <td id=\"T_de562_row3_col3\" class=\"data row3 col3\" >1.000000</td>\n",
       "                        <td id=\"T_de562_row3_col4\" class=\"data row3 col4\" >0.306806</td>\n",
       "                        <td id=\"T_de562_row3_col5\" class=\"data row3 col5\" >0.295152</td>\n",
       "                        <td id=\"T_de562_row3_col6\" class=\"data row3 col6\" >0.151236</td>\n",
       "                        <td id=\"T_de562_row3_col7\" class=\"data row3 col7\" >0.008617</td>\n",
       "                        <td id=\"T_de562_row3_col8\" class=\"data row3 col8\" >0.327673</td>\n",
       "                        <td id=\"T_de562_row3_col9\" class=\"data row3 col9\" >0.210968</td>\n",
       "                        <td id=\"T_de562_row3_col10\" class=\"data row3 col10\" >0.586025</td>\n",
       "            </tr>\n",
       "            <tr>\n",
       "                        <th id=\"T_de562_level0_row4\" class=\"row_heading level0 row4\" >A5_Score</th>\n",
       "                        <td id=\"T_de562_row4_col0\" class=\"data row4 col0\" >0.169369</td>\n",
       "                        <td id=\"T_de562_row4_col1\" class=\"data row4 col1\" >0.153821</td>\n",
       "                        <td id=\"T_de562_row4_col2\" class=\"data row4 col2\" >0.264927</td>\n",
       "                        <td id=\"T_de562_row4_col3\" class=\"data row4 col3\" >0.306806</td>\n",
       "                        <td id=\"T_de562_row4_col4\" class=\"data row4 col4\" >1.000000</td>\n",
       "                        <td id=\"T_de562_row4_col5\" class=\"data row4 col5\" >0.392354</td>\n",
       "                        <td id=\"T_de562_row4_col6\" class=\"data row4 col6\" >0.238589</td>\n",
       "                        <td id=\"T_de562_row4_col7\" class=\"data row4 col7\" >0.102086</td>\n",
       "                        <td id=\"T_de562_row4_col8\" class=\"data row4 col8\" >0.396582</td>\n",
       "                        <td id=\"T_de562_row4_col9\" class=\"data row4 col9\" >0.267561</td>\n",
       "                        <td id=\"T_de562_row4_col10\" class=\"data row4 col10\" >0.639706</td>\n",
       "            </tr>\n",
       "            <tr>\n",
       "                        <th id=\"T_de562_level0_row5\" class=\"row_heading level0 row5\" >A6_Score</th>\n",
       "                        <td id=\"T_de562_row5_col0\" class=\"data row5 col0\" >0.110199</td>\n",
       "                        <td id=\"T_de562_row5_col1\" class=\"data row5 col1\" >0.185864</td>\n",
       "                        <td id=\"T_de562_row5_col2\" class=\"data row5 col2\" >0.268846</td>\n",
       "                        <td id=\"T_de562_row5_col3\" class=\"data row5 col3\" >0.295152</td>\n",
       "                        <td id=\"T_de562_row5_col4\" class=\"data row5 col4\" >0.392354</td>\n",
       "                        <td id=\"T_de562_row5_col5\" class=\"data row5 col5\" >1.000000</td>\n",
       "                        <td id=\"T_de562_row5_col6\" class=\"data row5 col6\" >0.175489</td>\n",
       "                        <td id=\"T_de562_row5_col7\" class=\"data row5 col7\" >0.100123</td>\n",
       "                        <td id=\"T_de562_row5_col8\" class=\"data row5 col8\" >0.479422</td>\n",
       "                        <td id=\"T_de562_row5_col9\" class=\"data row5 col9\" >0.294435</td>\n",
       "                        <td id=\"T_de562_row5_col10\" class=\"data row5 col10\" >0.630012</td>\n",
       "            </tr>\n",
       "            <tr>\n",
       "                        <th id=\"T_de562_level0_row6\" class=\"row_heading level0 row6\" >A7_Score</th>\n",
       "                        <td id=\"T_de562_row6_col0\" class=\"data row6 col0\" >0.217538</td>\n",
       "                        <td id=\"T_de562_row6_col1\" class=\"data row6 col1\" >-0.041768</td>\n",
       "                        <td id=\"T_de562_row6_col2\" class=\"data row6 col2\" >0.078216</td>\n",
       "                        <td id=\"T_de562_row6_col3\" class=\"data row6 col3\" >0.151236</td>\n",
       "                        <td id=\"T_de562_row6_col4\" class=\"data row6 col4\" >0.238589</td>\n",
       "                        <td id=\"T_de562_row6_col5\" class=\"data row6 col5\" >0.175489</td>\n",
       "                        <td id=\"T_de562_row6_col6\" class=\"data row6 col6\" >1.000000</td>\n",
       "                        <td id=\"T_de562_row6_col7\" class=\"data row6 col7\" >0.085403</td>\n",
       "                        <td id=\"T_de562_row6_col8\" class=\"data row6 col8\" >0.189480</td>\n",
       "                        <td id=\"T_de562_row6_col9\" class=\"data row6 col9\" >0.252107</td>\n",
       "                        <td id=\"T_de562_row6_col10\" class=\"data row6 col10\" >0.454848</td>\n",
       "            </tr>\n",
       "            <tr>\n",
       "                        <th id=\"T_de562_level0_row7\" class=\"row_heading level0 row7\" >A8_Score</th>\n",
       "                        <td id=\"T_de562_row7_col0\" class=\"data row7 col0\" >0.147640</td>\n",
       "                        <td id=\"T_de562_row7_col1\" class=\"data row7 col1\" >0.035408</td>\n",
       "                        <td id=\"T_de562_row7_col2\" class=\"data row7 col2\" >0.017771</td>\n",
       "                        <td id=\"T_de562_row7_col3\" class=\"data row7 col3\" >0.008617</td>\n",
       "                        <td id=\"T_de562_row7_col4\" class=\"data row7 col4\" >0.102086</td>\n",
       "                        <td id=\"T_de562_row7_col5\" class=\"data row7 col5\" >0.100123</td>\n",
       "                        <td id=\"T_de562_row7_col6\" class=\"data row7 col6\" >0.085403</td>\n",
       "                        <td id=\"T_de562_row7_col7\" class=\"data row7 col7\" >1.000000</td>\n",
       "                        <td id=\"T_de562_row7_col8\" class=\"data row7 col8\" >0.101733</td>\n",
       "                        <td id=\"T_de562_row7_col9\" class=\"data row7 col9\" >0.100782</td>\n",
       "                        <td id=\"T_de562_row7_col10\" class=\"data row7 col10\" >0.324020</td>\n",
       "            </tr>\n",
       "            <tr>\n",
       "                        <th id=\"T_de562_level0_row8\" class=\"row_heading level0 row8\" >A9_Score</th>\n",
       "                        <td id=\"T_de562_row8_col0\" class=\"data row8 col0\" >0.145452</td>\n",
       "                        <td id=\"T_de562_row8_col1\" class=\"data row8 col1\" >0.205421</td>\n",
       "                        <td id=\"T_de562_row8_col2\" class=\"data row8 col2\" >0.315113</td>\n",
       "                        <td id=\"T_de562_row8_col3\" class=\"data row8 col3\" >0.327673</td>\n",
       "                        <td id=\"T_de562_row8_col4\" class=\"data row8 col4\" >0.396582</td>\n",
       "                        <td id=\"T_de562_row8_col5\" class=\"data row8 col5\" >0.479422</td>\n",
       "                        <td id=\"T_de562_row8_col6\" class=\"data row8 col6\" >0.189480</td>\n",
       "                        <td id=\"T_de562_row8_col7\" class=\"data row8 col7\" >0.101733</td>\n",
       "                        <td id=\"T_de562_row8_col8\" class=\"data row8 col8\" >1.000000</td>\n",
       "                        <td id=\"T_de562_row8_col9\" class=\"data row8 col9\" >0.283340</td>\n",
       "                        <td id=\"T_de562_row8_col10\" class=\"data row8 col10\" >0.661205</td>\n",
       "            </tr>\n",
       "            <tr>\n",
       "                        <th id=\"T_de562_level0_row9\" class=\"row_heading level0 row9\" >A10_Score</th>\n",
       "                        <td id=\"T_de562_row9_col0\" class=\"data row9 col0\" >0.118413</td>\n",
       "                        <td id=\"T_de562_row9_col1\" class=\"data row9 col1\" >0.068883</td>\n",
       "                        <td id=\"T_de562_row9_col2\" class=\"data row9 col2\" >0.168454</td>\n",
       "                        <td id=\"T_de562_row9_col3\" class=\"data row9 col3\" >0.210968</td>\n",
       "                        <td id=\"T_de562_row9_col4\" class=\"data row9 col4\" >0.267561</td>\n",
       "                        <td id=\"T_de562_row9_col5\" class=\"data row9 col5\" >0.294435</td>\n",
       "                        <td id=\"T_de562_row9_col6\" class=\"data row9 col6\" >0.252107</td>\n",
       "                        <td id=\"T_de562_row9_col7\" class=\"data row9 col7\" >0.100782</td>\n",
       "                        <td id=\"T_de562_row9_col8\" class=\"data row9 col8\" >0.283340</td>\n",
       "                        <td id=\"T_de562_row9_col9\" class=\"data row9 col9\" >1.000000</td>\n",
       "                        <td id=\"T_de562_row9_col10\" class=\"data row9 col10\" >0.537205</td>\n",
       "            </tr>\n",
       "            <tr>\n",
       "                        <th id=\"T_de562_level0_row10\" class=\"row_heading level0 row10\" >result</th>\n",
       "                        <td id=\"T_de562_row10_col0\" class=\"data row10 col0\" >0.397454</td>\n",
       "                        <td id=\"T_de562_row10_col1\" class=\"data row10 col1\" >0.392540</td>\n",
       "                        <td id=\"T_de562_row10_col2\" class=\"data row10 col2\" >0.552356</td>\n",
       "                        <td id=\"T_de562_row10_col3\" class=\"data row10 col3\" >0.586025</td>\n",
       "                        <td id=\"T_de562_row10_col4\" class=\"data row10 col4\" >0.639706</td>\n",
       "                        <td id=\"T_de562_row10_col5\" class=\"data row10 col5\" >0.630012</td>\n",
       "                        <td id=\"T_de562_row10_col6\" class=\"data row10 col6\" >0.454848</td>\n",
       "                        <td id=\"T_de562_row10_col7\" class=\"data row10 col7\" >0.324020</td>\n",
       "                        <td id=\"T_de562_row10_col8\" class=\"data row10 col8\" >0.661205</td>\n",
       "                        <td id=\"T_de562_row10_col9\" class=\"data row10 col9\" >0.537205</td>\n",
       "                        <td id=\"T_de562_row10_col10\" class=\"data row10 col10\" >1.000000</td>\n",
       "            </tr>\n",
       "    </tbody></table>"
      ],
      "text/plain": [
       "<pandas.io.formats.style.Styler at 0x2686b3318e0>"
      ]
     },
     "execution_count": 8,
     "metadata": {},
     "output_type": "execute_result"
    }
   ],
   "source": [
    "corr = df.corr()\n",
    "corr.style.background_gradient(cmap='coolwarm')"
   ]
  },
  {
   "cell_type": "markdown",
   "id": "27b62a83",
   "metadata": {},
   "source": [
    "- D'apres notre matrice de correlation, nous constatons une forte correlation entre les colonnes A1_Score, A2_Score, A3_Score, A4_Score, A5_Score et la variable result ce qui explique une relation determinant entre ces variables.  "
   ]
  },
  {
   "cell_type": "code",
   "execution_count": 9,
   "id": "f9fd693e",
   "metadata": {},
   "outputs": [
    {
     "data": {
      "text/html": [
       "<div>\n",
       "<style scoped>\n",
       "    .dataframe tbody tr th:only-of-type {\n",
       "        vertical-align: middle;\n",
       "    }\n",
       "\n",
       "    .dataframe tbody tr th {\n",
       "        vertical-align: top;\n",
       "    }\n",
       "\n",
       "    .dataframe thead th {\n",
       "        text-align: right;\n",
       "    }\n",
       "</style>\n",
       "<table border=\"1\" class=\"dataframe\">\n",
       "  <thead>\n",
       "    <tr style=\"text-align: right;\">\n",
       "      <th></th>\n",
       "      <th>A1_Score</th>\n",
       "      <th>A2_Score</th>\n",
       "      <th>A3_Score</th>\n",
       "      <th>A4_Score</th>\n",
       "      <th>A5_Score</th>\n",
       "      <th>A6_Score</th>\n",
       "      <th>A7_Score</th>\n",
       "      <th>A8_Score</th>\n",
       "      <th>A9_Score</th>\n",
       "      <th>A10_Score</th>\n",
       "      <th>...</th>\n",
       "      <th>gender</th>\n",
       "      <th>ethnicity</th>\n",
       "      <th>jundice</th>\n",
       "      <th>austim</th>\n",
       "      <th>contry_of_res</th>\n",
       "      <th>used_app_before</th>\n",
       "      <th>result</th>\n",
       "      <th>age_desc</th>\n",
       "      <th>relation</th>\n",
       "      <th>Class/ASD</th>\n",
       "    </tr>\n",
       "  </thead>\n",
       "  <tbody>\n",
       "    <tr>\n",
       "      <th>1</th>\n",
       "      <td>1</td>\n",
       "      <td>1</td>\n",
       "      <td>0</td>\n",
       "      <td>1</td>\n",
       "      <td>0</td>\n",
       "      <td>0</td>\n",
       "      <td>0</td>\n",
       "      <td>1</td>\n",
       "      <td>0</td>\n",
       "      <td>1</td>\n",
       "      <td>...</td>\n",
       "      <td>m</td>\n",
       "      <td>Latino</td>\n",
       "      <td>no</td>\n",
       "      <td>yes</td>\n",
       "      <td>Brazil</td>\n",
       "      <td>no</td>\n",
       "      <td>5</td>\n",
       "      <td>'18 and more'</td>\n",
       "      <td>Self</td>\n",
       "      <td>NO</td>\n",
       "    </tr>\n",
       "    <tr>\n",
       "      <th>2</th>\n",
       "      <td>1</td>\n",
       "      <td>1</td>\n",
       "      <td>0</td>\n",
       "      <td>1</td>\n",
       "      <td>1</td>\n",
       "      <td>0</td>\n",
       "      <td>1</td>\n",
       "      <td>1</td>\n",
       "      <td>1</td>\n",
       "      <td>1</td>\n",
       "      <td>...</td>\n",
       "      <td>m</td>\n",
       "      <td>Latino</td>\n",
       "      <td>yes</td>\n",
       "      <td>yes</td>\n",
       "      <td>Spain</td>\n",
       "      <td>no</td>\n",
       "      <td>8</td>\n",
       "      <td>'18 and more'</td>\n",
       "      <td>Parent</td>\n",
       "      <td>YES</td>\n",
       "    </tr>\n",
       "    <tr>\n",
       "      <th>5</th>\n",
       "      <td>1</td>\n",
       "      <td>1</td>\n",
       "      <td>1</td>\n",
       "      <td>1</td>\n",
       "      <td>1</td>\n",
       "      <td>0</td>\n",
       "      <td>1</td>\n",
       "      <td>1</td>\n",
       "      <td>1</td>\n",
       "      <td>1</td>\n",
       "      <td>...</td>\n",
       "      <td>m</td>\n",
       "      <td>Others</td>\n",
       "      <td>yes</td>\n",
       "      <td>no</td>\n",
       "      <td>'United States'</td>\n",
       "      <td>no</td>\n",
       "      <td>9</td>\n",
       "      <td>'18 and more'</td>\n",
       "      <td>Self</td>\n",
       "      <td>YES</td>\n",
       "    </tr>\n",
       "    <tr>\n",
       "      <th>7</th>\n",
       "      <td>1</td>\n",
       "      <td>1</td>\n",
       "      <td>1</td>\n",
       "      <td>1</td>\n",
       "      <td>0</td>\n",
       "      <td>0</td>\n",
       "      <td>0</td>\n",
       "      <td>0</td>\n",
       "      <td>1</td>\n",
       "      <td>0</td>\n",
       "      <td>...</td>\n",
       "      <td>m</td>\n",
       "      <td>White-European</td>\n",
       "      <td>no</td>\n",
       "      <td>no</td>\n",
       "      <td>'New Zealand'</td>\n",
       "      <td>no</td>\n",
       "      <td>5</td>\n",
       "      <td>'18 and more'</td>\n",
       "      <td>Parent</td>\n",
       "      <td>NO</td>\n",
       "    </tr>\n",
       "    <tr>\n",
       "      <th>8</th>\n",
       "      <td>1</td>\n",
       "      <td>1</td>\n",
       "      <td>0</td>\n",
       "      <td>0</td>\n",
       "      <td>1</td>\n",
       "      <td>0</td>\n",
       "      <td>0</td>\n",
       "      <td>1</td>\n",
       "      <td>1</td>\n",
       "      <td>1</td>\n",
       "      <td>...</td>\n",
       "      <td>m</td>\n",
       "      <td>White-European</td>\n",
       "      <td>no</td>\n",
       "      <td>no</td>\n",
       "      <td>'United States'</td>\n",
       "      <td>no</td>\n",
       "      <td>6</td>\n",
       "      <td>'18 and more'</td>\n",
       "      <td>Self</td>\n",
       "      <td>NO</td>\n",
       "    </tr>\n",
       "    <tr>\n",
       "      <th>...</th>\n",
       "      <td>...</td>\n",
       "      <td>...</td>\n",
       "      <td>...</td>\n",
       "      <td>...</td>\n",
       "      <td>...</td>\n",
       "      <td>...</td>\n",
       "      <td>...</td>\n",
       "      <td>...</td>\n",
       "      <td>...</td>\n",
       "      <td>...</td>\n",
       "      <td>...</td>\n",
       "      <td>...</td>\n",
       "      <td>...</td>\n",
       "      <td>...</td>\n",
       "      <td>...</td>\n",
       "      <td>...</td>\n",
       "      <td>...</td>\n",
       "      <td>...</td>\n",
       "      <td>...</td>\n",
       "      <td>...</td>\n",
       "      <td>...</td>\n",
       "    </tr>\n",
       "    <tr>\n",
       "      <th>694</th>\n",
       "      <td>1</td>\n",
       "      <td>1</td>\n",
       "      <td>1</td>\n",
       "      <td>1</td>\n",
       "      <td>1</td>\n",
       "      <td>0</td>\n",
       "      <td>0</td>\n",
       "      <td>1</td>\n",
       "      <td>0</td>\n",
       "      <td>1</td>\n",
       "      <td>...</td>\n",
       "      <td>m</td>\n",
       "      <td>White-European</td>\n",
       "      <td>yes</td>\n",
       "      <td>no</td>\n",
       "      <td>'United States'</td>\n",
       "      <td>no</td>\n",
       "      <td>7</td>\n",
       "      <td>'18 and more'</td>\n",
       "      <td>Self</td>\n",
       "      <td>YES</td>\n",
       "    </tr>\n",
       "    <tr>\n",
       "      <th>695</th>\n",
       "      <td>1</td>\n",
       "      <td>0</td>\n",
       "      <td>1</td>\n",
       "      <td>1</td>\n",
       "      <td>0</td>\n",
       "      <td>0</td>\n",
       "      <td>1</td>\n",
       "      <td>1</td>\n",
       "      <td>0</td>\n",
       "      <td>0</td>\n",
       "      <td>...</td>\n",
       "      <td>m</td>\n",
       "      <td>Latino</td>\n",
       "      <td>no</td>\n",
       "      <td>no</td>\n",
       "      <td>Brazil</td>\n",
       "      <td>yes</td>\n",
       "      <td>5</td>\n",
       "      <td>'18 and more'</td>\n",
       "      <td>Parent</td>\n",
       "      <td>NO</td>\n",
       "    </tr>\n",
       "    <tr>\n",
       "      <th>696</th>\n",
       "      <td>1</td>\n",
       "      <td>1</td>\n",
       "      <td>1</td>\n",
       "      <td>1</td>\n",
       "      <td>1</td>\n",
       "      <td>1</td>\n",
       "      <td>0</td>\n",
       "      <td>1</td>\n",
       "      <td>1</td>\n",
       "      <td>1</td>\n",
       "      <td>...</td>\n",
       "      <td>m</td>\n",
       "      <td>Turkish</td>\n",
       "      <td>no</td>\n",
       "      <td>yes</td>\n",
       "      <td>Australia</td>\n",
       "      <td>no</td>\n",
       "      <td>9</td>\n",
       "      <td>'18 and more'</td>\n",
       "      <td>Self</td>\n",
       "      <td>YES</td>\n",
       "    </tr>\n",
       "    <tr>\n",
       "      <th>700</th>\n",
       "      <td>1</td>\n",
       "      <td>0</td>\n",
       "      <td>0</td>\n",
       "      <td>0</td>\n",
       "      <td>0</td>\n",
       "      <td>0</td>\n",
       "      <td>0</td>\n",
       "      <td>1</td>\n",
       "      <td>0</td>\n",
       "      <td>1</td>\n",
       "      <td>...</td>\n",
       "      <td>m</td>\n",
       "      <td>Hispanic</td>\n",
       "      <td>no</td>\n",
       "      <td>no</td>\n",
       "      <td>Mexico</td>\n",
       "      <td>no</td>\n",
       "      <td>3</td>\n",
       "      <td>'18 and more'</td>\n",
       "      <td>Parent</td>\n",
       "      <td>NO</td>\n",
       "    </tr>\n",
       "    <tr>\n",
       "      <th>702</th>\n",
       "      <td>1</td>\n",
       "      <td>0</td>\n",
       "      <td>0</td>\n",
       "      <td>1</td>\n",
       "      <td>1</td>\n",
       "      <td>0</td>\n",
       "      <td>1</td>\n",
       "      <td>0</td>\n",
       "      <td>1</td>\n",
       "      <td>1</td>\n",
       "      <td>...</td>\n",
       "      <td>m</td>\n",
       "      <td>'South Asian'</td>\n",
       "      <td>no</td>\n",
       "      <td>no</td>\n",
       "      <td>Pakistan</td>\n",
       "      <td>no</td>\n",
       "      <td>6</td>\n",
       "      <td>'18 and more'</td>\n",
       "      <td>Self</td>\n",
       "      <td>NO</td>\n",
       "    </tr>\n",
       "  </tbody>\n",
       "</table>\n",
       "<p>367 rows × 21 columns</p>\n",
       "</div>"
      ],
      "text/plain": [
       "     A1_Score  A2_Score  A3_Score  A4_Score  A5_Score  A6_Score  A7_Score  \\\n",
       "1           1         1         0         1         0         0         0   \n",
       "2           1         1         0         1         1         0         1   \n",
       "5           1         1         1         1         1         0         1   \n",
       "7           1         1         1         1         0         0         0   \n",
       "8           1         1         0         0         1         0         0   \n",
       "..        ...       ...       ...       ...       ...       ...       ...   \n",
       "694         1         1         1         1         1         0         0   \n",
       "695         1         0         1         1         0         0         1   \n",
       "696         1         1         1         1         1         1         0   \n",
       "700         1         0         0         0         0         0         0   \n",
       "702         1         0         0         1         1         0         1   \n",
       "\n",
       "     A8_Score  A9_Score  A10_Score  ... gender       ethnicity jundice austim  \\\n",
       "1           1         0          1  ...      m          Latino      no    yes   \n",
       "2           1         1          1  ...      m          Latino     yes    yes   \n",
       "5           1         1          1  ...      m          Others     yes     no   \n",
       "7           0         1          0  ...      m  White-European      no     no   \n",
       "8           1         1          1  ...      m  White-European      no     no   \n",
       "..        ...       ...        ...  ...    ...             ...     ...    ...   \n",
       "694         1         0          1  ...      m  White-European     yes     no   \n",
       "695         1         0          0  ...      m          Latino      no     no   \n",
       "696         1         1          1  ...      m         Turkish      no    yes   \n",
       "700         1         0          1  ...      m        Hispanic      no     no   \n",
       "702         0         1          1  ...      m   'South Asian'      no     no   \n",
       "\n",
       "       contry_of_res used_app_before result       age_desc relation Class/ASD  \n",
       "1             Brazil              no      5  '18 and more'     Self        NO  \n",
       "2              Spain              no      8  '18 and more'   Parent       YES  \n",
       "5    'United States'              no      9  '18 and more'     Self       YES  \n",
       "7      'New Zealand'              no      5  '18 and more'   Parent        NO  \n",
       "8    'United States'              no      6  '18 and more'     Self        NO  \n",
       "..               ...             ...    ...            ...      ...       ...  \n",
       "694  'United States'              no      7  '18 and more'     Self       YES  \n",
       "695           Brazil             yes      5  '18 and more'   Parent        NO  \n",
       "696        Australia              no      9  '18 and more'     Self       YES  \n",
       "700           Mexico              no      3  '18 and more'   Parent        NO  \n",
       "702         Pakistan              no      6  '18 and more'     Self        NO  \n",
       "\n",
       "[367 rows x 21 columns]"
      ]
     },
     "execution_count": 9,
     "metadata": {},
     "output_type": "execute_result"
    }
   ],
   "source": [
    "Male_Filters = df[\"gender\"] == \"m\"\n",
    "df[Male_Filters]"
   ]
  },
  {
   "cell_type": "code",
   "execution_count": 10,
   "id": "f92473ea",
   "metadata": {},
   "outputs": [
    {
     "data": {
      "text/plain": [
       "m    0.521307\n",
       "f    0.478693\n",
       "Name: gender, dtype: float64"
      ]
     },
     "execution_count": 10,
     "metadata": {},
     "output_type": "execute_result"
    }
   ],
   "source": [
    "df[\"gender\"].value_counts(normalize=True)"
   ]
  },
  {
   "cell_type": "markdown",
   "id": "e0660413",
   "metadata": {},
   "source": [
    "- Aprés avoir filtrer notre jeu de données, nous constatons que qu'il y'a 367 hommes qui ont effectué le diagnostique de la maladie d'Autistic sur 337 femmes.\n",
    "- Autrement dit nous avons 52.13% d'hommes et 47.86% de femmes dans notre jeu de données"
   ]
  },
  {
   "cell_type": "code",
   "execution_count": 11,
   "id": "c476f341",
   "metadata": {},
   "outputs": [
    {
     "data": {
      "text/plain": [
       "count    704.000000\n",
       "mean       4.875000\n",
       "std        2.501493\n",
       "min        0.000000\n",
       "25%        3.000000\n",
       "50%        4.000000\n",
       "75%        7.000000\n",
       "max       10.000000\n",
       "Name: result, dtype: float64"
      ]
     },
     "execution_count": 11,
     "metadata": {},
     "output_type": "execute_result"
    }
   ],
   "source": [
    "df[\"result\"].describe()"
   ]
  },
  {
   "cell_type": "markdown",
   "id": "8e5ce2e9",
   "metadata": {},
   "source": [
    "Avec les resultats obtenus des diagnostiques des patients nous toutes les resultas sont renseignés (704) la moyenne des resultats est 4.875000, le min 0 et un max de 10. Pour les quartiles : 25 % des patients ont des resultats en moyenne de 3.0, 50 % des patients ont une valeur moyenne de leur resultats à 4.0 et 75 % d'entre eux ont la valeur moyenne de leur resultats est de 7.  "
   ]
  },
  {
   "cell_type": "code",
   "execution_count": 12,
   "id": "65654d0d",
   "metadata": {
    "scrolled": true
   },
   "outputs": [
    {
     "data": {
      "text/plain": [
       "[\"'United States'\",\n",
       " 'Brazil',\n",
       " 'Spain',\n",
       " 'Egypt',\n",
       " \"'New Zealand'\",\n",
       " 'Bahamas',\n",
       " 'Burundi',\n",
       " 'Austria',\n",
       " 'Argentina',\n",
       " 'Jordan',\n",
       " 'Ireland',\n",
       " \"'United Arab Emirates'\",\n",
       " 'Afghanistan',\n",
       " 'Lebanon',\n",
       " \"'United Kingdom'\",\n",
       " \"'South Africa'\",\n",
       " 'Italy',\n",
       " 'Pakistan',\n",
       " 'Bangladesh',\n",
       " 'Chile',\n",
       " 'France',\n",
       " 'China',\n",
       " 'Australia',\n",
       " 'Canada',\n",
       " \"'Saudi Arabia'\",\n",
       " 'Netherlands',\n",
       " 'Romania',\n",
       " 'Sweden',\n",
       " 'Tonga',\n",
       " 'Oman',\n",
       " 'India',\n",
       " 'Philippines',\n",
       " \"'Sri Lanka'\",\n",
       " \"'Sierra Leone'\",\n",
       " 'Ethiopia',\n",
       " \"'Viet Nam'\",\n",
       " 'Iran',\n",
       " \"'Costa Rica'\",\n",
       " 'Germany',\n",
       " 'Mexico',\n",
       " 'Russia',\n",
       " 'Armenia',\n",
       " 'Iceland',\n",
       " 'Nicaragua',\n",
       " \"'Hong Kong'\",\n",
       " 'Japan',\n",
       " 'Ukraine',\n",
       " 'Kazakhstan',\n",
       " 'AmericanSamoa',\n",
       " 'Uruguay',\n",
       " 'Serbia',\n",
       " 'Portugal',\n",
       " 'Malaysia',\n",
       " 'Ecuador',\n",
       " 'Niger',\n",
       " 'Belgium',\n",
       " 'Bolivia',\n",
       " 'Aruba',\n",
       " 'Finland',\n",
       " 'Turkey',\n",
       " 'Nepal',\n",
       " 'Indonesia',\n",
       " 'Angola',\n",
       " 'Azerbaijan',\n",
       " 'Iraq',\n",
       " \"'Czech Republic'\",\n",
       " 'Cyprus']"
      ]
     },
     "execution_count": 12,
     "metadata": {},
     "output_type": "execute_result"
    }
   ],
   "source": [
    "df[\"contry_of_res\"].unique().tolist()"
   ]
  },
  {
   "cell_type": "markdown",
   "id": "2dd2f509",
   "metadata": {},
   "source": [
    "Dans ce jeu de données nous identifions 67 pays distincts relatifs aux resultats des diagnostique effectués dans ces differents pays."
   ]
  },
  {
   "cell_type": "code",
   "execution_count": 13,
   "id": "3cf88adc",
   "metadata": {},
   "outputs": [
    {
     "data": {
      "text/plain": [
       "'United States'           113\n",
       "'United Arab Emirates'     82\n",
       "India                      81\n",
       "'New Zealand'              81\n",
       "'United Kingdom'           77\n",
       "                         ... \n",
       "'Sierra Leone'              1\n",
       "'Czech Republic'            1\n",
       "Ecuador                     1\n",
       "Burundi                     1\n",
       "China                       1\n",
       "Name: contry_of_res, Length: 67, dtype: int64"
      ]
     },
     "execution_count": 13,
     "metadata": {},
     "output_type": "execute_result"
    }
   ],
   "source": [
    "df[\"contry_of_res\"].value_counts()"
   ]
  },
  {
   "cell_type": "markdown",
   "id": "6da7443d",
   "metadata": {},
   "source": [
    "ici nous constatons qu'on a obtenu 113 resultats provenant des United States, 82 resultats de United Arab Emirates, 81 resultats de l'Inde, 81 pour New Zealand, 77 pour United Kingdom et 1 resultats pour Serbia, Finland, Uruguay,               Angola et la Chine .                    "
   ]
  },
  {
   "cell_type": "code",
   "execution_count": 14,
   "id": "20e27260",
   "metadata": {},
   "outputs": [
    {
     "data": {
      "text/plain": [
       "contry_of_res\n",
       "'Costa Rica'         1\n",
       "'Czech Republic'     1\n",
       "'Hong Kong'          1\n",
       "'New Zealand'       81\n",
       "'Saudi Arabia'       4\n",
       "                    ..\n",
       "Sweden               2\n",
       "Tonga                1\n",
       "Turkey               1\n",
       "Ukraine              2\n",
       "Uruguay              1\n",
       "Name: austim, Length: 67, dtype: int64"
      ]
     },
     "execution_count": 14,
     "metadata": {},
     "output_type": "execute_result"
    }
   ],
   "source": [
    "df.groupby(\"contry_of_res\")[\"austim\"].count()"
   ]
  },
  {
   "cell_type": "markdown",
   "id": "299db2f2",
   "metadata": {},
   "source": [
    "- nous constatons que la majeur partie des patients presentatants de l'austim proviennent de la New Zealand"
   ]
  },
  {
   "cell_type": "markdown",
   "id": "1e20b1c8",
   "metadata": {},
   "source": [
    "## Etude de la distribution des données"
   ]
  },
  {
   "cell_type": "markdown",
   "id": "6a6feab2",
   "metadata": {},
   "source": [
    "### Visualisation des données"
   ]
  },
  {
   "cell_type": "code",
   "execution_count": 15,
   "id": "8ef9109b",
   "metadata": {},
   "outputs": [
    {
     "name": "stderr",
     "output_type": "stream",
     "text": [
      "C:\\Users\\cheri\\anaconda3\\lib\\site-packages\\seaborn\\distributions.py:2557: FutureWarning: `distplot` is a deprecated function and will be removed in a future version. Please adapt your code to use either `displot` (a figure-level function with similar flexibility) or `histplot` (an axes-level function for histograms).\n",
      "  warnings.warn(msg, FutureWarning)\n",
      "C:\\Users\\cheri\\anaconda3\\lib\\site-packages\\seaborn\\distributions.py:2056: FutureWarning: The `axis` variable is no longer used and will be removed. Instead, assign variables directly to `x` or `y`.\n",
      "  warnings.warn(msg, FutureWarning)\n"
     ]
    },
    {
     "data": {
      "text/plain": [
       "<AxesSubplot:xlabel='result', ylabel='Density'>"
      ]
     },
     "execution_count": 15,
     "metadata": {},
     "output_type": "execute_result"
    },
    {
     "data": {
      "image/png": "[encoded data removed]",
      "text/plain": [
       "<Figure size 432x288 with 1 Axes>"
      ]
     },
     "metadata": {
      "needs_background": "light"
     },
     "output_type": "display_data"
    }
   ],
   "source": [
    "sns.distplot(df.result, rug=True, hist=True)"
   ]
  },
  {
   "cell_type": "markdown",
   "id": "f3450dd6",
   "metadata": {},
   "source": [
    "- on constate que la pluspart des individus ont des valeur de result qui tourne autour de la moyenne 4.87"
   ]
  },
  {
   "cell_type": "code",
   "execution_count": 16,
   "id": "0169a84b",
   "metadata": {},
   "outputs": [
    {
     "name": "stderr",
     "output_type": "stream",
     "text": [
      "C:\\Users\\cheri\\anaconda3\\lib\\site-packages\\seaborn\\distributions.py:2557: FutureWarning: `distplot` is a deprecated function and will be removed in a future version. Please adapt your code to use either `displot` (a figure-level function with similar flexibility) or `histplot` (an axes-level function for histograms).\n",
      "  warnings.warn(msg, FutureWarning)\n",
      "C:\\Users\\cheri\\anaconda3\\lib\\site-packages\\seaborn\\distributions.py:2056: FutureWarning: The `axis` variable is no longer used and will be removed. Instead, assign variables directly to `x` or `y`.\n",
      "  warnings.warn(msg, FutureWarning)\n"
     ]
    },
    {
     "data": {
      "text/plain": [
       "<AxesSubplot:xlabel='A1_Score', ylabel='Density'>"
      ]
     },
     "execution_count": 16,
     "metadata": {},
     "output_type": "execute_result"
    },
    {
     "data": {
      "image/png": "[encoded data removed]",
      "text/plain": [
       "<Figure size 432x288 with 1 Axes>"
      ]
     },
     "metadata": {
      "needs_background": "light"
     },
     "output_type": "display_data"
    }
   ],
   "source": [
    "sns.distplot(df.A1_Score, rug=True, hist=True)"
   ]
  },
  {
   "cell_type": "markdown",
   "id": "3508cc61",
   "metadata": {},
   "source": [
    "- ici nous constatons selon la distribution que presque 15% des patients presente un A1_score entre 0 et 0.25 , 35 % entre 0.75 et 1  "
   ]
  },
  {
   "cell_type": "code",
   "execution_count": 17,
   "id": "5adae142",
   "metadata": {
    "scrolled": true
   },
   "outputs": [
    {
     "name": "stderr",
     "output_type": "stream",
     "text": [
      "C:\\Users\\cheri\\anaconda3\\lib\\site-packages\\seaborn\\distributions.py:2557: FutureWarning: `distplot` is a deprecated function and will be removed in a future version. Please adapt your code to use either `displot` (a figure-level function with similar flexibility) or `histplot` (an axes-level function for histograms).\n",
      "  warnings.warn(msg, FutureWarning)\n",
      "C:\\Users\\cheri\\anaconda3\\lib\\site-packages\\seaborn\\distributions.py:2056: FutureWarning: The `axis` variable is no longer used and will be removed. Instead, assign variables directly to `x` or `y`.\n",
      "  warnings.warn(msg, FutureWarning)\n"
     ]
    },
    {
     "data": {
      "text/plain": [
       "<AxesSubplot:xlabel='A2_Score', ylabel='Density'>"
      ]
     },
     "execution_count": 17,
     "metadata": {},
     "output_type": "execute_result"
    },
    {
     "data": {
      "image/png": "[encoded data removed]",
      "text/plain": [
       "<Figure size 432x288 with 1 Axes>"
      ]
     },
     "metadata": {
      "needs_background": "light"
     },
     "output_type": "display_data"
    }
   ],
   "source": [
    "sns.distplot(df.A2_Score, rug=True, hist=True)"
   ]
  },
  {
   "cell_type": "markdown",
   "id": "26559e77",
   "metadata": {},
   "source": [
    "approximativement une majorité des individus diagonstiqués presente un score_A2 entre 0 et 0.25 et 0.75 à 1. Cependant certains de ces individus présente une valeur nulle "
   ]
  },
  {
   "cell_type": "code",
   "execution_count": 18,
   "id": "9bfdc261",
   "metadata": {},
   "outputs": [
    {
     "name": "stderr",
     "output_type": "stream",
     "text": [
      "C:\\Users\\cheri\\anaconda3\\lib\\site-packages\\seaborn\\distributions.py:2557: FutureWarning: `distplot` is a deprecated function and will be removed in a future version. Please adapt your code to use either `displot` (a figure-level function with similar flexibility) or `histplot` (an axes-level function for histograms).\n",
      "  warnings.warn(msg, FutureWarning)\n",
      "C:\\Users\\cheri\\anaconda3\\lib\\site-packages\\seaborn\\distributions.py:2056: FutureWarning: The `axis` variable is no longer used and will be removed. Instead, assign variables directly to `x` or `y`.\n",
      "  warnings.warn(msg, FutureWarning)\n"
     ]
    },
    {
     "data": {
      "text/plain": [
       "<AxesSubplot:xlabel='A3_Score', ylabel='Density'>"
      ]
     },
     "execution_count": 18,
     "metadata": {},
     "output_type": "execute_result"
    },
    {
     "data": {
      "image/png": "[encoded data removed]",
      "text/plain": [
       "<Figure size 432x288 with 1 Axes>"
      ]
     },
     "metadata": {
      "needs_background": "light"
     },
     "output_type": "display_data"
    }
   ],
   "source": [
    "sns.distplot(df.A3_Score, rug=True, hist=True)"
   ]
  },
  {
   "cell_type": "code",
   "execution_count": 19,
   "id": "aca6b799",
   "metadata": {},
   "outputs": [
    {
     "name": "stderr",
     "output_type": "stream",
     "text": [
      "C:\\Users\\cheri\\anaconda3\\lib\\site-packages\\seaborn\\distributions.py:2557: FutureWarning: `distplot` is a deprecated function and will be removed in a future version. Please adapt your code to use either `displot` (a figure-level function with similar flexibility) or `histplot` (an axes-level function for histograms).\n",
      "  warnings.warn(msg, FutureWarning)\n",
      "C:\\Users\\cheri\\anaconda3\\lib\\site-packages\\seaborn\\distributions.py:2056: FutureWarning: The `axis` variable is no longer used and will be removed. Instead, assign variables directly to `x` or `y`.\n",
      "  warnings.warn(msg, FutureWarning)\n"
     ]
    },
    {
     "data": {
      "text/plain": [
       "<AxesSubplot:xlabel='A4_Score', ylabel='Density'>"
      ]
     },
     "execution_count": 19,
     "metadata": {},
     "output_type": "execute_result"
    },
    {
     "data": {
      "image/png": "[encoded data removed]",
      "text/plain": [
       "<Figure size 432x288 with 1 Axes>"
      ]
     },
     "metadata": {
      "needs_background": "light"
     },
     "output_type": "display_data"
    }
   ],
   "source": [
    "sns.distplot(df.A4_Score, rug=True, hist=True)"
   ]
  },
  {
   "cell_type": "code",
   "execution_count": 20,
   "id": "65113311",
   "metadata": {},
   "outputs": [
    {
     "name": "stderr",
     "output_type": "stream",
     "text": [
      "C:\\Users\\cheri\\anaconda3\\lib\\site-packages\\seaborn\\distributions.py:2557: FutureWarning: `distplot` is a deprecated function and will be removed in a future version. Please adapt your code to use either `displot` (a figure-level function with similar flexibility) or `histplot` (an axes-level function for histograms).\n",
      "  warnings.warn(msg, FutureWarning)\n",
      "C:\\Users\\cheri\\anaconda3\\lib\\site-packages\\seaborn\\distributions.py:2056: FutureWarning: The `axis` variable is no longer used and will be removed. Instead, assign variables directly to `x` or `y`.\n",
      "  warnings.warn(msg, FutureWarning)\n"
     ]
    },
    {
     "data": {
      "text/plain": [
       "<AxesSubplot:xlabel='A5_Score', ylabel='Density'>"
      ]
     },
     "execution_count": 20,
     "metadata": {},
     "output_type": "execute_result"
    },
    {
     "data": {
      "image/png": "[encoded data removed]",
      "text/plain": [
       "<Figure size 432x288 with 1 Axes>"
      ]
     },
     "metadata": {
      "needs_background": "light"
     },
     "output_type": "display_data"
    }
   ],
   "source": [
    "sns.distplot(df.A5_Score, rug=True, hist=True)"
   ]
  },
  {
   "cell_type": "markdown",
   "id": "8094e860",
   "metadata": {},
   "source": [
    "Approximativement une majorité des individus diagonstiqués presente un score_A2, score_A3, score_A4, score_A5 entre 0 et 0.25 et 0.75 à 1. Cependant certains de ces individus présente une valeur nulle . Cependant la distribution de nos données ne suivent pas une loi normale ce qui necessitera une normalisation avant la mis en place d'une procedure d'apprentissage "
   ]
  },
  {
   "cell_type": "code",
   "execution_count": 21,
   "id": "caa22c47",
   "metadata": {},
   "outputs": [
    {
     "data": {
      "text/plain": [
       "<AxesSubplot:ylabel='result'>"
      ]
     },
     "execution_count": 21,
     "metadata": {},
     "output_type": "execute_result"
    },
    {
     "data": {
      "image/png": "[encoded data removed]",
      "text/plain": [
       "<Figure size 360x360 with 1 Axes>"
      ]
     },
     "metadata": {},
     "output_type": "display_data"
    }
   ],
   "source": [
    "df.groupby(\"gender\")[\"result\"].sum().plot.pie(legend=True, figsize=(5, 5))"
   ]
  },
  {
   "cell_type": "markdown",
   "id": "b3aeb24f",
   "metadata": {},
   "source": [
    "Proportionnellement, nous constatons que la proportion des hommes présentant des resultats importants est légere supérieure à celle des femmes."
   ]
  },
  {
   "cell_type": "markdown",
   "id": "cd840bf8",
   "metadata": {},
   "source": [
    "## Netoyage des données"
   ]
  },
  {
   "cell_type": "markdown",
   "id": "12868b06",
   "metadata": {},
   "source": [
    "Ici nous aborderons le pre-processing de notre jeu de données avant la mise la place de la procédure d'apprentissage  "
   ]
  },
  {
   "cell_type": "markdown",
   "id": "55645c92",
   "metadata": {},
   "source": [
    "#### Etude des valeurs nulles"
   ]
  },
  {
   "cell_type": "code",
   "execution_count": 23,
   "id": "c227cf7b",
   "metadata": {},
   "outputs": [],
   "source": [
    "import missingno as mno\n",
    "def showme_mno(df):\n",
    "    return df.isna().sum()"
   ]
  },
  {
   "cell_type": "code",
   "execution_count": 24,
   "id": "428abd57",
   "metadata": {
    "scrolled": true
   },
   "outputs": [
    {
     "data": {
      "image/png": "[encoded data removed]",
      "text/plain": [
       "<Figure size 1800x720 with 2 Axes>"
      ]
     },
     "metadata": {
      "needs_background": "light"
     },
     "output_type": "display_data"
    }
   ],
   "source": [
    "mno.matrix(df);"
   ]
  },
  {
   "cell_type": "markdown",
   "id": "fc5c288e",
   "metadata": {},
   "source": [
    "- Ici nous constatons qu'il n'y a pas de valeur de valeures nulles dans notre jeu de données"
   ]
  },
  {
   "cell_type": "markdown",
   "id": "a2cd4ba8",
   "metadata": {},
   "source": [
    "### Etude des valeurs manquantes ( Missing Values)"
   ]
  },
  {
   "cell_type": "markdown",
   "id": "248e9ed3",
   "metadata": {},
   "source": [
    "- Dans cette section nous traiterons les données manquantes"
   ]
  },
  {
   "cell_type": "markdown",
   "id": "668801bf",
   "metadata": {},
   "source": [
    "Toujours dans le traitement des valeurs manquantes, nous adoptons la stratégie d'imputation vue en cours enfin de nettoyer proprement notre jeu de données.\n",
    "Dans ces stratégies d'imputation nous avons adopté la strategie de simpleImputation disponible dans le module sklearn."
   ]
  },
  {
   "cell_type": "code",
   "execution_count": 25,
   "id": "58c31746",
   "metadata": {},
   "outputs": [
    {
     "data": {
      "text/plain": [
       "array([[1, 1, 1, ..., \"'18 and more'\", 'Self', 'NO'],\n",
       "       [1, 1, 0, ..., \"'18 and more'\", 'Self', 'NO'],\n",
       "       [1, 1, 0, ..., \"'18 and more'\", 'Parent', 'YES'],\n",
       "       ...,\n",
       "       [1, 0, 1, ..., \"'18 and more'\", '?', 'YES'],\n",
       "       [1, 0, 0, ..., \"'18 and more'\", 'Self', 'NO'],\n",
       "       [1, 0, 1, ..., \"'18 and more'\", 'Self', 'YES']], dtype=object)"
      ]
     },
     "execution_count": 25,
     "metadata": {},
     "output_type": "execute_result"
    }
   ],
   "source": [
    "from sklearn.impute import KNNImputer\n",
    "from sklearn.impute import SimpleImputer\n",
    "\n",
    "imp_mean = SimpleImputer(strategy='constant', fill_value=1, add_indicator=True)\n",
    "imp_mean.fit_transform(df)"
   ]
  },
  {
   "cell_type": "code",
   "execution_count": 26,
   "id": "ac767591",
   "metadata": {},
   "outputs": [],
   "source": [
    "indexNames = df[df['relation'] == '?'].index\n",
    "\n",
    "# Delete these row indexes from dataFrame\n",
    "df.drop(indexNames , inplace=True)\n"
   ]
  },
  {
   "cell_type": "code",
   "execution_count": 27,
   "id": "8017f486",
   "metadata": {},
   "outputs": [],
   "source": [
    "indexName2 = df[df['ethnicity'] == '?'].index\n",
    "\n",
    "# Delete these row indexes from dataFrame\n",
    "df.drop(indexName2 , inplace=True)"
   ]
  },
  {
   "cell_type": "code",
   "execution_count": 28,
   "id": "0b55faf3",
   "metadata": {},
   "outputs": [],
   "source": [
    "indexName3 = df[df['age'] == '?'].index\n",
    "\n",
    "# Delete these row indexes from dataFrame\n",
    "df.drop(indexName3 , inplace=True)"
   ]
  },
  {
   "cell_type": "markdown",
   "id": "cfe65137",
   "metadata": {},
   "source": [
    "## Encodage des données"
   ]
  },
  {
   "cell_type": "markdown",
   "id": "c829c1a2",
   "metadata": {},
   "source": [
    "Certaines features de notre dataset sont des variables categoricielles. Cependant, nous aborderons l'encodage des ces variables en des valeurs numériques pour preparer notre jeu de données avant de mettre en place notre modele d'apprentissage "
   ]
  },
  {
   "cell_type": "markdown",
   "id": "db447262",
   "metadata": {},
   "source": [
    "la fonction ci-dessous effectue l'encodage de nos variables cathegoricelles. En effet, elle recupère toutes les varibles cathegoricielles de notre dataset verifie s'ils sont des objets si c'est le cas nous convertissons le type puis l'encoder.\n",
    "On ne conserve que la variable cible (Class/ASD) en une variables cathegorielle(No,YES) ."
   ]
  },
  {
   "cell_type": "code",
   "execution_count": 30,
   "id": "72689d74",
   "metadata": {},
   "outputs": [
    {
     "data": {
      "text/html": [
       "<div>\n",
       "<style scoped>\n",
       "    .dataframe tbody tr th:only-of-type {\n",
       "        vertical-align: middle;\n",
       "    }\n",
       "\n",
       "    .dataframe tbody tr th {\n",
       "        vertical-align: top;\n",
       "    }\n",
       "\n",
       "    .dataframe thead th {\n",
       "        text-align: right;\n",
       "    }\n",
       "</style>\n",
       "<table border=\"1\" class=\"dataframe\">\n",
       "  <thead>\n",
       "    <tr style=\"text-align: right;\">\n",
       "      <th></th>\n",
       "      <th>A1_Score</th>\n",
       "      <th>A2_Score</th>\n",
       "      <th>A3_Score</th>\n",
       "      <th>A4_Score</th>\n",
       "      <th>A5_Score</th>\n",
       "      <th>A6_Score</th>\n",
       "      <th>A7_Score</th>\n",
       "      <th>A8_Score</th>\n",
       "      <th>A9_Score</th>\n",
       "      <th>A10_Score</th>\n",
       "      <th>...</th>\n",
       "      <th>gender</th>\n",
       "      <th>ethnicity</th>\n",
       "      <th>jundice</th>\n",
       "      <th>austim</th>\n",
       "      <th>contry_of_res</th>\n",
       "      <th>used_app_before</th>\n",
       "      <th>result</th>\n",
       "      <th>age_desc</th>\n",
       "      <th>relation</th>\n",
       "      <th>Class/ASD</th>\n",
       "    </tr>\n",
       "  </thead>\n",
       "  <tbody>\n",
       "    <tr>\n",
       "      <th>0</th>\n",
       "      <td>1</td>\n",
       "      <td>1</td>\n",
       "      <td>1</td>\n",
       "      <td>1</td>\n",
       "      <td>0</td>\n",
       "      <td>0</td>\n",
       "      <td>1</td>\n",
       "      <td>1</td>\n",
       "      <td>0</td>\n",
       "      <td>0</td>\n",
       "      <td>...</td>\n",
       "      <td>0</td>\n",
       "      <td>9</td>\n",
       "      <td>0</td>\n",
       "      <td>0</td>\n",
       "      <td>9</td>\n",
       "      <td>0</td>\n",
       "      <td>6</td>\n",
       "      <td>0</td>\n",
       "      <td>4</td>\n",
       "      <td>NO</td>\n",
       "    </tr>\n",
       "    <tr>\n",
       "      <th>1</th>\n",
       "      <td>1</td>\n",
       "      <td>1</td>\n",
       "      <td>0</td>\n",
       "      <td>1</td>\n",
       "      <td>0</td>\n",
       "      <td>0</td>\n",
       "      <td>0</td>\n",
       "      <td>1</td>\n",
       "      <td>0</td>\n",
       "      <td>1</td>\n",
       "      <td>...</td>\n",
       "      <td>1</td>\n",
       "      <td>5</td>\n",
       "      <td>0</td>\n",
       "      <td>1</td>\n",
       "      <td>22</td>\n",
       "      <td>0</td>\n",
       "      <td>5</td>\n",
       "      <td>0</td>\n",
       "      <td>4</td>\n",
       "      <td>NO</td>\n",
       "    </tr>\n",
       "    <tr>\n",
       "      <th>2</th>\n",
       "      <td>1</td>\n",
       "      <td>1</td>\n",
       "      <td>0</td>\n",
       "      <td>1</td>\n",
       "      <td>1</td>\n",
       "      <td>0</td>\n",
       "      <td>1</td>\n",
       "      <td>1</td>\n",
       "      <td>1</td>\n",
       "      <td>1</td>\n",
       "      <td>...</td>\n",
       "      <td>1</td>\n",
       "      <td>5</td>\n",
       "      <td>1</td>\n",
       "      <td>1</td>\n",
       "      <td>54</td>\n",
       "      <td>0</td>\n",
       "      <td>8</td>\n",
       "      <td>0</td>\n",
       "      <td>2</td>\n",
       "      <td>YES</td>\n",
       "    </tr>\n",
       "    <tr>\n",
       "      <th>3</th>\n",
       "      <td>1</td>\n",
       "      <td>1</td>\n",
       "      <td>0</td>\n",
       "      <td>1</td>\n",
       "      <td>0</td>\n",
       "      <td>0</td>\n",
       "      <td>1</td>\n",
       "      <td>1</td>\n",
       "      <td>0</td>\n",
       "      <td>1</td>\n",
       "      <td>...</td>\n",
       "      <td>0</td>\n",
       "      <td>9</td>\n",
       "      <td>0</td>\n",
       "      <td>1</td>\n",
       "      <td>9</td>\n",
       "      <td>0</td>\n",
       "      <td>6</td>\n",
       "      <td>0</td>\n",
       "      <td>4</td>\n",
       "      <td>NO</td>\n",
       "    </tr>\n",
       "    <tr>\n",
       "      <th>5</th>\n",
       "      <td>1</td>\n",
       "      <td>1</td>\n",
       "      <td>1</td>\n",
       "      <td>1</td>\n",
       "      <td>1</td>\n",
       "      <td>0</td>\n",
       "      <td>1</td>\n",
       "      <td>1</td>\n",
       "      <td>1</td>\n",
       "      <td>1</td>\n",
       "      <td>...</td>\n",
       "      <td>1</td>\n",
       "      <td>6</td>\n",
       "      <td>1</td>\n",
       "      <td>0</td>\n",
       "      <td>9</td>\n",
       "      <td>0</td>\n",
       "      <td>9</td>\n",
       "      <td>0</td>\n",
       "      <td>4</td>\n",
       "      <td>YES</td>\n",
       "    </tr>\n",
       "  </tbody>\n",
       "</table>\n",
       "<p>5 rows × 21 columns</p>\n",
       "</div>"
      ],
      "text/plain": [
       "   A1_Score  A2_Score  A3_Score  A4_Score  A5_Score  A6_Score  A7_Score  \\\n",
       "0         1         1         1         1         0         0         1   \n",
       "1         1         1         0         1         0         0         0   \n",
       "2         1         1         0         1         1         0         1   \n",
       "3         1         1         0         1         0         0         1   \n",
       "5         1         1         1         1         1         0         1   \n",
       "\n",
       "   A8_Score  A9_Score  A10_Score  ... gender  ethnicity  jundice  austim  \\\n",
       "0         1         0          0  ...      0          9        0       0   \n",
       "1         1         0          1  ...      1          5        0       1   \n",
       "2         1         1          1  ...      1          5        1       1   \n",
       "3         1         0          1  ...      0          9        0       1   \n",
       "5         1         1          1  ...      1          6        1       0   \n",
       "\n",
       "   contry_of_res  used_app_before  result  age_desc  relation  Class/ASD  \n",
       "0              9                0       6         0         4         NO  \n",
       "1             22                0       5         0         4         NO  \n",
       "2             54                0       8         0         2        YES  \n",
       "3              9                0       6         0         4         NO  \n",
       "5              9                0       9         0         4        YES  \n",
       "\n",
       "[5 rows x 21 columns]"
      ]
     },
     "execution_count": 30,
     "metadata": {},
     "output_type": "execute_result"
    }
   ],
   "source": [
    "#df = pd.get_dummies(df, columns=['age_desc', 'gender', 'jundice', 'austim', 'contry_of_res', 'used_app_before'])\n",
    "\n",
    "columCategory = ['gender', 'ethnicity', 'jundice', 'austim', 'contry_of_res', 'used_app_before', 'age_desc', 'relation']\n",
    "for col in columCategory:\n",
    "    if(df[col].dtype == 'object'):\n",
    "        df[col] = df[col].astype('category')\n",
    "        df[col] = df[col].cat.codes\n",
    "        \n",
    "# On conserve Class/ASD comme variable categorielle\n",
    "df['Class/ASD'] = df['Class/ASD'].replace([0,1],['NO','YES'])\n",
    "\n",
    "df.head()"
   ]
  },
  {
   "cell_type": "code",
   "execution_count": 31,
   "id": "53a95276",
   "metadata": {},
   "outputs": [],
   "source": [
    "# convertir le type de la varible age en int64\n",
    "df['age'] = df['age'].astype('int64')"
   ]
  },
  {
   "cell_type": "markdown",
   "id": "82cf7091",
   "metadata": {},
   "source": [
    "### Etude des valeurs abberantes"
   ]
  },
  {
   "cell_type": "markdown",
   "id": "2c20fbff",
   "metadata": {},
   "source": [
    "##### Visualisation des outliers"
   ]
  },
  {
   "cell_type": "code",
   "execution_count": 32,
   "id": "a737185a",
   "metadata": {},
   "outputs": [
    {
     "data": {
      "image/png": "[encoded data removed]",
      "text/plain": [
       "<Figure size 1800x360 with 4 Axes>"
      ]
     },
     "metadata": {
      "needs_background": "light"
     },
     "output_type": "display_data"
    }
   ],
   "source": [
    "plt.figure(figsize=(25,5))\n",
    "plt.subplot(1,4,1)\n",
    "sns.boxplot(x='Class/ASD',y='gender', data=df)\n",
    "plt.subplot(1,4,2)\n",
    "sns.boxplot(x='Class/ASD',y='gender', data=df)\n",
    "plt.subplot(1,4,3)\n",
    "sns.boxplot(x='Class/ASD',y='jundice', data=df)\n",
    "plt.subplot(1,4,4)\n",
    "sns.boxplot(x='Class/ASD',y='jundice', data=df);"
   ]
  },
  {
   "cell_type": "code",
   "execution_count": 33,
   "id": "6442ed14",
   "metadata": {},
   "outputs": [],
   "source": [
    "def find_all_outlier(v):\n",
    "    Q1 = np.quantile(v, 0.25)\n",
    "    Q3 = np.quantile(v, 0.75)\n",
    "    EIQ = Q3 - Q1\n",
    "    LI = Q1 - (EIQ*1.5)\n",
    "    LS = Q3 + (EIQ*1.5)\n",
    "    i = list(v.index[(v < LI) | (v > LS)])\n",
    "    val = list(v[i])\n",
    "    return i, val"
   ]
  },
  {
   "cell_type": "code",
   "execution_count": 34,
   "id": "2cf823fc",
   "metadata": {},
   "outputs": [],
   "source": [
    "outliers_result = find_all_outlier(df['result'])\n",
    "outliers_result1 = find_all_outlier(df['age'])"
   ]
  },
  {
   "cell_type": "markdown",
   "id": "c7fa9a39",
   "metadata": {},
   "source": [
    "Nous avons implémenté la fonction find_all_outlier() qui permet de determiner les valeurs extremes (outliers), de recuperer et de les supprimer de notre jeu de données. Cette implmentation est basée sur le fonctionnement de diagramme à moustache qui graphiquement detecte les outliers .\n",
    "\n",
    "A l'issue de l'applicationde notre methode nous pouvons dire que :\n",
    "- nous ne contatons pas de valeurs abberantes dans notre jeu de données"
   ]
  },
  {
   "cell_type": "markdown",
   "id": "eeccd5e1",
   "metadata": {},
   "source": [
    "Maintenant que notre jeu de données est propre, nous pouvons passer à la mis en place du modele predictif"
   ]
  },
  {
   "cell_type": "markdown",
   "id": "07f33906",
   "metadata": {},
   "source": [
    "## Apprentissage du modele predictif"
   ]
  },
  {
   "cell_type": "markdown",
   "id": "e861a5db",
   "metadata": {},
   "source": [
    "### découpage du jeu de données"
   ]
  },
  {
   "cell_type": "code",
   "execution_count": 35,
   "id": "d191c2fa",
   "metadata": {},
   "outputs": [],
   "source": [
    "X =df.drop(['Class/ASD'], axis=1).values\n",
    "Y = df['Class/ASD'].values"
   ]
  },
  {
   "cell_type": "markdown",
   "id": "38a0c2c2",
   "metadata": {},
   "source": [
    "## Applicatin de l'algorithme K-NN "
   ]
  },
  {
   "cell_type": "markdown",
   "id": "f53b65d8",
   "metadata": {},
   "source": [
    "L'algorithme des k plus proches voisins (KNN) est un algorithme de machine learning qui appartient à la classe des algorithmes supervisés. En effet, c'est un algorithme très utilisé avec les problèmes de classification et de regression.\\\\"
   ]
  },
  {
   "cell_type": "markdown",
   "id": "357083ba",
   "metadata": {},
   "source": [
    "### Methode de la validation croisée"
   ]
  },
  {
   "cell_type": "markdown",
   "id": "5fc2209c",
   "metadata": {},
   "source": [
    "- La validation croisée est une strategie qui permet d'entrainer un modele de machine learning basée sur une méthode d’estimation de fiabilité d’un modèle fondé sur une technique d’échantillonnage.Nous appliquons cette methodologie car elle nous permet d'avoir des modeles plus performant en choisissant les meilleurs hyperparametres de notre modele à l'issue de l'apprentissage   sur un ensemble de valeurs definies."
   ]
  },
  {
   "cell_type": "markdown",
   "id": "b4509200",
   "metadata": {},
   "source": [
    "### Standardisation des données"
   ]
  },
  {
   "cell_type": "markdown",
   "id": "0fd2f80e",
   "metadata": {},
   "source": [
    "- la standardisation consiste à normaliser les données c'est à dire rendre les valeurs des attributs dans les memes echelles de grandeur."
   ]
  },
  {
   "cell_type": "code",
   "execution_count": 36,
   "id": "d82c7bc2",
   "metadata": {},
   "outputs": [],
   "source": [
    "#definition des hyper-parametres \n",
    "p_k = [1, 5, 10, 15, 20, 25]"
   ]
  },
  {
   "cell_type": "code",
   "execution_count": 37,
   "id": "f7f8eb62",
   "metadata": {},
   "outputs": [],
   "source": [
    "#train_test_split\n",
    "X_av, X_t, Y_av, Y_t = train_test_split(X, Y, test_size=0.5)"
   ]
  },
  {
   "cell_type": "code",
   "execution_count": 38,
   "id": "a5ee1d17",
   "metadata": {},
   "outputs": [],
   "source": [
    "#creation de standardiseur\n",
    "scaler = StandardScaler()"
   ]
  },
  {
   "cell_type": "code",
   "execution_count": 39,
   "id": "685a229f",
   "metadata": {},
   "outputs": [],
   "source": [
    "X_av_scaled = scaler.fit_transform(X_av)"
   ]
  },
  {
   "cell_type": "code",
   "execution_count": 40,
   "id": "2be43bd6",
   "metadata": {},
   "outputs": [
    {
     "data": {
      "text/plain": [
       "array([[ 0.5976143 , -0.92393644,  1.0751876 , ...,  1.56918751,\n",
       "         0.        ,  0.33243124],\n",
       "       [-1.67332005,  1.08232554, -0.93007025, ..., -1.64045423,\n",
       "         0.        ,  0.33243124],\n",
       "       [ 0.5976143 ,  1.08232554,  1.0751876 , ...,  1.97039273,\n",
       "         0.        ,  0.33243124],\n",
       "       ...,\n",
       "       [ 0.5976143 ,  1.08232554, -0.93007025, ..., -0.03563336,\n",
       "         0.        ,  0.33243124],\n",
       "       [ 0.5976143 ,  1.08232554, -0.93007025, ..., -0.43683858,\n",
       "         0.        ,  0.33243124],\n",
       "       [ 0.5976143 , -0.92393644, -0.93007025, ...,  0.76677708,\n",
       "         0.        ,  0.33243124]])"
      ]
     },
     "execution_count": 40,
     "metadata": {},
     "output_type": "execute_result"
    }
   ],
   "source": [
    "X_av_scaled "
   ]
  },
  {
   "cell_type": "code",
   "execution_count": 41,
   "id": "1853197b",
   "metadata": {},
   "outputs": [],
   "source": [
    "X_t_scalled = scaler.transform(X_t)"
   ]
  },
  {
   "cell_type": "code",
   "execution_count": 42,
   "id": "49072ec5",
   "metadata": {},
   "outputs": [],
   "source": [
    "#Construire  k=5 sous ensemble\n",
    "from sklearn import neighbors, metrics\n",
    "\n",
    "# Fixer les valeurs des hyperparamètres à tester\n",
    "param_grid = {'n_neighbors':[1, 5, 10, 15, 20, 25],\n",
    "             'metric' : ['euclidean', 'manhattan']}\n",
    "# Choisir un score à optimiser, ici l'accuracy (proportion de prédictions correctes)\n",
    "score = 'accuracy'"
   ]
  },
  {
   "cell_type": "code",
   "execution_count": 43,
   "id": "35e578ba",
   "metadata": {},
   "outputs": [],
   "source": [
    "from sklearn import model_selection\n",
    "# Créer un classifieur kNN avec recherche d'hyperparamètre par validation croisée\n",
    "clf = model_selection.GridSearchCV(\n",
    "    neighbors.KNeighborsClassifier(), # un classifieur k_NN\n",
    "    param_grid,     # hyperparamètres à tester\n",
    "    cv=5,           # nombre de folds de validation croisée\n",
    "    scoring=score   # score à optimiser\n",
    ")"
   ]
  },
  {
   "cell_type": "code",
   "execution_count": 44,
   "id": "97c12610",
   "metadata": {},
   "outputs": [
    {
     "data": {
      "text/plain": [
       "GridSearchCV(cv=5, estimator=KNeighborsClassifier(),\n",
       "             param_grid={'metric': ['euclidean', 'manhattan'],\n",
       "                         'n_neighbors': [1, 5, 10, 15, 20, 25]},\n",
       "             scoring='accuracy')"
      ]
     },
     "execution_count": 44,
     "metadata": {},
     "output_type": "execute_result"
    }
   ],
   "source": [
    "# Optimiser ce classifieur sur le jeu d'entraînement\n",
    "clf.fit(X_av_scaled, Y_av)"
   ]
  },
  {
   "cell_type": "code",
   "execution_count": 45,
   "id": "6dba0cd0",
   "metadata": {},
   "outputs": [
    {
     "name": "stdout",
     "output_type": "stream",
     "text": [
      "Meilleur(s) hyperparamètre(s) sur le jeu d'entraînement:\n",
      "{'metric': 'manhattan', 'n_neighbors': 25}\n"
     ]
    }
   ],
   "source": [
    "# Afficher le(s) hyperparamètre(s) optimaux\n",
    "print(\"Meilleur(s) hyperparamètre(s) sur le jeu d'entraînement:\")\n",
    "print(clf.best_params_)"
   ]
  },
  {
   "cell_type": "code",
   "execution_count": 46,
   "id": "33c8c725",
   "metadata": {},
   "outputs": [
    {
     "name": "stdout",
     "output_type": "stream",
     "text": [
      "Résultats de la validation croisée :\n",
      "accuracy = 0.914 (+/-0.043) for {'metric': 'euclidean', 'n_neighbors': 1}\n",
      "accuracy = 0.951 (+/-0.055) for {'metric': 'euclidean', 'n_neighbors': 5}\n",
      "accuracy = 0.957 (+/-0.026) for {'metric': 'euclidean', 'n_neighbors': 10}\n",
      "accuracy = 0.961 (+/-0.044) for {'metric': 'euclidean', 'n_neighbors': 15}\n",
      "accuracy = 0.964 (+/-0.038) for {'metric': 'euclidean', 'n_neighbors': 20}\n",
      "accuracy = 0.970 (+/-0.038) for {'metric': 'euclidean', 'n_neighbors': 25}\n",
      "accuracy = 0.934 (+/-0.072) for {'metric': 'manhattan', 'n_neighbors': 1}\n",
      "accuracy = 0.964 (+/-0.013) for {'metric': 'manhattan', 'n_neighbors': 5}\n",
      "accuracy = 0.961 (+/-0.049) for {'metric': 'manhattan', 'n_neighbors': 10}\n",
      "accuracy = 0.977 (+/-0.033) for {'metric': 'manhattan', 'n_neighbors': 15}\n",
      "accuracy = 0.970 (+/-0.032) for {'metric': 'manhattan', 'n_neighbors': 20}\n",
      "accuracy = 0.980 (+/-0.032) for {'metric': 'manhattan', 'n_neighbors': 25}\n"
     ]
    }
   ],
   "source": [
    "# Afficher les performances correspondantes\n",
    "print(\"Résultats de la validation croisée :\")\n",
    "for mean, std, params in zip(\n",
    "        clf.cv_results_['mean_test_score'], # score moyen\n",
    "        clf.cv_results_['std_test_score'],  # écart-type du score\n",
    "        clf.cv_results_['params']           # valeur de l'hyperparamètre\n",
    "    ):\n",
    "\n",
    "    print(\"{} = {:.3f} (+/-{:.03f}) for {}\".format(\n",
    "        score,\n",
    "        mean,\n",
    "        std*2,\n",
    "        params\n",
    "    ) )\n"
   ]
  },
  {
   "cell_type": "markdown",
   "id": "1394bb26",
   "metadata": {},
   "source": [
    "La meilleure performance (~0.972) est ici atteinte avec 25 voisins."
   ]
  },
  {
   "cell_type": "markdown",
   "id": "e2d4caf8",
   "metadata": {},
   "source": [
    "Concernant l'apprentissage et la selection du meilleure valeur de k, nous avons utilisé la methode d'optimisation GridSearchCV de sklearn. L'ensemble d'entrainement est divisé en 5 echantillons qui vont servir à tour de role le jeu de validation lors de l'apprentissage. Ainsi, nous avons obtenu ces resultats ci dessus :\n",
    "- Nous avons obtenu le meilleur modele avec la valeur de k=25.\n",
    "- une precision globale de 97.20\\%"
   ]
  },
  {
   "cell_type": "code",
   "execution_count": 47,
   "id": "c0c21dc6",
   "metadata": {},
   "outputs": [
    {
     "name": "stdout",
     "output_type": "stream",
     "text": [
      "\n",
      "Sur le jeu de test : 0.980\n"
     ]
    }
   ],
   "source": [
    "#la performance sur le jeu de test\n",
    "y_pred_test = clf.predict(X_t_scalled)\n",
    "print(\"\\nSur le jeu de test : {:.3f}\".format(metrics.accuracy_score(Y_t, y_pred_test)))"
   ]
  },
  {
   "cell_type": "markdown",
   "id": "13dca456",
   "metadata": {},
   "source": [
    "En regardant les performances sur le jeu de données test, on constate que le modele offre une precision de 98% sur le jeu de données Teste (X_t), très proche de la performance obtenue lors de l'apprentissage du modele (97.20%) ce qui prouve exactement que notre modele a une capacité de generalisation satisfaisante sur des données de teste."
   ]
  },
  {
   "cell_type": "code",
   "execution_count": 48,
   "id": "b4ca59be",
   "metadata": {},
   "outputs": [],
   "source": [
    "best_model = clf.best_estimator_"
   ]
  },
  {
   "cell_type": "code",
   "execution_count": 49,
   "id": "a83687e6",
   "metadata": {},
   "outputs": [],
   "source": [
    "New_Y_t_pred = best_model.predict(X_t_scalled)"
   ]
  },
  {
   "cell_type": "code",
   "execution_count": 50,
   "id": "ef193e4e",
   "metadata": {},
   "outputs": [
    {
     "name": "stdout",
     "output_type": "stream",
     "text": [
      "              precision    recall  f1-score   support\n",
      "\n",
      "          NO       0.99      0.99      0.99       213\n",
      "         YES       0.97      0.97      0.97        92\n",
      "\n",
      "    accuracy                           0.98       305\n",
      "   macro avg       0.98      0.98      0.98       305\n",
      "weighted avg       0.98      0.98      0.98       305\n",
      "\n"
     ]
    }
   ],
   "source": [
    "print(classification_report(Y_t, New_Y_t_pred))"
   ]
  },
  {
   "cell_type": "markdown",
   "id": "0532f8a4",
   "metadata": {},
   "source": [
    "### Visualisation des limites de décision du classificateur k-NN"
   ]
  },
  {
   "cell_type": "code",
   "execution_count": 51,
   "id": "14b24ac7",
   "metadata": {},
   "outputs": [],
   "source": [
    "from sklearn.metrics import plot_confusion_matrix\n",
    "from sklearn.metrics import confusion_matrix"
   ]
  },
  {
   "cell_type": "code",
   "execution_count": 52,
   "id": "e34034af",
   "metadata": {},
   "outputs": [
    {
     "data": {
      "text/plain": [
       "<sklearn.metrics._plot.confusion_matrix.ConfusionMatrixDisplay at 0x268718c01f0>"
      ]
     },
     "execution_count": 52,
     "metadata": {},
     "output_type": "execute_result"
    },
    {
     "data": {
      "image/png": "[encoded data removed]",
      "text/plain": [
       "<Figure size 432x288 with 2 Axes>"
      ]
     },
     "metadata": {
      "needs_background": "light"
     },
     "output_type": "display_data"
    }
   ],
   "source": [
    "plot_confusion_matrix(best_model, X_t_scalled, Y_t)"
   ]
  },
  {
   "cell_type": "markdown",
   "id": "e0908b3f",
   "metadata": {},
   "source": [
    "En visualisant notre classifcation report et notre matrix de confusion, nous confirmons effectivement que notre modèle présente des resultats satisfaisantes.En effet, les performances du modèle sur le jeu de données test donne de bons resultats sur la précision, le rappel et f1-score. Ce qui témoigne une bonne capacité de généralisation du modèle sur des données autres que celle utilisées lors de l'apprentissage."
   ]
  },
  {
   "cell_type": "markdown",
   "id": "cb8d2ba9",
   "metadata": {},
   "source": [
    "## Applicatin de l'algorithme des forets aleatoires (RandomForest)"
   ]
  },
  {
   "cell_type": "markdown",
   "id": "a42a7fd0",
   "metadata": {},
   "source": [
    "L’algorithme des « forêts aléatoires » (ou Random Forest parfois aussi traduit par forêt d’arbres décisionnels) est un algorithme de classification qui réduit la variance des prévisions d’un arbre de décision seul, améliorant ainsi leurs performances. Pour cela, il combine de nombreux arbres de décisions dans une approche de type bagging."
   ]
  },
  {
   "cell_type": "code",
   "execution_count": 53,
   "id": "ee744240",
   "metadata": {},
   "outputs": [],
   "source": [
    "from sklearn.ensemble import RandomForestClassifier"
   ]
  },
  {
   "cell_type": "code",
   "execution_count": 54,
   "id": "2540c37f",
   "metadata": {},
   "outputs": [],
   "source": [
    "rfc_model = RandomForestClassifier(n_estimators=1000)"
   ]
  },
  {
   "cell_type": "code",
   "execution_count": 55,
   "id": "729cf968",
   "metadata": {},
   "outputs": [],
   "source": [
    "#definition de nos partition\n",
    "#train_test_split\n",
    "X_train, X_test, Y_train, Y_test = train_test_split(X, Y, test_size=0.2)"
   ]
  },
  {
   "cell_type": "code",
   "execution_count": 56,
   "id": "6e3c5c28",
   "metadata": {},
   "outputs": [],
   "source": [
    "#creation de standardiseur\n",
    "scaler2 = StandardScaler()"
   ]
  },
  {
   "cell_type": "code",
   "execution_count": 57,
   "id": "b61ffece",
   "metadata": {},
   "outputs": [],
   "source": [
    "X_train_scaled = scaler.fit_transform(X_train)"
   ]
  },
  {
   "cell_type": "code",
   "execution_count": 58,
   "id": "50f2adc6",
   "metadata": {},
   "outputs": [],
   "source": [
    "X_test_scalled = scaler.transform(X_test)"
   ]
  },
  {
   "cell_type": "code",
   "execution_count": 59,
   "id": "5ccc0383",
   "metadata": {},
   "outputs": [],
   "source": [
    "#Mis en place du modele\n",
    "rfc_model = rfc_model.fit(X_train_scaled, Y_train)"
   ]
  },
  {
   "cell_type": "code",
   "execution_count": 60,
   "id": "4b8f2be2",
   "metadata": {},
   "outputs": [],
   "source": [
    "#Selection des features les plus pertinentes pour notre modele\n",
    "from sklearn.feature_selection import SelectFromModel"
   ]
  },
  {
   "cell_type": "code",
   "execution_count": 61,
   "id": "15492c1a",
   "metadata": {},
   "outputs": [
    {
     "data": {
      "text/plain": [
       "(487, 20)"
      ]
     },
     "execution_count": 61,
     "metadata": {},
     "output_type": "execute_result"
    }
   ],
   "source": [
    "model = SelectFromModel(rfc_model, prefit=True, threshold=0.3)\n",
    "X_train_scalled = model.transform(X_train)\n",
    "X_train_scaled.shape"
   ]
  },
  {
   "cell_type": "code",
   "execution_count": 62,
   "id": "66d90c05",
   "metadata": {},
   "outputs": [],
   "source": [
    "from sklearn.metrics import accuracy_score\n",
    "import timeit"
   ]
  },
  {
   "cell_type": "code",
   "execution_count": 63,
   "id": "15d40485",
   "metadata": {},
   "outputs": [],
   "source": [
    "start_time = timeit.default_timer()\n",
    "prediction = rfc_model.predict(X_test_scalled)\n",
    "elapsed = timeit.default_timer() - start_time\n",
    "time = elapsed\n",
    "out_accuracy = accuracy_score(Y_test, prediction)"
   ]
  },
  {
   "cell_type": "code",
   "execution_count": 64,
   "id": "04ae1b8f",
   "metadata": {},
   "outputs": [
    {
     "name": "stdout",
     "output_type": "stream",
     "text": [
      "La précision du modele: 1.0 %\n"
     ]
    }
   ],
   "source": [
    "print(\"La précision du modele:\", out_accuracy, \"%\")"
   ]
  },
  {
   "cell_type": "markdown",
   "id": "069d630e",
   "metadata": {},
   "source": [
    "l'évaluation de notre modèle nous donne une précision de 100% sur nos données teste ce qui est parfait pour notre modèle car un modèle de prediction prédit au plus la réalité et notre modèle produit des performance proches de la réalité.\n",
    "le RandomForest devient alors trés performant avec notre jeu de données car il justifie une trés bonne capacité de généralisation de notre modéle sur des données differentes de celles utilisées lors de l'apprentissage."
   ]
  },
  {
   "cell_type": "code",
   "execution_count": 65,
   "id": "3a1fad25",
   "metadata": {},
   "outputs": [
    {
     "name": "stdout",
     "output_type": "stream",
     "text": [
      "Le temps d'execution : 0.1077398000000045 S\n"
     ]
    }
   ],
   "source": [
    "print(\"Le temps d'execution :\", time, \"S\")"
   ]
  },
  {
   "cell_type": "markdown",
   "id": "56460857",
   "metadata": {},
   "source": [
    "le temps d'execution de l'algorithme est de 0.14 S "
   ]
  },
  {
   "cell_type": "markdown",
   "id": "426b8fc2",
   "metadata": {},
   "source": [
    "## Comparaison des deux modeles"
   ]
  },
  {
   "cell_type": "markdown",
   "id": "f7806ada",
   "metadata": {},
   "source": [
    "Aprés l'experimentation des deux modeles de classification sur le meme jeu de données, nous pouvons comparer les performences des deux modeles :\n",
    "- nous avons une performance tres satisfaisantes avec l'algorithme K-NN appliqué avec la cross validation surtout avec la maitrise d'avoir les meilleurs parametres du modele parcontre le RandomForest founit de meilleurs resultas par rapport aux K-NN meme si nous avions de trés bonne performances avec le K_NN.\n",
    "- Nous constatons également qu'il y'a un compromis entre les performances du modèle de RandomForest et son temps d'execution alors que le K-NN avec la cross determinent les meilleurs performances du modèle avec ces parametres (K) prédifinis."
   ]
  },
  {
   "cell_type": "markdown",
   "id": "d8d6e440",
   "metadata": {},
   "source": [
    "# Conclusion"
   ]
  },
  {
   "cell_type": "markdown",
   "id": "b282a880",
   "metadata": {},
   "source": [
    "Pour un choix personel, l'algorithme de RandomForest nous semble etre plus efficace et plus pertinent d'aprés les resultats obtenus.En outre, le RandomForest optimise la memoire utilisée qui reste proportionnelles à la taille des arbres, avec surtout une estimation de l'importance des features dans la création des arbres de decisions.Cependant, les RandomForest présentent un probleme majeur celui de l'overfitting car si l'arbre grandit largement, il peut absorber du bruit et facilement overfitter ce qui impactera considerablement sur la prise de décision.\n",
    "L'algorithme K-NN reste l'un des algorithme trés célèbre et trés utilisé dans la classification grace à sa ficilité et sa simplicité de mis en place.Cependant, il est non deterministe car ses performances sont relativement lié au parametres du modèle.\n",
    "Ainsi le choix reste arbitraire, à nous maintenant de bidouiller afin d'améliorer les performances du modèle finale en modifiant et gerant les différents hyperparamètres de contrôle et trouver la bonne balance entre performances de classification /temps de calcul (RandomForest) en particulier et d'autres objectif que nous nous fixons à priori."
   ]
  }
 ],
 "metadata": {
  "kernelspec": {
   "display_name": "Python 3",
   "language": "python",
   "name": "python3"
  },
  "language_info": {
   "codemirror_mode": {
    "name": "ipython",
    "version": 3
   },
   "file_extension": ".py",
   "mimetype": "text/x-python",
   "name": "python",
   "nbconvert_exporter": "python",
   "pygments_lexer": "ipython3",
   "version": "3.8.8"
  }
 },
 "nbformat": 4,
 "nbformat_minor": 5
}
