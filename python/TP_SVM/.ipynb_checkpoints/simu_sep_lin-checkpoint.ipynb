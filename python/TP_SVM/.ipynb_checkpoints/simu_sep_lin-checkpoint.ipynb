{
 "cells": [
  {
   "cell_type": "code",
   "execution_count": null,
   "id": "e9ea6924",
   "metadata": {},
   "outputs": [],
   "source": [
    "### Imports des bibliothèques\n",
    "import numpy as np\n",
    "import matplotlib.pyplot as plt\n",
    "from sklearn.model_selection import train_test_split\n",
    "from sklearn.svm import SVC\n",
    "from sklearn.model_selection import GridSearchCV\n",
    "from sklearn.metrics import classification_report"
   ]
  },
  {
   "cell_type": "code",
   "execution_count": null,
   "id": "7b222854",
   "metadata": {},
   "outputs": [],
   "source": [
    "### Simulation de données en deux dimensions séparables linéairement\n",
    "np.random.seed(42)\n",
    "# Distribution uniforme sur deux dimensions\n",
    "X = np.random.rand(100, 2) \n",
    "# L'étiquette dépend de la valeur de X sur la deuxième dimension\n",
    "y = X[:, 0] > 0.5  \n",
    "lines_noise = np.random.choice(range(len(y)), 5)\n",
    "y[lines_noise] = 1 - y[lines_noise]\n",
    "plt.scatter(X[:, 0],X[:, 1], c = y, cmap = 'coolwarm', s = 100)"
   ]
  },
  {
   "cell_type": "code",
   "execution_count": null,
   "id": "9b5a4734",
   "metadata": {},
   "outputs": [],
   "source": [
    "### Séparation du jeu de données\n",
    "X_train, X_test, y_train, y_test = train_test_split(X, y, test_size = 0.3, random_state = 0)\n",
    "plt.scatter(X_train[:, 0], X_train[:, 1], c = y_train, cmap = 'coolwarm', s = 100)\n",
    "plt.scatter(X_test[:, 0], X_test[:, 1], c = y_test, cmap = 'coolwarm', s = 100, marker = '^')"
   ]
  },
  {
   "cell_type": "code",
   "execution_count": null,
   "id": "dd9744b7",
   "metadata": {},
   "outputs": [],
   "source": [
    "### Procédure d'estimation d'un SVM linéaire pour différentes valeurs de C\n",
    "### -> GridSearchCV\n",
    "\n",
    "parameters = {'kernel': ['linear'], 'C': np.logspace(-1, 1, 3)}\n",
    "score = 'accuracy' #'recall'\n",
    "\n",
    "print(\"# Réglage des hyper-paramètres en fonction de %s\" % score)\n",
    "print()\n",
    "\n",
    "# clf = \n",
    "\n",
    "print(\"Résultats de validation sur l'ensemble des paramètres:\")\n",
    "print()\n",
    "\n",
    "\n",
    "print()        \n",
    "print(\"Meilleurs paramètres:\")\n",
    "# ...\n",
    "print()\n",
    "print(\"Frontière de décision:\")\n",
    "# plot_boundary(...)"
   ]
  },
  {
   "cell_type": "code",
   "execution_count": null,
   "id": "b162edbf",
   "metadata": {},
   "outputs": [],
   "source": [
    "### Résultats de test pour les meilleurs paramètres\n",
    "\n",
    "print(\"Rapport de classification sur l'ensemble de test:\")\n",
    "print()\n",
    "# y_true, y_pred = ...\n",
    "# print(classification_report(y_true, y_pred))"
   ]
  }
 ],
 "metadata": {
  "kernelspec": {
   "display_name": "Python 3 (ipykernel)",
   "language": "python",
   "name": "python3"
  },
  "language_info": {
   "codemirror_mode": {
    "name": "ipython",
    "version": 3
   },
   "file_extension": ".py",
   "mimetype": "text/x-python",
   "name": "python",
   "nbconvert_exporter": "python",
   "pygments_lexer": "ipython3",
   "version": "3.8.12"
  }
 },
 "nbformat": 4,
 "nbformat_minor": 5
}
