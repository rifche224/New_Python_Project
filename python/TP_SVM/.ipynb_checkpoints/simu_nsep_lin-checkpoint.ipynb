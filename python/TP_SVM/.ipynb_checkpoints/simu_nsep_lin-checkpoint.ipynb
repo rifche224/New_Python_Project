{
 "cells": [
  {
   "cell_type": "code",
   "execution_count": null,
   "id": "e9ea6924",
   "metadata": {},
   "outputs": [],
   "source": [
    "### Imports des bibliothèques\n",
    "import numpy as np\n",
    "import matplotlib.pyplot as plt\n",
    "from sklearn.svm import SVC\n",
    "from sklearn.model_selection import GridSearchCV\n",
    "from sklearn.metrics import classification_report"
   ]
  },
  {
   "cell_type": "code",
   "execution_count": null,
   "id": "7b222854",
   "metadata": {},
   "outputs": [],
   "source": [
    "### Simulation de données en deux dimensions séparables linéairement\n",
    "from sklearn.datasets import make_moons\n",
    "X_train, y_train = make_moons(noise = 0.2, random_state = 33, n_samples = 100)\n",
    "plt.scatter(X_train[:, 0], X_train[:, 1], c = y_train, cmap = 'coolwarm', s = 100)\n",
    "X_test, y_test = make_moons(noise = 0.2, random_state = 42, n_samples = 100)\n",
    "plt.scatter(X_test[:, 0], X_test[:, 1], c = y_test, cmap = 'coolwarm', s = 100, marker = '^')"
   ]
  },
  {
   "cell_type": "code",
   "execution_count": null,
   "id": "dd9744b7",
   "metadata": {},
   "outputs": [],
   "source": [
    "### Procédure d'estimation d'un SVM pour différentes valeurs de C et \n",
    "### -> différentes fenêtres du noyau RBF (gamma)\n",
    "### -> différentes degré d'un noyau polynomial (degree)\n",
    "### -> GridSearchCV\n",
    "\n",
    "parameters = [\n",
    "    {'kernel': ['rbf'], 'gamma': np.logspace(-2, 1, 4), 'C': np.logspace(0, 4, 5)},\n",
    "    {'kernel': ['poly'], 'degree': [1, 2, 3, 4], 'C': np.logspace(-2, 2, 5)}\n",
    "]\n",
    "score = 'accuracy' #recall\n",
    "\n",
    "print(\"# Réglage des hyper-paramètres en fonction de %s\" % score)\n",
    "print()\n",
    "\n",
    "# clf = \n",
    "\n",
    "print(\"Résultats de validation sur l'ensemble des paramètres:\")\n",
    "print()\n",
    "\n",
    "\n",
    "print()        \n",
    "print(\"Meilleurs paramètres:\")\n",
    "# ...\n",
    "print()\n",
    "print(\"Frontière de décision:\")\n",
    "# plot_boundary(...)"
   ]
  },
  {
   "cell_type": "code",
   "execution_count": null,
   "id": "b162edbf",
   "metadata": {},
   "outputs": [],
   "source": [
    "### Résultats de test pour les meilleurs paramètres\n",
    "\n",
    "print(\"Rapport de classification sur l'ensemble de test:\")\n",
    "print()\n",
    "# y_true, y_pred = ...\n",
    "# print(classification_report(y_true, y_pred))"
   ]
  }
 ],
 "metadata": {
  "kernelspec": {
   "display_name": "Python 3 (ipykernel)",
   "language": "python",
   "name": "python3"
  },
  "language_info": {
   "codemirror_mode": {
    "name": "ipython",
    "version": 3
   },
   "file_extension": ".py",
   "mimetype": "text/x-python",
   "name": "python",
   "nbconvert_exporter": "python",
   "pygments_lexer": "ipython3",
   "version": "3.8.12"
  }
 },
 "nbformat": 4,
 "nbformat_minor": 5
}
